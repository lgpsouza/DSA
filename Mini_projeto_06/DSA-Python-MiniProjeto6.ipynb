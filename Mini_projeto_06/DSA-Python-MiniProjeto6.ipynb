{
 "cells": [
  {
   "cell_type": "markdown",
   "id": "72ac70f6-5840-4649-94a9-0b589eede30c",
   "metadata": {},
   "source": [
    "<!-- Trabalho Desenvolvido no Curso da Data Science Academy - www.datascienceacademy.com.br -->\n",
    "# <font color='blue'>Data Science Academy</font>\n",
    "# <font color='blue'>Fundamentos de Linguagem Python - Do Básico a Aplicações de IA</font>\n",
    "# <font color='blue'>Mini-Projeto 6</font>\n",
    "# <font color='blue'>Modelo de Classificação Para Análise de Sentimentos</font>"
   ]
  },
  {
   "attachments": {},
   "cell_type": "markdown",
   "id": "2194240c-4b9c-430e-a7df-c63e5b94a0cd",
   "metadata": {},
   "source": [
    "## 1. Definição do Problema de Negócio\n",
    "\n",
    "É a fundação do projeto. Nesta etapa, traduzimos uma necessidade da empresa em um objetivo claro para a Ciência de Dados. Definimos o que queremos resolver (automatizar a classificação de reviews de produtos, por exemplo), por que é importante (reduzir custos, agilizar a tomada de decisão) e como o sucesso será medido.\n",
    "\n",
    "**Definição:**\n",
    "\n",
    "Uma empresa de e-commerce deseja automatizar a análise de feedback de seus clientes. Atualmente, a análise é feita manualmente, o que é um processo lento, caro e que não escala com o volume de reviews recebidos diariamente.\n",
    "\n",
    "**Objetivo:** \n",
    "\n",
    "Criar um modelo de Machine Learning que classifique automaticamente os reviews de produtos como **'positivo'** ou **'negativo'**.\n",
    "\n",
    "**Benefícios Esperados:**\n",
    "* **Eficiência:** Reduzir o tempo e o custo da análise de feedback.\n",
    "* **Tomada de Decisão Rápida:** Permitir que as equipes de produto e marketing identifiquem rapidamente produtos com problemas ou oportunidades de melhoria.\n",
    "* **Priorização:** Direcionar reviews negativos para a equipe de suporte ao cliente de forma prioritária, melhorando a experiência do consumidor."
   ]
  },
  {
   "cell_type": "markdown",
   "id": "40bea8d1-2067-481a-8544-b61f47524e6b",
   "metadata": {},
   "source": [
    "## 2. Importação dos Pacotes\n",
    "\n",
    "Esta é a fase de preparação do ambiente de trabalho. Aqui, carregamos todas as ferramentas e bibliotecas Python necessárias (como Pandas para manipulação de dados, Scikit-learn para modelagem e Matplotlib/Seaborn para visualizações) que serão utilizadas ao longo do projeto."
   ]
  },
  {
   "cell_type": "code",
   "execution_count": 1,
   "id": "e23e9095-119c-47ae-8ed8-1c093b0e85de",
   "metadata": {},
   "outputs": [],
   "source": [
    "# Instala o pacote watermark\n",
    "!pip install -q -U watermark"
   ]
  },
  {
   "cell_type": "code",
   "execution_count": 2,
   "id": "ea114251-86f1-4615-b5c1-b7d6841bf3d4",
   "metadata": {},
   "outputs": [],
   "source": [
    "# Manipulação de dados e visualização\n",
    "import re\n",
    "import pandas as pd\n",
    "import numpy as np\n",
    "import unicodedata\n",
    "import seaborn as sns\n",
    "import matplotlib.pyplot as plt\n",
    "\n",
    "# Pré-Processamento e Machine Learning\n",
    "from sklearn.model_selection import train_test_split, GridSearchCV\n",
    "from sklearn.preprocessing import StandardScaler\n",
    "from sklearn.feature_extraction.text import TfidfVectorizer\n",
    "from sklearn.linear_model import LogisticRegression\n",
    "from sklearn.pipeline import Pipeline\n",
    "from sklearn.metrics import accuracy_score, classification_report, confusion_matrix\n",
    "import joblib"
   ]
  },
  {
   "cell_type": "code",
   "execution_count": 3,
   "id": "16e02072-be01-409b-a2db-364eb2eccd63",
   "metadata": {},
   "outputs": [],
   "source": [
    "# Configurações de visualização\n",
    "sns.set_style('whitegrid')\n",
    "%matplotlib inline"
   ]
  },
  {
   "cell_type": "code",
   "execution_count": 4,
   "id": "ed3d1810-38f4-4b6e-913c-90e2eca5630b",
   "metadata": {},
   "outputs": [
    {
     "name": "stdout",
     "output_type": "stream",
     "text": [
      "Author: Data Science Academy\n",
      "\n"
     ]
    }
   ],
   "source": [
    "%reload_ext watermark\n",
    "%watermark -a \"Data Science Academy\""
   ]
  },
  {
   "cell_type": "code",
   "execution_count": 5,
   "id": "62932c7b-c0f7-4ddb-b856-e599e9484b5b",
   "metadata": {},
   "outputs": [
    {
     "name": "stdout",
     "output_type": "stream",
     "text": [
      "seaborn   : 0.13.2\n",
      "numpy     : 2.3.2\n",
      "joblib    : 1.4.2\n",
      "sklearn   : 1.6.1\n",
      "pandas    : 2.3.1\n",
      "matplotlib: 3.10.0\n",
      "re        : 2.2.1\n",
      "\n"
     ]
    }
   ],
   "source": [
    "%watermark --iversions"
   ]
  },
  {
   "cell_type": "markdown",
   "id": "e7bb7e68-c004-463d-b3e3-6ec0aef57324",
   "metadata": {},
   "source": [
    "## 3. Carregando e Compreendendo os Dados\n",
    "\n",
    "É o primeiro contato com a matéria-prima do projeto. Lemos os dados de uma fonte (no nosso caso, um arquivo CSV) para um DataFrame do Pandas e realizamos uma verificação inicial para entender sua estrutura."
   ]
  },
  {
   "cell_type": "code",
   "execution_count": 6,
   "id": "23978785-ff03-40e3-95f9-ba8f17e48e90",
   "metadata": {},
   "outputs": [],
   "source": [
    "# Define o nome do arquivo\n",
    "nome_arquivo_csv = 'dataset.csv'"
   ]
  },
  {
   "cell_type": "code",
   "execution_count": 7,
   "id": "66ad7c93-4f9a-40bf-a95e-0c95d8ebed2e",
   "metadata": {},
   "outputs": [],
   "source": [
    "# Carrega o dataset\n",
    "df_dsa = pd.read_csv(nome_arquivo_csv)"
   ]
  },
  {
   "cell_type": "code",
   "execution_count": 8,
   "id": "71cc6f38-3723-4b5b-8bcf-ff3b4e063cf4",
   "metadata": {},
   "outputs": [
    {
     "data": {
      "text/plain": [
       "(500, 3)"
      ]
     },
     "execution_count": 8,
     "metadata": {},
     "output_type": "execute_result"
    }
   ],
   "source": [
    "# Shape\n",
    "df_dsa.shape"
   ]
  },
  {
   "cell_type": "code",
   "execution_count": 9,
   "id": "808393e2-27fb-4492-982d-6ced9cfcf2df",
   "metadata": {},
   "outputs": [
    {
     "data": {
      "text/html": [
       "<div>\n",
       "<style scoped>\n",
       "    .dataframe tbody tr th:only-of-type {\n",
       "        vertical-align: middle;\n",
       "    }\n",
       "\n",
       "    .dataframe tbody tr th {\n",
       "        vertical-align: top;\n",
       "    }\n",
       "\n",
       "    .dataframe thead th {\n",
       "        text-align: right;\n",
       "    }\n",
       "</style>\n",
       "<table border=\"1\" class=\"dataframe\">\n",
       "  <thead>\n",
       "    <tr style=\"text-align: right;\">\n",
       "      <th></th>\n",
       "      <th>review_id</th>\n",
       "      <th>texto_review</th>\n",
       "      <th>sentimento</th>\n",
       "    </tr>\n",
       "  </thead>\n",
       "  <tbody>\n",
       "    <tr>\n",
       "      <th>0</th>\n",
       "      <td>1</td>\n",
       "      <td>Estou muito feliz com a compra. O cadeira game...</td>\n",
       "      <td>positivo</td>\n",
       "    </tr>\n",
       "    <tr>\n",
       "      <th>1</th>\n",
       "      <td>2</td>\n",
       "      <td>NaN</td>\n",
       "      <td>negativo</td>\n",
       "    </tr>\n",
       "    <tr>\n",
       "      <th>2</th>\n",
       "      <td>3</td>\n",
       "      <td>Não recomendo. A entrega foi lenta e o celular...</td>\n",
       "      <td>negativo</td>\n",
       "    </tr>\n",
       "    <tr>\n",
       "      <th>3</th>\n",
       "      <td>4</td>\n",
       "      <td>O monitor é decepcionante. O suporte ao client...</td>\n",
       "      <td>positivo</td>\n",
       "    </tr>\n",
       "    <tr>\n",
       "      <th>4</th>\n",
       "      <td>5</td>\n",
       "      <td>É UM LIVRO OK PELO PRÇEO QUE PAGUEI.</td>\n",
       "      <td>negativo</td>\n",
       "    </tr>\n",
       "  </tbody>\n",
       "</table>\n",
       "</div>"
      ],
      "text/plain": [
       "   review_id                                       texto_review sentimento\n",
       "0          1  Estou muito feliz com a compra. O cadeira game...   positivo\n",
       "1          2                                                NaN   negativo\n",
       "2          3  Não recomendo. A entrega foi lenta e o celular...   negativo\n",
       "3          4  O monitor é decepcionante. O suporte ao client...   positivo\n",
       "4          5               É UM LIVRO OK PELO PRÇEO QUE PAGUEI.   negativo"
      ]
     },
     "execution_count": 9,
     "metadata": {},
     "output_type": "execute_result"
    }
   ],
   "source": [
    "# Primeiras linhas\n",
    "df_dsa.head()"
   ]
  },
  {
   "cell_type": "code",
   "execution_count": 10,
   "id": "35c20dec-b284-417c-944e-732499992b88",
   "metadata": {},
   "outputs": [
    {
     "data": {
      "text/html": [
       "<div>\n",
       "<style scoped>\n",
       "    .dataframe tbody tr th:only-of-type {\n",
       "        vertical-align: middle;\n",
       "    }\n",
       "\n",
       "    .dataframe tbody tr th {\n",
       "        vertical-align: top;\n",
       "    }\n",
       "\n",
       "    .dataframe thead th {\n",
       "        text-align: right;\n",
       "    }\n",
       "</style>\n",
       "<table border=\"1\" class=\"dataframe\">\n",
       "  <thead>\n",
       "    <tr style=\"text-align: right;\">\n",
       "      <th></th>\n",
       "      <th>review_id</th>\n",
       "      <th>texto_review</th>\n",
       "      <th>sentimento</th>\n",
       "    </tr>\n",
       "  </thead>\n",
       "  <tbody>\n",
       "    <tr>\n",
       "      <th>418</th>\n",
       "      <td>419</td>\n",
       "      <td>Estou muito satisfeito com a compra. O cadeira...</td>\n",
       "      <td>positivo</td>\n",
       "    </tr>\n",
       "    <tr>\n",
       "      <th>453</th>\n",
       "      <td>454</td>\n",
       "      <td>Odiei o mouse. Qualidade frágil e veio com def...</td>\n",
       "      <td>negativo</td>\n",
       "    </tr>\n",
       "    <tr>\n",
       "      <th>216</th>\n",
       "      <td>217</td>\n",
       "      <td>Estou muito frustrado com esta compra. Dinheir...</td>\n",
       "      <td>negativo</td>\n",
       "    </tr>\n",
       "    <tr>\n",
       "      <th>476</th>\n",
       "      <td>477</td>\n",
       "      <td>Excelente celular, superou minhas expectativas...</td>\n",
       "      <td>positivo</td>\n",
       "    </tr>\n",
       "    <tr>\n",
       "      <th>358</th>\n",
       "      <td>359</td>\n",
       "      <td>Não recomendo. A entrega demorou uma eterindad...</td>\n",
       "      <td>negativo</td>\n",
       "    </tr>\n",
       "    <tr>\n",
       "      <th>238</th>\n",
       "      <td>239</td>\n",
       "      <td>Péssima experiência. O notbeook quebrou no pri...</td>\n",
       "      <td>negativo</td>\n",
       "    </tr>\n",
       "    <tr>\n",
       "      <th>85</th>\n",
       "      <td>86</td>\n",
       "      <td>Simplesmente perfeito! O livro funciona muito ...</td>\n",
       "      <td>positivo</td>\n",
       "    </tr>\n",
       "    <tr>\n",
       "      <th>326</th>\n",
       "      <td>327</td>\n",
       "      <td>Amei o fone de ouvido! A qualidade é incrível ...</td>\n",
       "      <td>positivo</td>\n",
       "    </tr>\n",
       "    <tr>\n",
       "      <th>78</th>\n",
       "      <td>79</td>\n",
       "      <td>Odiei o monitor. Qualidade péssima e veio com ...</td>\n",
       "      <td>negativo</td>\n",
       "    </tr>\n",
       "    <tr>\n",
       "      <th>452</th>\n",
       "      <td>453</td>\n",
       "      <td>Estou muito feliz com a compra. O livro é incr...</td>\n",
       "      <td>positivo</td>\n",
       "    </tr>\n",
       "  </tbody>\n",
       "</table>\n",
       "</div>"
      ],
      "text/plain": [
       "     review_id                                       texto_review sentimento\n",
       "418        419  Estou muito satisfeito com a compra. O cadeira...   positivo\n",
       "453        454  Odiei o mouse. Qualidade frágil e veio com def...   negativo\n",
       "216        217  Estou muito frustrado com esta compra. Dinheir...   negativo\n",
       "476        477  Excelente celular, superou minhas expectativas...   positivo\n",
       "358        359  Não recomendo. A entrega demorou uma eterindad...   negativo\n",
       "238        239  Péssima experiência. O notbeook quebrou no pri...   negativo\n",
       "85          86  Simplesmente perfeito! O livro funciona muito ...   positivo\n",
       "326        327  Amei o fone de ouvido! A qualidade é incrível ...   positivo\n",
       "78          79  Odiei o monitor. Qualidade péssima e veio com ...   negativo\n",
       "452        453  Estou muito feliz com a compra. O livro é incr...   positivo"
      ]
     },
     "execution_count": 10,
     "metadata": {},
     "output_type": "execute_result"
    }
   ],
   "source": [
    "# Amostra dos dados\n",
    "df_dsa.sample(10)"
   ]
  },
  {
   "cell_type": "code",
   "execution_count": 11,
   "id": "f0202171-ee61-40c7-af85-9071fa81f002",
   "metadata": {},
   "outputs": [
    {
     "data": {
      "text/html": [
       "<div>\n",
       "<style scoped>\n",
       "    .dataframe tbody tr th:only-of-type {\n",
       "        vertical-align: middle;\n",
       "    }\n",
       "\n",
       "    .dataframe tbody tr th {\n",
       "        vertical-align: top;\n",
       "    }\n",
       "\n",
       "    .dataframe thead th {\n",
       "        text-align: right;\n",
       "    }\n",
       "</style>\n",
       "<table border=\"1\" class=\"dataframe\">\n",
       "  <thead>\n",
       "    <tr style=\"text-align: right;\">\n",
       "      <th></th>\n",
       "      <th>review_id</th>\n",
       "      <th>texto_review</th>\n",
       "      <th>sentimento</th>\n",
       "    </tr>\n",
       "  </thead>\n",
       "  <tbody>\n",
       "    <tr>\n",
       "      <th>495</th>\n",
       "      <td>496</td>\n",
       "      <td>Odiei o teclado. Qualidade de baixa qualidade ...</td>\n",
       "      <td>negativo</td>\n",
       "    </tr>\n",
       "    <tr>\n",
       "      <th>496</th>\n",
       "      <td>497</td>\n",
       "      <td>Estou muito impressionado com a compra. O moni...</td>\n",
       "      <td>positivo</td>\n",
       "    </tr>\n",
       "    <tr>\n",
       "      <th>497</th>\n",
       "      <td>498</td>\n",
       "      <td>Não recomendo. A entrega demorou uma eternidad...</td>\n",
       "      <td>negativo</td>\n",
       "    </tr>\n",
       "    <tr>\n",
       "      <th>498</th>\n",
       "      <td>499</td>\n",
       "      <td>Estou muito arrependido com esta compra. Dinhe...</td>\n",
       "      <td>negativo</td>\n",
       "    </tr>\n",
       "    <tr>\n",
       "      <th>499</th>\n",
       "      <td>500</td>\n",
       "      <td>Ótimo custo-benefício. O cadeira gamer é incrí...</td>\n",
       "      <td>positivo</td>\n",
       "    </tr>\n",
       "  </tbody>\n",
       "</table>\n",
       "</div>"
      ],
      "text/plain": [
       "     review_id                                       texto_review sentimento\n",
       "495        496  Odiei o teclado. Qualidade de baixa qualidade ...   negativo\n",
       "496        497  Estou muito impressionado com a compra. O moni...   positivo\n",
       "497        498  Não recomendo. A entrega demorou uma eternidad...   negativo\n",
       "498        499  Estou muito arrependido com esta compra. Dinhe...   negativo\n",
       "499        500  Ótimo custo-benefício. O cadeira gamer é incrí...   positivo"
      ]
     },
     "execution_count": 11,
     "metadata": {},
     "output_type": "execute_result"
    }
   ],
   "source": [
    "# Últimas linhas\n",
    "df_dsa.tail()"
   ]
  },
  {
   "cell_type": "markdown",
   "id": "e1569901-b90e-4b0e-ab0b-2602ccdb969b",
   "metadata": {},
   "source": [
    "## 4. Análise Exploratória de Dados (EDA)\n",
    "\n",
    "A fase de investigação. Aqui, \"mergulhamos\" nos dados para descobrir padrões, anomalias e insights. Utilizamos gráficos (como a contagem de sentimentos positivos vs. negativos) e estatísticas para entender a distribuição e as características dos dados antes de qualquer modificação."
   ]
  },
  {
   "cell_type": "code",
   "execution_count": 12,
   "id": "55831404-0ea6-441c-97e2-895ff3a1f751",
   "metadata": {},
   "outputs": [
    {
     "name": "stdout",
     "output_type": "stream",
     "text": [
      "<class 'pandas.core.frame.DataFrame'>\n",
      "RangeIndex: 500 entries, 0 to 499\n",
      "Data columns (total 3 columns):\n",
      " #   Column        Non-Null Count  Dtype \n",
      "---  ------        --------------  ----- \n",
      " 0   review_id     500 non-null    int64 \n",
      " 1   texto_review  488 non-null    object\n",
      " 2   sentimento    500 non-null    object\n",
      "dtypes: int64(1), object(2)\n",
      "memory usage: 11.8+ KB\n"
     ]
    }
   ],
   "source": [
    "# Info\n",
    "df_dsa.info()"
   ]
  },
  {
   "cell_type": "code",
   "execution_count": 13,
   "id": "cf83f539-5d35-4310-8560-7731e467440e",
   "metadata": {},
   "outputs": [
    {
     "name": "stdout",
     "output_type": "stream",
     "text": [
      "\n",
      "Verificando valores ausentes:\n",
      "\n",
      "review_id        0\n",
      "texto_review    12\n",
      "sentimento       0\n",
      "dtype: int64\n"
     ]
    }
   ],
   "source": [
    "print(\"\\nVerificando valores ausentes:\\n\")\n",
    "print(df_dsa.isnull().sum())"
   ]
  },
  {
   "cell_type": "code",
   "execution_count": 14,
   "id": "029058cd-3d07-43b6-b140-90cb32e564e7",
   "metadata": {},
   "outputs": [
    {
     "name": "stdout",
     "output_type": "stream",
     "text": [
      "\n",
      "Distribuição dos Sentimentos:\n",
      "\n"
     ]
    },
    {
     "data": {
      "image/png": "[encoded data removed]",
      "text/plain": [
       "<Figure size 640x480 with 1 Axes>"
      ]
     },
     "metadata": {},
     "output_type": "display_data"
    }
   ],
   "source": [
    "print(\"\\nDistribuição dos Sentimentos:\\n\")\n",
    "sns.countplot(x = 'sentimento', data = df_dsa)\n",
    "plt.title('Distribuição das Classes de Sentimento')\n",
    "plt.show()"
   ]
  },
  {
   "cell_type": "markdown",
   "id": "16d23b37-6f69-436c-a80e-10cedf91f7a4",
   "metadata": {},
   "source": [
    "## 5. Limpeza de Dados\n",
    "\n",
    "Nesta etapa corrigimos os problemas identificados na EDA. Isso inclui tratar valores ausentes (por exemplo, removendo as linhas correspondentes), garantir que os dados estejam no formato correto e aplicar a função de limpeza de texto (dsa_limpa_texto) para normalizar os reviews, removendo acentos, pontuações e caracteres indesejados."
   ]
  },
  {
   "cell_type": "code",
   "execution_count": 15,
   "id": "b8b7320d-1183-4b20-9b08-a6f1cf84ad16",
   "metadata": {},
   "outputs": [
    {
     "name": "stdout",
     "output_type": "stream",
     "text": [
      "\n",
      "Tamanho original do DataFrame: 500\n",
      "Tamanho do DataFrame após remover nulos: 488\n"
     ]
    }
   ],
   "source": [
    "# Remover linhas com valores ausentes\n",
    "print(f\"\\nTamanho original do DataFrame: {len(df_dsa)}\")\n",
    "df_dsa.dropna(subset = ['texto_review'], inplace = True)\n",
    "print(f\"Tamanho do DataFrame após remover nulos: {len(df_dsa)}\")"
   ]
  },
  {
   "cell_type": "code",
   "execution_count": 16,
   "id": "c6457f11-f98f-4b57-a6da-65b49319abbb",
   "metadata": {},
   "outputs": [
    {
     "data": {
      "text/plain": [
       "(488, 3)"
      ]
     },
     "execution_count": 16,
     "metadata": {},
     "output_type": "execute_result"
    }
   ],
   "source": [
    "df_dsa.shape"
   ]
  },
  {
   "cell_type": "code",
   "execution_count": 17,
   "id": "63a8f665-fc55-49e9-81a0-483829f5f3c4",
   "metadata": {},
   "outputs": [
    {
     "data": {
      "text/html": [
       "<div>\n",
       "<style scoped>\n",
       "    .dataframe tbody tr th:only-of-type {\n",
       "        vertical-align: middle;\n",
       "    }\n",
       "\n",
       "    .dataframe tbody tr th {\n",
       "        vertical-align: top;\n",
       "    }\n",
       "\n",
       "    .dataframe thead th {\n",
       "        text-align: right;\n",
       "    }\n",
       "</style>\n",
       "<table border=\"1\" class=\"dataframe\">\n",
       "  <thead>\n",
       "    <tr style=\"text-align: right;\">\n",
       "      <th></th>\n",
       "      <th>review_id</th>\n",
       "      <th>texto_review</th>\n",
       "      <th>sentimento</th>\n",
       "    </tr>\n",
       "  </thead>\n",
       "  <tbody>\n",
       "    <tr>\n",
       "      <th>0</th>\n",
       "      <td>1</td>\n",
       "      <td>Estou muito feliz com a compra. O cadeira game...</td>\n",
       "      <td>positivo</td>\n",
       "    </tr>\n",
       "    <tr>\n",
       "      <th>2</th>\n",
       "      <td>3</td>\n",
       "      <td>Não recomendo. A entrega foi lenta e o celular...</td>\n",
       "      <td>negativo</td>\n",
       "    </tr>\n",
       "    <tr>\n",
       "      <th>3</th>\n",
       "      <td>4</td>\n",
       "      <td>O monitor é decepcionante. O suporte ao client...</td>\n",
       "      <td>positivo</td>\n",
       "    </tr>\n",
       "    <tr>\n",
       "      <th>4</th>\n",
       "      <td>5</td>\n",
       "      <td>É UM LIVRO OK PELO PRÇEO QUE PAGUEI.</td>\n",
       "      <td>negativo</td>\n",
       "    </tr>\n",
       "    <tr>\n",
       "      <th>5</th>\n",
       "      <td>6</td>\n",
       "      <td>Não rceomendo. A entrega atrasou muito e o mon...</td>\n",
       "      <td>positivo</td>\n",
       "    </tr>\n",
       "  </tbody>\n",
       "</table>\n",
       "</div>"
      ],
      "text/plain": [
       "   review_id                                       texto_review sentimento\n",
       "0          1  Estou muito feliz com a compra. O cadeira game...   positivo\n",
       "2          3  Não recomendo. A entrega foi lenta e o celular...   negativo\n",
       "3          4  O monitor é decepcionante. O suporte ao client...   positivo\n",
       "4          5               É UM LIVRO OK PELO PRÇEO QUE PAGUEI.   negativo\n",
       "5          6  Não rceomendo. A entrega atrasou muito e o mon...   positivo"
      ]
     },
     "execution_count": 17,
     "metadata": {},
     "output_type": "execute_result"
    }
   ],
   "source": [
    "df_dsa.head()"
   ]
  },
  {
   "cell_type": "code",
   "execution_count": 18,
   "id": "37ea50c7-2f41-4927-8bdd-8cb9750108ef",
   "metadata": {},
   "outputs": [],
   "source": [
    "# Função de limpeza de texto \n",
    "def dsa_limpa_texto(texto):\n",
    "    \n",
    "    \"\"\"\n",
    "    Função completa de limpeza de texto:\n",
    "    1. Converte para minúsculas.\n",
    "    2. Remove acentos e cedilha.\n",
    "    3. Remove pontuações, números e caracteres especiais.\n",
    "    4. Remove espaços extras.\n",
    "    \"\"\"\n",
    "    \n",
    "    # Garante que o texto não seja nulo (caso haja algum NaN no DataFrame)\n",
    "    if not isinstance(texto, str):\n",
    "        return \"\"\n",
    "\n",
    "    # --- PASSO 1: Normalizar e remover acentos ---\n",
    "    # Normaliza para a forma 'NFKD' que separa o caractere da acentuação\n",
    "    # e depois remove os acentos (Nonspacing Mark)\n",
    "    texto_sem_acentos = ''.join(c for c in unicodedata.normalize('NFKD', texto) if unicodedata.category(c) != 'Mn')\n",
    "\n",
    "    # --- PASSO 2: Limpeza com Regex ---\n",
    "    # Converter para minúsculas\n",
    "    texto_limpo = texto_sem_acentos.lower()\n",
    "    \n",
    "    # Manter apenas letras e espaços. A remoção de acentos já foi feita.\n",
    "    texto_limpo = re.sub(r'[^a-z\\s]', '', texto_limpo)\n",
    "    \n",
    "    # Remover espaços extras\n",
    "    texto_limpo = re.sub(r'\\s+', ' ', texto_limpo).strip()\n",
    "    \n",
    "    return texto_limpo"
   ]
  },
  {
   "cell_type": "code",
   "execution_count": 19,
   "id": "b5ff55d6-736d-4246-998c-edefabf70c2c",
   "metadata": {},
   "outputs": [],
   "source": [
    "# Aplica a função de limpeza\n",
    "df_dsa['texto_limpo'] = df_dsa['texto_review'].apply(dsa_limpa_texto)"
   ]
  },
  {
   "cell_type": "code",
   "execution_count": 20,
   "id": "b5788c19-fef2-4a2a-bb19-44533719ebcf",
   "metadata": {},
   "outputs": [
    {
     "data": {
      "text/html": [
       "<div>\n",
       "<style scoped>\n",
       "    .dataframe tbody tr th:only-of-type {\n",
       "        vertical-align: middle;\n",
       "    }\n",
       "\n",
       "    .dataframe tbody tr th {\n",
       "        vertical-align: top;\n",
       "    }\n",
       "\n",
       "    .dataframe thead th {\n",
       "        text-align: right;\n",
       "    }\n",
       "</style>\n",
       "<table border=\"1\" class=\"dataframe\">\n",
       "  <thead>\n",
       "    <tr style=\"text-align: right;\">\n",
       "      <th></th>\n",
       "      <th>review_id</th>\n",
       "      <th>texto_review</th>\n",
       "      <th>sentimento</th>\n",
       "      <th>texto_limpo</th>\n",
       "    </tr>\n",
       "  </thead>\n",
       "  <tbody>\n",
       "    <tr>\n",
       "      <th>0</th>\n",
       "      <td>1</td>\n",
       "      <td>Estou muito feliz com a compra. O cadeira game...</td>\n",
       "      <td>positivo</td>\n",
       "      <td>estou muito feliz com a compra o cadeira gamer...</td>\n",
       "    </tr>\n",
       "    <tr>\n",
       "      <th>2</th>\n",
       "      <td>3</td>\n",
       "      <td>Não recomendo. A entrega foi lenta e o celular...</td>\n",
       "      <td>negativo</td>\n",
       "      <td>nao recomendo a entrega foi lenta e o celular ...</td>\n",
       "    </tr>\n",
       "    <tr>\n",
       "      <th>3</th>\n",
       "      <td>4</td>\n",
       "      <td>O monitor é decepcionante. O suporte ao client...</td>\n",
       "      <td>positivo</td>\n",
       "      <td>o monitor e decepcionante o suporte ao cliente...</td>\n",
       "    </tr>\n",
       "    <tr>\n",
       "      <th>4</th>\n",
       "      <td>5</td>\n",
       "      <td>É UM LIVRO OK PELO PRÇEO QUE PAGUEI.</td>\n",
       "      <td>negativo</td>\n",
       "      <td>e um livro ok pelo prceo que paguei</td>\n",
       "    </tr>\n",
       "    <tr>\n",
       "      <th>5</th>\n",
       "      <td>6</td>\n",
       "      <td>Não rceomendo. A entrega atrasou muito e o mon...</td>\n",
       "      <td>positivo</td>\n",
       "      <td>nao rceomendo a entrega atrasou muito e o moni...</td>\n",
       "    </tr>\n",
       "  </tbody>\n",
       "</table>\n",
       "</div>"
      ],
      "text/plain": [
       "   review_id                                       texto_review sentimento  \\\n",
       "0          1  Estou muito feliz com a compra. O cadeira game...   positivo   \n",
       "2          3  Não recomendo. A entrega foi lenta e o celular...   negativo   \n",
       "3          4  O monitor é decepcionante. O suporte ao client...   positivo   \n",
       "4          5               É UM LIVRO OK PELO PRÇEO QUE PAGUEI.   negativo   \n",
       "5          6  Não rceomendo. A entrega atrasou muito e o mon...   positivo   \n",
       "\n",
       "                                         texto_limpo  \n",
       "0  estou muito feliz com a compra o cadeira gamer...  \n",
       "2  nao recomendo a entrega foi lenta e o celular ...  \n",
       "3  o monitor e decepcionante o suporte ao cliente...  \n",
       "4                e um livro ok pelo prceo que paguei  \n",
       "5  nao rceomendo a entrega atrasou muito e o moni...  "
      ]
     },
     "execution_count": 20,
     "metadata": {},
     "output_type": "execute_result"
    }
   ],
   "source": [
    "df_dsa.head()"
   ]
  },
  {
   "cell_type": "markdown",
   "id": "10d30cb6-f540-4bce-9049-4326ba18cae9",
   "metadata": {},
   "source": [
    "https://docs.python.org/3/library/re.html"
   ]
  },
  {
   "cell_type": "markdown",
   "id": "729f5899-16c2-4c9c-a1d9-1a793df6991d",
   "metadata": {},
   "source": [
    "## 6. Engenharia de Atributos\n",
    "\n",
    "É a etapa onde transformamos dados brutos em \"features\" (atributos) úteis para o modelo. No nosso projeto, isso envolveu a criação da coluna texto_limpo e, mais importante, a conversão das classes de texto ('positivo', 'negativo') em um formato numérico (sentimento_label: 1, 0), que é o que o algoritmo de Machine Learning consegue entender."
   ]
  },
  {
   "cell_type": "code",
   "execution_count": 21,
   "id": "fe1401d2-3bc6-4bc7-ab7d-ab99dc55960e",
   "metadata": {},
   "outputs": [
    {
     "data": {
      "text/html": [
       "<div>\n",
       "<style scoped>\n",
       "    .dataframe tbody tr th:only-of-type {\n",
       "        vertical-align: middle;\n",
       "    }\n",
       "\n",
       "    .dataframe tbody tr th {\n",
       "        vertical-align: top;\n",
       "    }\n",
       "\n",
       "    .dataframe thead th {\n",
       "        text-align: right;\n",
       "    }\n",
       "</style>\n",
       "<table border=\"1\" class=\"dataframe\">\n",
       "  <thead>\n",
       "    <tr style=\"text-align: right;\">\n",
       "      <th></th>\n",
       "      <th>review_id</th>\n",
       "      <th>texto_review</th>\n",
       "      <th>sentimento</th>\n",
       "      <th>texto_limpo</th>\n",
       "    </tr>\n",
       "  </thead>\n",
       "  <tbody>\n",
       "    <tr>\n",
       "      <th>0</th>\n",
       "      <td>1</td>\n",
       "      <td>Estou muito feliz com a compra. O cadeira game...</td>\n",
       "      <td>positivo</td>\n",
       "      <td>estou muito feliz com a compra o cadeira gamer...</td>\n",
       "    </tr>\n",
       "    <tr>\n",
       "      <th>2</th>\n",
       "      <td>3</td>\n",
       "      <td>Não recomendo. A entrega foi lenta e o celular...</td>\n",
       "      <td>negativo</td>\n",
       "      <td>nao recomendo a entrega foi lenta e o celular ...</td>\n",
       "    </tr>\n",
       "    <tr>\n",
       "      <th>3</th>\n",
       "      <td>4</td>\n",
       "      <td>O monitor é decepcionante. O suporte ao client...</td>\n",
       "      <td>positivo</td>\n",
       "      <td>o monitor e decepcionante o suporte ao cliente...</td>\n",
       "    </tr>\n",
       "    <tr>\n",
       "      <th>4</th>\n",
       "      <td>5</td>\n",
       "      <td>É UM LIVRO OK PELO PRÇEO QUE PAGUEI.</td>\n",
       "      <td>negativo</td>\n",
       "      <td>e um livro ok pelo prceo que paguei</td>\n",
       "    </tr>\n",
       "    <tr>\n",
       "      <th>5</th>\n",
       "      <td>6</td>\n",
       "      <td>Não rceomendo. A entrega atrasou muito e o mon...</td>\n",
       "      <td>positivo</td>\n",
       "      <td>nao rceomendo a entrega atrasou muito e o moni...</td>\n",
       "    </tr>\n",
       "  </tbody>\n",
       "</table>\n",
       "</div>"
      ],
      "text/plain": [
       "   review_id                                       texto_review sentimento  \\\n",
       "0          1  Estou muito feliz com a compra. O cadeira game...   positivo   \n",
       "2          3  Não recomendo. A entrega foi lenta e o celular...   negativo   \n",
       "3          4  O monitor é decepcionante. O suporte ao client...   positivo   \n",
       "4          5               É UM LIVRO OK PELO PRÇEO QUE PAGUEI.   negativo   \n",
       "5          6  Não rceomendo. A entrega atrasou muito e o mon...   positivo   \n",
       "\n",
       "                                         texto_limpo  \n",
       "0  estou muito feliz com a compra o cadeira gamer...  \n",
       "2  nao recomendo a entrega foi lenta e o celular ...  \n",
       "3  o monitor e decepcionante o suporte ao cliente...  \n",
       "4                e um livro ok pelo prceo que paguei  \n",
       "5  nao rceomendo a entrega atrasou muito e o moni...  "
      ]
     },
     "execution_count": 21,
     "metadata": {},
     "output_type": "execute_result"
    }
   ],
   "source": [
    "df_dsa.head()"
   ]
  },
  {
   "cell_type": "code",
   "execution_count": 22,
   "id": "400e4441-8f80-4e39-b6f8-b1960f1447a8",
   "metadata": {},
   "outputs": [],
   "source": [
    "# Mapear o sentimento para valores numéricos (Engenharia de Atributos)\n",
    "df_dsa['sentimento_label'] = df_dsa['sentimento'].map({'positivo': 1, 'negativo': 0})"
   ]
  },
  {
   "cell_type": "code",
   "execution_count": 23,
   "id": "409c5469-1ba3-4496-aa13-34ebfd7120d1",
   "metadata": {},
   "outputs": [
    {
     "name": "stdout",
     "output_type": "stream",
     "text": [
      "\n",
      "DataFrame após a limpeza e mapeamento:\n",
      "\n"
     ]
    },
    {
     "data": {
      "text/html": [
       "<div>\n",
       "<style scoped>\n",
       "    .dataframe tbody tr th:only-of-type {\n",
       "        vertical-align: middle;\n",
       "    }\n",
       "\n",
       "    .dataframe tbody tr th {\n",
       "        vertical-align: top;\n",
       "    }\n",
       "\n",
       "    .dataframe thead th {\n",
       "        text-align: right;\n",
       "    }\n",
       "</style>\n",
       "<table border=\"1\" class=\"dataframe\">\n",
       "  <thead>\n",
       "    <tr style=\"text-align: right;\">\n",
       "      <th></th>\n",
       "      <th>texto_limpo</th>\n",
       "      <th>sentimento_label</th>\n",
       "    </tr>\n",
       "  </thead>\n",
       "  <tbody>\n",
       "    <tr>\n",
       "      <th>0</th>\n",
       "      <td>estou muito feliz com a compra o cadeira gamer...</td>\n",
       "      <td>1</td>\n",
       "    </tr>\n",
       "    <tr>\n",
       "      <th>2</th>\n",
       "      <td>nao recomendo a entrega foi lenta e o celular ...</td>\n",
       "      <td>0</td>\n",
       "    </tr>\n",
       "    <tr>\n",
       "      <th>3</th>\n",
       "      <td>o monitor e decepcionante o suporte ao cliente...</td>\n",
       "      <td>1</td>\n",
       "    </tr>\n",
       "    <tr>\n",
       "      <th>4</th>\n",
       "      <td>e um livro ok pelo prceo que paguei</td>\n",
       "      <td>0</td>\n",
       "    </tr>\n",
       "    <tr>\n",
       "      <th>5</th>\n",
       "      <td>nao rceomendo a entrega atrasou muito e o moni...</td>\n",
       "      <td>1</td>\n",
       "    </tr>\n",
       "  </tbody>\n",
       "</table>\n",
       "</div>"
      ],
      "text/plain": [
       "                                         texto_limpo  sentimento_label\n",
       "0  estou muito feliz com a compra o cadeira gamer...                 1\n",
       "2  nao recomendo a entrega foi lenta e o celular ...                 0\n",
       "3  o monitor e decepcionante o suporte ao cliente...                 1\n",
       "4                e um livro ok pelo prceo que paguei                 0\n",
       "5  nao rceomendo a entrega atrasou muito e o moni...                 1"
      ]
     },
     "execution_count": 23,
     "metadata": {},
     "output_type": "execute_result"
    }
   ],
   "source": [
    "print(\"\\nDataFrame após a limpeza e mapeamento:\\n\")\n",
    "df_dsa[['texto_limpo', 'sentimento_label']].head()"
   ]
  },
  {
   "cell_type": "markdown",
   "id": "08d4582a-94d1-4361-856d-74201abe8fd2",
   "metadata": {},
   "source": [
    "## 7. Divisão em Dados de Treino de Teste\n",
    "\n",
    "Um passo essencial para treinamento e avaliação do modelo. Separamos o conjunto de dados em duas partes: uma maior (treino), que o modelo usará para aprender, e uma menor (teste), que será mantida \"escondida\" do modelo para simular dados novos e avaliar sua real performance após o treinamento."
   ]
  },
  {
   "cell_type": "code",
   "execution_count": 24,
   "id": "d7c1ac3d-ee4c-4e0f-9614-35e1871cce70",
   "metadata": {},
   "outputs": [],
   "source": [
    "# Definir variáveis X (entrada) e y (saída)\n",
    "X = df_dsa['texto_limpo']\n",
    "y = df_dsa['sentimento_label']"
   ]
  },
  {
   "cell_type": "code",
   "execution_count": 25,
   "id": "d0ea4530-14b7-4658-8ced-b3ea68345f32",
   "metadata": {},
   "outputs": [],
   "source": [
    "# Dividir os dados em treino e teste\n",
    "X_treino, X_teste, y_treino, y_teste = train_test_split(X, y, test_size = 0.25, random_state = 42, stratify = y)"
   ]
  },
  {
   "cell_type": "markdown",
   "id": "288a0c4d-bf4c-42eb-913f-2bf9fca299c2",
   "metadata": {},
   "source": [
    "## 8. Pipeline de Modelagem Preditiva\n",
    "\n",
    "Aqui, construímos uma esteira de produção automatizada para o nosso modelo. O Pipeline do Scikit-learn encapsula todas as etapas de pré-processamento (vetorização TF-IDF, padronização com StandardScaler) e o modelo final (Regressão Logística), garantindo que os mesmos passos sejam aplicados de forma consistente nos dados de treino e nos novos dados."
   ]
  },
  {
   "cell_type": "markdown",
   "id": "50bb457d-ab71-46a0-b90d-c5ff32d4719d",
   "metadata": {},
   "source": [
    "https://scikit-learn.org/stable/modules/generated/sklearn.linear_model.LogisticRegression.html"
   ]
  },
  {
   "cell_type": "code",
   "execution_count": 26,
   "id": "85b619d5-fc03-4bc7-bd4f-1aaffdca0df0",
   "metadata": {},
   "outputs": [],
   "source": [
    "# Pipeline \n",
    "pipeline = Pipeline([\n",
    "    \n",
    "    ('tfidf', TfidfVectorizer(stop_words = ['de', 'a', 'o', 'que', 'e', 'do', 'da', 'em', 'um'])),\n",
    "    \n",
    "    ('scaler', StandardScaler(with_mean = False)),\n",
    "    \n",
    "    ('logreg', LogisticRegression(solver = 'liblinear', random_state = 42, max_iter = 1000)) \n",
    "])"
   ]
  },
  {
   "cell_type": "code",
   "execution_count": 27,
   "id": "c61bf973-ad59-4d80-adff-b76b35daff3e",
   "metadata": {},
   "outputs": [
    {
     "data": {
      "text/plain": [
       "sklearn.pipeline.Pipeline"
      ]
     },
     "execution_count": 27,
     "metadata": {},
     "output_type": "execute_result"
    }
   ],
   "source": [
    "type(pipeline)"
   ]
  },
  {
   "cell_type": "markdown",
   "id": "bd5266d4-dcc8-4f8b-803a-d81157fdc78d",
   "metadata": {},
   "source": [
    "O pipeline é composto por três etapas sequenciais, cada uma com um nome ('tfidf', 'scaler', 'logreg') e uma função específica.\n",
    "\n",
    "### 8.1. Vetorização dos Dados de Texto ('tfidf', TfidfVectorizer(...))\n",
    "\n",
    "O que faz? Esta é a primeira etapa, chamada 'tfidf'. Ela usa o TfidfVectorizer para converter o texto bruto em números. Ele transforma cada review em um vetor numérico, onde cada número representa a importância de uma palavra naquele texto em relação a todos os outros textos. Palavras comuns como 'de', 'a', 'o', etc., são ignoradas (stop_words).\n",
    "\n",
    "### 8.2. Padronização de Dados ('scaler', StandardScaler(with_mean=False))\n",
    "\n",
    "O que faz? A segunda etapa, 'scaler', pega os vetores numéricos criados pela etapa anterior e os padroniza. O StandardScaler ajusta a escala de todos os números para que tenham uma variância semelhante. O parâmetro with_mean=False é essencial aqui, pois a matriz de dados do TF-IDF é \"esparsa\" (cheia de zeros), e essa opção preserva essa característica, evitando problemas de memória e computação.\n",
    "\n",
    "### 8.3. Modelo de Machine Learning ('logreg', LogisticRegression(...))\n",
    "\n",
    "O que faz? A etapa final, 'logreg', é o modelo de classificação em si. A LogisticRegression recebe os dados numéricos, já padronizados, e aprende a fazer a previsão final: classificar o texto como \"positivo\" ou \"negativo\".\n",
    "\n",
    "\n",
    "O grande benefício do pipeline é a automação e a consistência. Ao treinar este pipeline, ele aprende a fazer todas as três coisas. Depois, quando você apresenta um novo texto para ele prever, o pipeline automaticamente executa a mesma sequência exata de vetorização, padronização e classificação, garantindo que não haja erros no pré-processamento."
   ]
  },
  {
   "cell_type": "markdown",
   "id": "11694b3d-41ff-4f79-9454-c7bc5cbcaa8a",
   "metadata": {},
   "source": [
    "### 8.4. Otimização de Hiperparâmetros\n",
    "\n",
    "É o ajuste fino do modelo. Usando GridSearchCV, testamos sistematicamente várias combinações de configurações (hiperparâmetros) para o pipeline, a fim de encontrar a combinação que resulta na melhor performance possível."
   ]
  },
  {
   "cell_type": "code",
   "execution_count": 28,
   "id": "c24c7177-b480-452a-8dc2-90f2a090f552",
   "metadata": {},
   "outputs": [],
   "source": [
    "# Definir o grid de hiperparâmetros para otimização\n",
    "parametros_grid = {\n",
    "    'tfidf__max_features': [500, 1000, 2000],\n",
    "    'tfidf__ngram_range': [(1, 1), (1, 2)],\n",
    "    'logreg__C': [0.1, 1, 10],\n",
    "    'logreg__penalty': ['l1', 'l2'],\n",
    "    'logreg__max_iter': [5000, 6000]\n",
    "}"
   ]
  },
  {
   "cell_type": "code",
   "execution_count": 29,
   "id": "b90c947a-97c9-4910-8a25-37cf4aea3964",
   "metadata": {},
   "outputs": [],
   "source": [
    "# Configurar o GridSearchCV\n",
    "grid_search = GridSearchCV(\n",
    "    pipeline,              # Pipeline com as etapas de pré-processamento e modelo\n",
    "    parametros_grid,       # Dicionário com as combinações de hiperparâmetros a serem testadas\n",
    "    cv = 5,                # Número de divisões para validação cruzada (5-fold cross-validation)\n",
    "    n_jobs = -1,           # Usa todos os núcleos disponíveis do processador para acelerar o processo\n",
    "    scoring = 'accuracy',  # Métrica usada para avaliar o desempenho de cada combinação (aqui, acurácia)\n",
    "    verbose = 1            # Nível de detalhamento do output durante a execução (1 exibe progresso básico)\n",
    ")"
   ]
  },
  {
   "cell_type": "markdown",
   "id": "95fb7be6-0996-4680-a5f9-fa71f0f2aafe",
   "metadata": {},
   "source": [
    "Validação cruzada é uma técnica usada para avaliar o desempenho de um modelo dividindo o conjunto de dados em várias partes (ou “folds”). O modelo é treinado em algumas dessas partes e testado em outras, de forma rotativa. Isso permite medir o desempenho de forma mais confiável e geral, evitando que o resultado dependa apenas de uma única divisão dos dados."
   ]
  },
  {
   "cell_type": "markdown",
   "id": "8e062954-da73-4673-a9c5-802abe671272",
   "metadata": {},
   "source": [
    "### 8.5. Treinamento do Modelo\n",
    "\n",
    "Nesta etapa, alimentamos o pipeline com os dados de treino. O GridSearchCV executa o processo de .fit(), onde o algoritmo aprende os padrões que conectam o texto dos reviews aos seus respectivos sentimentos."
   ]
  },
  {
   "cell_type": "code",
   "execution_count": 30,
   "id": "9348b5aa-9497-479c-9450-51a7947ea345",
   "metadata": {},
   "outputs": [
    {
     "name": "stdout",
     "output_type": "stream",
     "text": [
      "\n",
      "Iniciando o treinamento do modelo com otimização de hiperparâmetros...\n",
      "\n",
      "Fitting 5 folds for each of 72 candidates, totalling 360 fits\n"
     ]
    },
    {
     "data": {
      "text/html": [
       "<style>#sk-container-id-1 {\n",
       "  /* Definition of color scheme common for light and dark mode */\n",
       "  --sklearn-color-text: #000;\n",
       "  --sklearn-color-text-muted: #666;\n",
       "  --sklearn-color-line: gray;\n",
       "  /* Definition of color scheme for unfitted estimators */\n",
       "  --sklearn-color-unfitted-level-0: #fff5e6;\n",
       "  --sklearn-color-unfitted-level-1: #f6e4d2;\n",
       "  --sklearn-color-unfitted-level-2: #ffe0b3;\n",
       "  --sklearn-color-unfitted-level-3: chocolate;\n",
       "  /* Definition of color scheme for fitted estimators */\n",
       "  --sklearn-color-fitted-level-0: #f0f8ff;\n",
       "  --sklearn-color-fitted-level-1: #d4ebff;\n",
       "  --sklearn-color-fitted-level-2: #b3dbfd;\n",
       "  --sklearn-color-fitted-level-3: cornflowerblue;\n",
       "\n",
       "  /* Specific color for light theme */\n",
       "  --sklearn-color-text-on-default-background: var(--sg-text-color, var(--theme-code-foreground, var(--jp-content-font-color1, black)));\n",
       "  --sklearn-color-background: var(--sg-background-color, var(--theme-background, var(--jp-layout-color0, white)));\n",
       "  --sklearn-color-border-box: var(--sg-text-color, var(--theme-code-foreground, var(--jp-content-font-color1, black)));\n",
       "  --sklearn-color-icon: #696969;\n",
       "\n",
       "  @media (prefers-color-scheme: dark) {\n",
       "    /* Redefinition of color scheme for dark theme */\n",
       "    --sklearn-color-text-on-default-background: var(--sg-text-color, var(--theme-code-foreground, var(--jp-content-font-color1, white)));\n",
       "    --sklearn-color-background: var(--sg-background-color, var(--theme-background, var(--jp-layout-color0, #111)));\n",
       "    --sklearn-color-border-box: var(--sg-text-color, var(--theme-code-foreground, var(--jp-content-font-color1, white)));\n",
       "    --sklearn-color-icon: #878787;\n",
       "  }\n",
       "}\n",
       "\n",
       "#sk-container-id-1 {\n",
       "  color: var(--sklearn-color-text);\n",
       "}\n",
       "\n",
       "#sk-container-id-1 pre {\n",
       "  padding: 0;\n",
       "}\n",
       "\n",
       "#sk-container-id-1 input.sk-hidden--visually {\n",
       "  border: 0;\n",
       "  clip: rect(1px 1px 1px 1px);\n",
       "  clip: rect(1px, 1px, 1px, 1px);\n",
       "  height: 1px;\n",
       "  margin: -1px;\n",
       "  overflow: hidden;\n",
       "  padding: 0;\n",
       "  position: absolute;\n",
       "  width: 1px;\n",
       "}\n",
       "\n",
       "#sk-container-id-1 div.sk-dashed-wrapped {\n",
       "  border: 1px dashed var(--sklearn-color-line);\n",
       "  margin: 0 0.4em 0.5em 0.4em;\n",
       "  box-sizing: border-box;\n",
       "  padding-bottom: 0.4em;\n",
       "  background-color: var(--sklearn-color-background);\n",
       "}\n",
       "\n",
       "#sk-container-id-1 div.sk-container {\n",
       "  /* jupyter's `normalize.less` sets `[hidden] { display: none; }`\n",
       "     but bootstrap.min.css set `[hidden] { display: none !important; }`\n",
       "     so we also need the `!important` here to be able to override the\n",
       "     default hidden behavior on the sphinx rendered scikit-learn.org.\n",
       "     See: https://github.com/scikit-learn/scikit-learn/issues/21755 */\n",
       "  display: inline-block !important;\n",
       "  position: relative;\n",
       "}\n",
       "\n",
       "#sk-container-id-1 div.sk-text-repr-fallback {\n",
       "  display: none;\n",
       "}\n",
       "\n",
       "div.sk-parallel-item,\n",
       "div.sk-serial,\n",
       "div.sk-item {\n",
       "  /* draw centered vertical line to link estimators */\n",
       "  background-image: linear-gradient(var(--sklearn-color-text-on-default-background), var(--sklearn-color-text-on-default-background));\n",
       "  background-size: 2px 100%;\n",
       "  background-repeat: no-repeat;\n",
       "  background-position: center center;\n",
       "}\n",
       "\n",
       "/* Parallel-specific style estimator block */\n",
       "\n",
       "#sk-container-id-1 div.sk-parallel-item::after {\n",
       "  content: \"\";\n",
       "  width: 100%;\n",
       "  border-bottom: 2px solid var(--sklearn-color-text-on-default-background);\n",
       "  flex-grow: 1;\n",
       "}\n",
       "\n",
       "#sk-container-id-1 div.sk-parallel {\n",
       "  display: flex;\n",
       "  align-items: stretch;\n",
       "  justify-content: center;\n",
       "  background-color: var(--sklearn-color-background);\n",
       "  position: relative;\n",
       "}\n",
       "\n",
       "#sk-container-id-1 div.sk-parallel-item {\n",
       "  display: flex;\n",
       "  flex-direction: column;\n",
       "}\n",
       "\n",
       "#sk-container-id-1 div.sk-parallel-item:first-child::after {\n",
       "  align-self: flex-end;\n",
       "  width: 50%;\n",
       "}\n",
       "\n",
       "#sk-container-id-1 div.sk-parallel-item:last-child::after {\n",
       "  align-self: flex-start;\n",
       "  width: 50%;\n",
       "}\n",
       "\n",
       "#sk-container-id-1 div.sk-parallel-item:only-child::after {\n",
       "  width: 0;\n",
       "}\n",
       "\n",
       "/* Serial-specific style estimator block */\n",
       "\n",
       "#sk-container-id-1 div.sk-serial {\n",
       "  display: flex;\n",
       "  flex-direction: column;\n",
       "  align-items: center;\n",
       "  background-color: var(--sklearn-color-background);\n",
       "  padding-right: 1em;\n",
       "  padding-left: 1em;\n",
       "}\n",
       "\n",
       "\n",
       "/* Toggleable style: style used for estimator/Pipeline/ColumnTransformer box that is\n",
       "clickable and can be expanded/collapsed.\n",
       "- Pipeline and ColumnTransformer use this feature and define the default style\n",
       "- Estimators will overwrite some part of the style using the `sk-estimator` class\n",
       "*/\n",
       "\n",
       "/* Pipeline and ColumnTransformer style (default) */\n",
       "\n",
       "#sk-container-id-1 div.sk-toggleable {\n",
       "  /* Default theme specific background. It is overwritten whether we have a\n",
       "  specific estimator or a Pipeline/ColumnTransformer */\n",
       "  background-color: var(--sklearn-color-background);\n",
       "}\n",
       "\n",
       "/* Toggleable label */\n",
       "#sk-container-id-1 label.sk-toggleable__label {\n",
       "  cursor: pointer;\n",
       "  display: flex;\n",
       "  width: 100%;\n",
       "  margin-bottom: 0;\n",
       "  padding: 0.5em;\n",
       "  box-sizing: border-box;\n",
       "  text-align: center;\n",
       "  align-items: start;\n",
       "  justify-content: space-between;\n",
       "  gap: 0.5em;\n",
       "}\n",
       "\n",
       "#sk-container-id-1 label.sk-toggleable__label .caption {\n",
       "  font-size: 0.6rem;\n",
       "  font-weight: lighter;\n",
       "  color: var(--sklearn-color-text-muted);\n",
       "}\n",
       "\n",
       "#sk-container-id-1 label.sk-toggleable__label-arrow:before {\n",
       "  /* Arrow on the left of the label */\n",
       "  content: \"▸\";\n",
       "  float: left;\n",
       "  margin-right: 0.25em;\n",
       "  color: var(--sklearn-color-icon);\n",
       "}\n",
       "\n",
       "#sk-container-id-1 label.sk-toggleable__label-arrow:hover:before {\n",
       "  color: var(--sklearn-color-text);\n",
       "}\n",
       "\n",
       "/* Toggleable content - dropdown */\n",
       "\n",
       "#sk-container-id-1 div.sk-toggleable__content {\n",
       "  max-height: 0;\n",
       "  max-width: 0;\n",
       "  overflow: hidden;\n",
       "  text-align: left;\n",
       "  /* unfitted */\n",
       "  background-color: var(--sklearn-color-unfitted-level-0);\n",
       "}\n",
       "\n",
       "#sk-container-id-1 div.sk-toggleable__content.fitted {\n",
       "  /* fitted */\n",
       "  background-color: var(--sklearn-color-fitted-level-0);\n",
       "}\n",
       "\n",
       "#sk-container-id-1 div.sk-toggleable__content pre {\n",
       "  margin: 0.2em;\n",
       "  border-radius: 0.25em;\n",
       "  color: var(--sklearn-color-text);\n",
       "  /* unfitted */\n",
       "  background-color: var(--sklearn-color-unfitted-level-0);\n",
       "}\n",
       "\n",
       "#sk-container-id-1 div.sk-toggleable__content.fitted pre {\n",
       "  /* unfitted */\n",
       "  background-color: var(--sklearn-color-fitted-level-0);\n",
       "}\n",
       "\n",
       "#sk-container-id-1 input.sk-toggleable__control:checked~div.sk-toggleable__content {\n",
       "  /* Expand drop-down */\n",
       "  max-height: 200px;\n",
       "  max-width: 100%;\n",
       "  overflow: auto;\n",
       "}\n",
       "\n",
       "#sk-container-id-1 input.sk-toggleable__control:checked~label.sk-toggleable__label-arrow:before {\n",
       "  content: \"▾\";\n",
       "}\n",
       "\n",
       "/* Pipeline/ColumnTransformer-specific style */\n",
       "\n",
       "#sk-container-id-1 div.sk-label input.sk-toggleable__control:checked~label.sk-toggleable__label {\n",
       "  color: var(--sklearn-color-text);\n",
       "  background-color: var(--sklearn-color-unfitted-level-2);\n",
       "}\n",
       "\n",
       "#sk-container-id-1 div.sk-label.fitted input.sk-toggleable__control:checked~label.sk-toggleable__label {\n",
       "  background-color: var(--sklearn-color-fitted-level-2);\n",
       "}\n",
       "\n",
       "/* Estimator-specific style */\n",
       "\n",
       "/* Colorize estimator box */\n",
       "#sk-container-id-1 div.sk-estimator input.sk-toggleable__control:checked~label.sk-toggleable__label {\n",
       "  /* unfitted */\n",
       "  background-color: var(--sklearn-color-unfitted-level-2);\n",
       "}\n",
       "\n",
       "#sk-container-id-1 div.sk-estimator.fitted input.sk-toggleable__control:checked~label.sk-toggleable__label {\n",
       "  /* fitted */\n",
       "  background-color: var(--sklearn-color-fitted-level-2);\n",
       "}\n",
       "\n",
       "#sk-container-id-1 div.sk-label label.sk-toggleable__label,\n",
       "#sk-container-id-1 div.sk-label label {\n",
       "  /* The background is the default theme color */\n",
       "  color: var(--sklearn-color-text-on-default-background);\n",
       "}\n",
       "\n",
       "/* On hover, darken the color of the background */\n",
       "#sk-container-id-1 div.sk-label:hover label.sk-toggleable__label {\n",
       "  color: var(--sklearn-color-text);\n",
       "  background-color: var(--sklearn-color-unfitted-level-2);\n",
       "}\n",
       "\n",
       "/* Label box, darken color on hover, fitted */\n",
       "#sk-container-id-1 div.sk-label.fitted:hover label.sk-toggleable__label.fitted {\n",
       "  color: var(--sklearn-color-text);\n",
       "  background-color: var(--sklearn-color-fitted-level-2);\n",
       "}\n",
       "\n",
       "/* Estimator label */\n",
       "\n",
       "#sk-container-id-1 div.sk-label label {\n",
       "  font-family: monospace;\n",
       "  font-weight: bold;\n",
       "  display: inline-block;\n",
       "  line-height: 1.2em;\n",
       "}\n",
       "\n",
       "#sk-container-id-1 div.sk-label-container {\n",
       "  text-align: center;\n",
       "}\n",
       "\n",
       "/* Estimator-specific */\n",
       "#sk-container-id-1 div.sk-estimator {\n",
       "  font-family: monospace;\n",
       "  border: 1px dotted var(--sklearn-color-border-box);\n",
       "  border-radius: 0.25em;\n",
       "  box-sizing: border-box;\n",
       "  margin-bottom: 0.5em;\n",
       "  /* unfitted */\n",
       "  background-color: var(--sklearn-color-unfitted-level-0);\n",
       "}\n",
       "\n",
       "#sk-container-id-1 div.sk-estimator.fitted {\n",
       "  /* fitted */\n",
       "  background-color: var(--sklearn-color-fitted-level-0);\n",
       "}\n",
       "\n",
       "/* on hover */\n",
       "#sk-container-id-1 div.sk-estimator:hover {\n",
       "  /* unfitted */\n",
       "  background-color: var(--sklearn-color-unfitted-level-2);\n",
       "}\n",
       "\n",
       "#sk-container-id-1 div.sk-estimator.fitted:hover {\n",
       "  /* fitted */\n",
       "  background-color: var(--sklearn-color-fitted-level-2);\n",
       "}\n",
       "\n",
       "/* Specification for estimator info (e.g. \"i\" and \"?\") */\n",
       "\n",
       "/* Common style for \"i\" and \"?\" */\n",
       "\n",
       ".sk-estimator-doc-link,\n",
       "a:link.sk-estimator-doc-link,\n",
       "a:visited.sk-estimator-doc-link {\n",
       "  float: right;\n",
       "  font-size: smaller;\n",
       "  line-height: 1em;\n",
       "  font-family: monospace;\n",
       "  background-color: var(--sklearn-color-background);\n",
       "  border-radius: 1em;\n",
       "  height: 1em;\n",
       "  width: 1em;\n",
       "  text-decoration: none !important;\n",
       "  margin-left: 0.5em;\n",
       "  text-align: center;\n",
       "  /* unfitted */\n",
       "  border: var(--sklearn-color-unfitted-level-1) 1pt solid;\n",
       "  color: var(--sklearn-color-unfitted-level-1);\n",
       "}\n",
       "\n",
       ".sk-estimator-doc-link.fitted,\n",
       "a:link.sk-estimator-doc-link.fitted,\n",
       "a:visited.sk-estimator-doc-link.fitted {\n",
       "  /* fitted */\n",
       "  border: var(--sklearn-color-fitted-level-1) 1pt solid;\n",
       "  color: var(--sklearn-color-fitted-level-1);\n",
       "}\n",
       "\n",
       "/* On hover */\n",
       "div.sk-estimator:hover .sk-estimator-doc-link:hover,\n",
       ".sk-estimator-doc-link:hover,\n",
       "div.sk-label-container:hover .sk-estimator-doc-link:hover,\n",
       ".sk-estimator-doc-link:hover {\n",
       "  /* unfitted */\n",
       "  background-color: var(--sklearn-color-unfitted-level-3);\n",
       "  color: var(--sklearn-color-background);\n",
       "  text-decoration: none;\n",
       "}\n",
       "\n",
       "div.sk-estimator.fitted:hover .sk-estimator-doc-link.fitted:hover,\n",
       ".sk-estimator-doc-link.fitted:hover,\n",
       "div.sk-label-container:hover .sk-estimator-doc-link.fitted:hover,\n",
       ".sk-estimator-doc-link.fitted:hover {\n",
       "  /* fitted */\n",
       "  background-color: var(--sklearn-color-fitted-level-3);\n",
       "  color: var(--sklearn-color-background);\n",
       "  text-decoration: none;\n",
       "}\n",
       "\n",
       "/* Span, style for the box shown on hovering the info icon */\n",
       ".sk-estimator-doc-link span {\n",
       "  display: none;\n",
       "  z-index: 9999;\n",
       "  position: relative;\n",
       "  font-weight: normal;\n",
       "  right: .2ex;\n",
       "  padding: .5ex;\n",
       "  margin: .5ex;\n",
       "  width: min-content;\n",
       "  min-width: 20ex;\n",
       "  max-width: 50ex;\n",
       "  color: var(--sklearn-color-text);\n",
       "  box-shadow: 2pt 2pt 4pt #999;\n",
       "  /* unfitted */\n",
       "  background: var(--sklearn-color-unfitted-level-0);\n",
       "  border: .5pt solid var(--sklearn-color-unfitted-level-3);\n",
       "}\n",
       "\n",
       ".sk-estimator-doc-link.fitted span {\n",
       "  /* fitted */\n",
       "  background: var(--sklearn-color-fitted-level-0);\n",
       "  border: var(--sklearn-color-fitted-level-3);\n",
       "}\n",
       "\n",
       ".sk-estimator-doc-link:hover span {\n",
       "  display: block;\n",
       "}\n",
       "\n",
       "/* \"?\"-specific style due to the `<a>` HTML tag */\n",
       "\n",
       "#sk-container-id-1 a.estimator_doc_link {\n",
       "  float: right;\n",
       "  font-size: 1rem;\n",
       "  line-height: 1em;\n",
       "  font-family: monospace;\n",
       "  background-color: var(--sklearn-color-background);\n",
       "  border-radius: 1rem;\n",
       "  height: 1rem;\n",
       "  width: 1rem;\n",
       "  text-decoration: none;\n",
       "  /* unfitted */\n",
       "  color: var(--sklearn-color-unfitted-level-1);\n",
       "  border: var(--sklearn-color-unfitted-level-1) 1pt solid;\n",
       "}\n",
       "\n",
       "#sk-container-id-1 a.estimator_doc_link.fitted {\n",
       "  /* fitted */\n",
       "  border: var(--sklearn-color-fitted-level-1) 1pt solid;\n",
       "  color: var(--sklearn-color-fitted-level-1);\n",
       "}\n",
       "\n",
       "/* On hover */\n",
       "#sk-container-id-1 a.estimator_doc_link:hover {\n",
       "  /* unfitted */\n",
       "  background-color: var(--sklearn-color-unfitted-level-3);\n",
       "  color: var(--sklearn-color-background);\n",
       "  text-decoration: none;\n",
       "}\n",
       "\n",
       "#sk-container-id-1 a.estimator_doc_link.fitted:hover {\n",
       "  /* fitted */\n",
       "  background-color: var(--sklearn-color-fitted-level-3);\n",
       "}\n",
       "</style><div id=\"sk-container-id-1\" class=\"sk-top-container\"><div class=\"sk-text-repr-fallback\"><pre>GridSearchCV(cv=5,\n",
       "             estimator=Pipeline(steps=[(&#x27;tfidf&#x27;,\n",
       "                                        TfidfVectorizer(stop_words=[&#x27;de&#x27;, &#x27;a&#x27;,\n",
       "                                                                    &#x27;o&#x27;, &#x27;que&#x27;,\n",
       "                                                                    &#x27;e&#x27;, &#x27;do&#x27;,\n",
       "                                                                    &#x27;da&#x27;, &#x27;em&#x27;,\n",
       "                                                                    &#x27;um&#x27;])),\n",
       "                                       (&#x27;scaler&#x27;,\n",
       "                                        StandardScaler(with_mean=False)),\n",
       "                                       (&#x27;logreg&#x27;,\n",
       "                                        LogisticRegression(max_iter=1000,\n",
       "                                                           random_state=42,\n",
       "                                                           solver=&#x27;liblinear&#x27;))]),\n",
       "             n_jobs=-1,\n",
       "             param_grid={&#x27;logreg__C&#x27;: [0.1, 1, 10],\n",
       "                         &#x27;logreg__max_iter&#x27;: [5000, 6000],\n",
       "                         &#x27;logreg__penalty&#x27;: [&#x27;l1&#x27;, &#x27;l2&#x27;],\n",
       "                         &#x27;tfidf__max_features&#x27;: [500, 1000, 2000],\n",
       "                         &#x27;tfidf__ngram_range&#x27;: [(1, 1), (1, 2)]},\n",
       "             scoring=&#x27;accuracy&#x27;, verbose=1)</pre><b>In a Jupyter environment, please rerun this cell to show the HTML representation or trust the notebook. <br />On GitHub, the HTML representation is unable to render, please try loading this page with nbviewer.org.</b></div><div class=\"sk-container\" hidden><div class=\"sk-item sk-dashed-wrapped\"><div class=\"sk-label-container\"><div class=\"sk-label fitted sk-toggleable\"><input class=\"sk-toggleable__control sk-hidden--visually\" id=\"sk-estimator-id-1\" type=\"checkbox\" ><label for=\"sk-estimator-id-1\" class=\"sk-toggleable__label fitted sk-toggleable__label-arrow\"><div><div>GridSearchCV</div></div><div><a class=\"sk-estimator-doc-link fitted\" rel=\"noreferrer\" target=\"_blank\" href=\"https://scikit-learn.org/1.6/modules/generated/sklearn.model_selection.GridSearchCV.html\">?<span>Documentation for GridSearchCV</span></a><span class=\"sk-estimator-doc-link fitted\">i<span>Fitted</span></span></div></label><div class=\"sk-toggleable__content fitted\"><pre>GridSearchCV(cv=5,\n",
       "             estimator=Pipeline(steps=[(&#x27;tfidf&#x27;,\n",
       "                                        TfidfVectorizer(stop_words=[&#x27;de&#x27;, &#x27;a&#x27;,\n",
       "                                                                    &#x27;o&#x27;, &#x27;que&#x27;,\n",
       "                                                                    &#x27;e&#x27;, &#x27;do&#x27;,\n",
       "                                                                    &#x27;da&#x27;, &#x27;em&#x27;,\n",
       "                                                                    &#x27;um&#x27;])),\n",
       "                                       (&#x27;scaler&#x27;,\n",
       "                                        StandardScaler(with_mean=False)),\n",
       "                                       (&#x27;logreg&#x27;,\n",
       "                                        LogisticRegression(max_iter=1000,\n",
       "                                                           random_state=42,\n",
       "                                                           solver=&#x27;liblinear&#x27;))]),\n",
       "             n_jobs=-1,\n",
       "             param_grid={&#x27;logreg__C&#x27;: [0.1, 1, 10],\n",
       "                         &#x27;logreg__max_iter&#x27;: [5000, 6000],\n",
       "                         &#x27;logreg__penalty&#x27;: [&#x27;l1&#x27;, &#x27;l2&#x27;],\n",
       "                         &#x27;tfidf__max_features&#x27;: [500, 1000, 2000],\n",
       "                         &#x27;tfidf__ngram_range&#x27;: [(1, 1), (1, 2)]},\n",
       "             scoring=&#x27;accuracy&#x27;, verbose=1)</pre></div> </div></div><div class=\"sk-parallel\"><div class=\"sk-parallel-item\"><div class=\"sk-item\"><div class=\"sk-label-container\"><div class=\"sk-label fitted sk-toggleable\"><input class=\"sk-toggleable__control sk-hidden--visually\" id=\"sk-estimator-id-2\" type=\"checkbox\" ><label for=\"sk-estimator-id-2\" class=\"sk-toggleable__label fitted sk-toggleable__label-arrow\"><div><div>best_estimator_: Pipeline</div></div></label><div class=\"sk-toggleable__content fitted\"><pre>Pipeline(steps=[(&#x27;tfidf&#x27;,\n",
       "                 TfidfVectorizer(max_features=500,\n",
       "                                 stop_words=[&#x27;de&#x27;, &#x27;a&#x27;, &#x27;o&#x27;, &#x27;que&#x27;, &#x27;e&#x27;, &#x27;do&#x27;,\n",
       "                                             &#x27;da&#x27;, &#x27;em&#x27;, &#x27;um&#x27;])),\n",
       "                (&#x27;scaler&#x27;, StandardScaler(with_mean=False)),\n",
       "                (&#x27;logreg&#x27;,\n",
       "                 LogisticRegression(C=0.1, max_iter=5000, penalty=&#x27;l1&#x27;,\n",
       "                                    random_state=42, solver=&#x27;liblinear&#x27;))])</pre></div> </div></div><div class=\"sk-serial\"><div class=\"sk-item\"><div class=\"sk-serial\"><div class=\"sk-item\"><div class=\"sk-estimator fitted sk-toggleable\"><input class=\"sk-toggleable__control sk-hidden--visually\" id=\"sk-estimator-id-3\" type=\"checkbox\" ><label for=\"sk-estimator-id-3\" class=\"sk-toggleable__label fitted sk-toggleable__label-arrow\"><div><div>TfidfVectorizer</div></div><div><a class=\"sk-estimator-doc-link fitted\" rel=\"noreferrer\" target=\"_blank\" href=\"https://scikit-learn.org/1.6/modules/generated/sklearn.feature_extraction.text.TfidfVectorizer.html\">?<span>Documentation for TfidfVectorizer</span></a></div></label><div class=\"sk-toggleable__content fitted\"><pre>TfidfVectorizer(max_features=500,\n",
       "                stop_words=[&#x27;de&#x27;, &#x27;a&#x27;, &#x27;o&#x27;, &#x27;que&#x27;, &#x27;e&#x27;, &#x27;do&#x27;, &#x27;da&#x27;, &#x27;em&#x27;, &#x27;um&#x27;])</pre></div> </div></div><div class=\"sk-item\"><div class=\"sk-estimator fitted sk-toggleable\"><input class=\"sk-toggleable__control sk-hidden--visually\" id=\"sk-estimator-id-4\" type=\"checkbox\" ><label for=\"sk-estimator-id-4\" class=\"sk-toggleable__label fitted sk-toggleable__label-arrow\"><div><div>StandardScaler</div></div><div><a class=\"sk-estimator-doc-link fitted\" rel=\"noreferrer\" target=\"_blank\" href=\"https://scikit-learn.org/1.6/modules/generated/sklearn.preprocessing.StandardScaler.html\">?<span>Documentation for StandardScaler</span></a></div></label><div class=\"sk-toggleable__content fitted\"><pre>StandardScaler(with_mean=False)</pre></div> </div></div><div class=\"sk-item\"><div class=\"sk-estimator fitted sk-toggleable\"><input class=\"sk-toggleable__control sk-hidden--visually\" id=\"sk-estimator-id-5\" type=\"checkbox\" ><label for=\"sk-estimator-id-5\" class=\"sk-toggleable__label fitted sk-toggleable__label-arrow\"><div><div>LogisticRegression</div></div><div><a class=\"sk-estimator-doc-link fitted\" rel=\"noreferrer\" target=\"_blank\" href=\"https://scikit-learn.org/1.6/modules/generated/sklearn.linear_model.LogisticRegression.html\">?<span>Documentation for LogisticRegression</span></a></div></label><div class=\"sk-toggleable__content fitted\"><pre>LogisticRegression(C=0.1, max_iter=5000, penalty=&#x27;l1&#x27;, random_state=42,\n",
       "                   solver=&#x27;liblinear&#x27;)</pre></div> </div></div></div></div></div></div></div></div></div></div></div>"
      ],
      "text/plain": [
       "GridSearchCV(cv=5,\n",
       "             estimator=Pipeline(steps=[('tfidf',\n",
       "                                        TfidfVectorizer(stop_words=['de', 'a',\n",
       "                                                                    'o', 'que',\n",
       "                                                                    'e', 'do',\n",
       "                                                                    'da', 'em',\n",
       "                                                                    'um'])),\n",
       "                                       ('scaler',\n",
       "                                        StandardScaler(with_mean=False)),\n",
       "                                       ('logreg',\n",
       "                                        LogisticRegression(max_iter=1000,\n",
       "                                                           random_state=42,\n",
       "                                                           solver='liblinear'))]),\n",
       "             n_jobs=-1,\n",
       "             param_grid={'logreg__C': [0.1, 1, 10],\n",
       "                         'logreg__max_iter': [5000, 6000],\n",
       "                         'logreg__penalty': ['l1', 'l2'],\n",
       "                         'tfidf__max_features': [500, 1000, 2000],\n",
       "                         'tfidf__ngram_range': [(1, 1), (1, 2)]},\n",
       "             scoring='accuracy', verbose=1)"
      ]
     },
     "execution_count": 30,
     "metadata": {},
     "output_type": "execute_result"
    }
   ],
   "source": [
    "print(\"\\nIniciando o treinamento do modelo com otimização de hiperparâmetros...\\n\")\n",
    "grid_search.fit(X_treino, y_treino)"
   ]
  },
  {
   "cell_type": "code",
   "execution_count": 31,
   "id": "f22ed00c-423e-45a5-9faf-2a923ad8825a",
   "metadata": {},
   "outputs": [
    {
     "name": "stdout",
     "output_type": "stream",
     "text": [
      "\n",
      "Melhores hiperparâmetros encontrados:\n",
      "\n",
      "{'logreg__C': 0.1, 'logreg__max_iter': 5000, 'logreg__penalty': 'l1', 'tfidf__max_features': 500, 'tfidf__ngram_range': (1, 1)}\n"
     ]
    }
   ],
   "source": [
    "print(\"\\nMelhores hiperparâmetros encontrados:\\n\")\n",
    "print(grid_search.best_params_)"
   ]
  },
  {
   "cell_type": "code",
   "execution_count": 32,
   "id": "f22116c0-aebb-402e-9a30-0d0fd12ca4a7",
   "metadata": {},
   "outputs": [],
   "source": [
    "# Obter o melhor modelo\n",
    "melhor_modelo_dsa = grid_search.best_estimator_"
   ]
  },
  {
   "cell_type": "code",
   "execution_count": 33,
   "id": "d3cbb1d7-af26-4e78-96ab-f3977f2d7d59",
   "metadata": {},
   "outputs": [
    {
     "data": {
      "text/plain": [
       "sklearn.pipeline.Pipeline"
      ]
     },
     "execution_count": 33,
     "metadata": {},
     "output_type": "execute_result"
    }
   ],
   "source": [
    "type(melhor_modelo_dsa)"
   ]
  },
  {
   "cell_type": "markdown",
   "id": "78ba8e05-9ab0-43c3-bf8d-c2798f1b7f40",
   "metadata": {},
   "source": [
    "## 9. Avaliação do Modelo e Interpretação de Métricas\n",
    "\n",
    "É a \"prova final\". Usamos o conjunto de teste (os dados que o modelo nunca viu) para fazer previsões e compará-las com os resultados reais. Métricas como Acurácia, Relatório de Classificação e a Matriz de Confusão nos dizem quão bem o modelo está generalizando e se ele atende aos objetivos de negócio."
   ]
  },
  {
   "cell_type": "code",
   "execution_count": 34,
   "id": "a2e30e8c-1a03-4851-baff-4dd0c744e8e5",
   "metadata": {},
   "outputs": [],
   "source": [
    "# Previsões no conjunto de teste\n",
    "y_pred = melhor_modelo_dsa.predict(X_teste)"
   ]
  },
  {
   "cell_type": "code",
   "execution_count": 35,
   "id": "675dfd79-350d-43d2-8073-02a5d3d0550f",
   "metadata": {},
   "outputs": [],
   "source": [
    "# Calcular as métricas de avaliação\n",
    "acuracia = accuracy_score(y_teste, y_pred)\n",
    "report = classification_report(y_teste, y_pred, target_names = ['Negativo', 'Positivo'])"
   ]
  },
  {
   "cell_type": "code",
   "execution_count": 36,
   "id": "cceaf787-f73c-4b4b-ac2b-4703c555806a",
   "metadata": {},
   "outputs": [
    {
     "name": "stdout",
     "output_type": "stream",
     "text": [
      "\n",
      "Acurácia do Modelo: 81.15%\n",
      "\n",
      "Relatório de Classificação:\n",
      "\n",
      "              precision    recall  f1-score   support\n",
      "\n",
      "    Negativo       0.80      0.81      0.80        58\n",
      "    Positivo       0.83      0.81      0.82        64\n",
      "\n",
      "    accuracy                           0.81       122\n",
      "   macro avg       0.81      0.81      0.81       122\n",
      "weighted avg       0.81      0.81      0.81       122\n",
      "\n"
     ]
    }
   ],
   "source": [
    "print(f\"\\nAcurácia do Modelo: {acuracia:.2%}\\n\")\n",
    "print(\"Relatório de Classificação:\\n\")\n",
    "print(report)"
   ]
  },
  {
   "cell_type": "code",
   "execution_count": 37,
   "id": "4b968c1a-2102-455b-a815-d217906f6458",
   "metadata": {},
   "outputs": [
    {
     "data": {
      "image/png": "[encoded data removed]",
      "text/plain": [
       "<Figure size 640x480 with 2 Axes>"
      ]
     },
     "metadata": {},
     "output_type": "display_data"
    }
   ],
   "source": [
    "# Visualizar a Matriz de Confusão\n",
    "cm = confusion_matrix(y_teste, y_pred)\n",
    "sns.heatmap(cm, annot = True, fmt = 'd', cmap = 'Blues',\n",
    "            xticklabels = ['Negativo', 'Positivo'],\n",
    "            yticklabels = ['Negativo', 'Positivo'])\n",
    "plt.xlabel('Previsão')\n",
    "plt.ylabel('Verdadeiro')\n",
    "plt.title('Matriz de Confusão')\n",
    "plt.show()"
   ]
  },
  {
   "cell_type": "markdown",
   "id": "64221360-cb7b-47c3-b9dd-d94c5dd5db52",
   "metadata": {},
   "source": [
    "**1. Acurácia (Accuracy)**\n",
    "\n",
    "De todos os reviews (positivos e negativos) que o modelo analisou, qual a porcentagem total de acertos?\n",
    "\n",
    "Em nosso contexto: Se você passou 100 reviews pelo modelo e ele acertou a classificação de 92 deles (independentemente de serem positivos ou negativos), a acurácia é de 92%. É a medida mais geral de performance.\n",
    "\n",
    "**2. Precisão (Precision)**\n",
    "\n",
    "Esta métrica é calculada para cada classe.\n",
    "\n",
    "Precisão para a classe 'Positivo': Dos reviews que o modelo rotulou como 'Positivos', quantos eram realmente Positivos?\n",
    "\n",
    "Em nosso contexto: Se o modelo marcou 10 reviews como \"Positivos\", mas apenas 9 deles eram de fato positivos (e 1 era um erro, um falso positivo), a precisão para a classe 'Positivo' é de 90%.\n",
    "\n",
    "Importância: Uma alta precisão aqui significa que você pode confiar na etiqueta \"Positivo\". Se você for usar esses reviews em um material de marketing, por exemplo, não quer mostrar acidentalmente um review negativo.\n",
    "\n",
    "Precisão para a classe 'Negativo': Dos reviews que o modelo rotulou como 'Negativos', quantos eram realmente Negativos?\n",
    "\n",
    "Em nosso contexto: Se o modelo marcou 10 reviews como \"Negativos\" e todos os 10 eram de fato negativos, a precisão para a classe 'Negativo' é de 100%.\n",
    "\n",
    "Importância: Essencial para a equipe de suporte. Uma alta precisão aqui garante que o tempo da equipe não seja gasto analisando reviews que na verdade eram positivos (falsos negativos para o time de suporte).\n",
    "\n",
    "**3. Recall**\n",
    "\n",
    "Esta métrica também é calculada para cada classe.\n",
    "\n",
    "Recall para a classe 'Positivo': De todos os reviews que realmente eram Positivos, quantos o seu modelo conseguiu encontrar?\n",
    "\n",
    "Em nosso contexto: Se existiam 12 reviews positivos no total, mas o seu modelo só conseguiu identificar 9 deles (deixando 3 passarem despercebidos), o recall para a classe 'Positivo' é de 75% (9 de 12).\n",
    "\n",
    "Importância: Um alto recall aqui garante que você está capturando a maior parte do feedback positivo. Você não está perdendo a oportunidade de identificar clientes satisfeitos.\n",
    "\n",
    "Recall para a classe 'Negativo': De todos os reviews que realmente eram Negativos, quantos o seu modelo conseguiu encontrar?\n",
    "\n",
    "Em nosso contexto: Se existiam 10 clientes insatisfeitos (reviews negativos), e o modelo identificou 9 deles, o recall para 'Negativo' é de 90%. Ele \"deixou escapar\" um cliente insatisfeito.\n",
    "\n",
    "Importância: Talvez a métrica mais crítica para a gestão de crises. Um alto recall para 'Negativo' é vital para garantir que quase nenhuma reclamação passe despercebida e que a equipe de suporte possa agir.\n",
    "\n",
    "**4. F1-Score**\n",
    "\n",
    "Qual é o balanço equilibrado entre a Precisão e o Recall para cada classe?\n",
    "\n",
    "Em nosso contexto: É uma única nota que combina as duas métricas anteriores. O F1-Score para a classe 'Positivo' só será alto se tanto a precisão quanto o recall para 'Positivo' forem altos. Ele evita o cenário onde um modelo é ótimo em uma métrica, mas péssimo em outra. É frequentemente a melhor métrica para avaliar a performance do modelo em uma classe específica.\n",
    "\n",
    "**5. Support (Suporte)**\n",
    "\n",
    "Quantos reviews de cada classe realmente existiam no meu conjunto de teste?\n",
    "\n",
    "Em nosso contexto: Se o relatório mostra um support de 58 para 'Positivo' e 62 para 'Negativo', significa que no seu conjunto de dados de teste havia 58 reviews positivos e 62 negativos.\n",
    "\n",
    "Importância: Dá contexto aos resultados. Se o support de uma classe for muito baixo, as métricas de performance para essa classe são menos confiáveis, pois foram calculadas com base em poucos exemplos."
   ]
  },
  {
   "cell_type": "code",
   "execution_count": 38,
   "id": "cd0d2a0a-4953-4a44-b36f-114e71aa7c15",
   "metadata": {},
   "outputs": [
    {
     "data": {
      "text/plain": [
       "['modelo_sentimento_dsa_v1.joblib']"
      ]
     },
     "execution_count": 38,
     "metadata": {},
     "output_type": "execute_result"
    }
   ],
   "source": [
    "# Se estivermos satisfeitos com a performance do modelo, salvamos em disco\n",
    "joblib.dump(melhor_modelo_dsa, 'modelo_sentimento_dsa_v1.joblib')"
   ]
  },
  {
   "cell_type": "code",
   "execution_count": 39,
   "id": "9f9a357c-0222-4479-8caf-06116ca2ed1c",
   "metadata": {},
   "outputs": [],
   "source": [
    "# Pode deletar o modelo treinado e removê-lo da memória\n",
    "del melhor_modelo_dsa"
   ]
  },
  {
   "cell_type": "markdown",
   "id": "2a9f2fc0-473a-4109-a81a-c1eb1d36a839",
   "metadata": {},
   "source": [
    "**Nota: Normalmente aqui termina o trabalho de um Cientista de Dados. A etapa a seguir é, normalmente, responsabilidade de um Engenheiro de Machine Learning.**"
   ]
  },
  {
   "cell_type": "markdown",
   "id": "cbfa6c1d-c5cc-4abf-beb2-36b35cabbbda",
   "metadata": {},
   "source": [
    "## 10. MLOps, Deploy e Uso do Modelo\n",
    "\n",
    "A etapa final, onde o modelo começa a gerar valor real. \"Deploy\" significa colocar o modelo treinado em produção. No nosso caso, simulamos isso criando a função dsa_prever_sentimento, que encapsula o pipeline treinado e pode ser usada para classificar novos reviews de forma rápida e automática.\n",
    "\n",
    "Leia sobre MLOps no Capítulo 11 do curso."
   ]
  },
  {
   "cell_type": "code",
   "execution_count": 40,
   "id": "c225a54d-49be-4b45-9485-89407fddf4b9",
   "metadata": {},
   "outputs": [],
   "source": [
    "# Carregar o modelo a partir do disco\n",
    "modelo_dsa_deploy = joblib.load('modelo_sentimento_dsa_v1.joblib')"
   ]
  },
  {
   "cell_type": "code",
   "execution_count": 41,
   "id": "60ebdf43-6bd6-444b-9ea8-9f5318276595",
   "metadata": {},
   "outputs": [
    {
     "data": {
      "text/plain": [
       "sklearn.pipeline.Pipeline"
      ]
     },
     "execution_count": 41,
     "metadata": {},
     "output_type": "execute_result"
    }
   ],
   "source": [
    "type(modelo_dsa_deploy)"
   ]
  },
  {
   "cell_type": "code",
   "execution_count": 42,
   "id": "d24d28a4-513c-422b-8d10-90556f763f0d",
   "metadata": {},
   "outputs": [],
   "source": [
    "# Criar novos dados para simular o uso em produção\n",
    "novos_reviews = [\n",
    "    \"A bateria do celular não dura nada, péssima compra.\",\n",
    "    \"Chegou antes do prazo e o produto é de ótima qualidade! Estou muito feliz.\",\n",
    "    \"O serviço de atendimento foi rápido e eficiente.\",\n",
    "    \"Não recomendo, veio faltando peças e a cor estava errada.\"\n",
    "]"
   ]
  },
  {
   "cell_type": "code",
   "execution_count": 43,
   "id": "15469622-46ce-43c5-bfe3-52ad07df2532",
   "metadata": {},
   "outputs": [],
   "source": [
    "# Função para prever o sentimento de novos reviews \n",
    "def dsa_prever_sentimento(reviews):\n",
    "    \n",
    "    \"\"\"\n",
    "    Recebe uma lista de textos de review e retorna a previsão de sentimento.\n",
    "    O objeto 'melhor_modelo_dsa' (pipeline) cuida de todos os passos internos.\n",
    "    \"\"\"\n",
    "    \n",
    "    # 1. 'reviews' entra no pipeline\n",
    "    # 2. TF-IDF é aplicado internamente\n",
    "    # 3. StandardScaler é aplicado internamente\n",
    "    # 4. LogisticRegression faz a previsão\n",
    "    previsoes = modelo_dsa_deploy.predict(reviews)\n",
    "    \n",
    "    # Mapeia o resultado numérico de volta para texto\n",
    "    sentimentos = ['Negativo' if p == 0 else 'Positivo' for p in previsoes]\n",
    "    \n",
    "    # Exibe os resultados\n",
    "    for review, sentimento in zip(reviews, sentimentos):\n",
    "        print(f\"\\nReview: '{review}'\\nSentimento Previsto: {sentimento}\\n---\")"
   ]
  },
  {
   "cell_type": "code",
   "execution_count": 44,
   "id": "dd895687-2714-4ca7-81b3-606ac77ee5fe",
   "metadata": {},
   "outputs": [
    {
     "name": "stdout",
     "output_type": "stream",
     "text": [
      "\n",
      "--- Iniciando Classificação de Novos Reviews (Deploy com Pipeline Completo) ---\n",
      "\n",
      "\n",
      "Review: 'A bateria do celular não dura nada, péssima compra.'\n",
      "Sentimento Previsto: Negativo\n",
      "---\n",
      "\n",
      "Review: 'Chegou antes do prazo e o produto é de ótima qualidade! Estou muito feliz.'\n",
      "Sentimento Previsto: Positivo\n",
      "---\n",
      "\n",
      "Review: 'O serviço de atendimento foi rápido e eficiente.'\n",
      "Sentimento Previsto: Negativo\n",
      "---\n",
      "\n",
      "Review: 'Não recomendo, veio faltando peças e a cor estava errada.'\n",
      "Sentimento Previsto: Negativo\n",
      "---\n"
     ]
    }
   ],
   "source": [
    "# Executar a função de deploy com os novos dados\n",
    "print(\"\\n--- Iniciando Classificação de Novos Reviews (Deploy com Pipeline Completo) ---\\n\")\n",
    "dsa_prever_sentimento(novos_reviews)"
   ]
  },
  {
   "cell_type": "markdown",
   "id": "3bef2647-e545-4a06-8922-b7c8e40456c6",
   "metadata": {},
   "source": [
    "**Projeto concluído, projeto entregue, cliente feliz, partimos para o próximo projeto! :-)**"
   ]
  },
  {
   "cell_type": "markdown",
   "id": "0e70e92c-24ab-4d41-8362-89841f80232f",
   "metadata": {},
   "source": [
    "# Fim"
   ]
  }
 ],
 "metadata": {
  "kernelspec": {
   "display_name": "Python 3 (ipykernel)",
   "language": "python",
   "name": "python3"
  },
  "language_info": {
   "codemirror_mode": {
    "name": "ipython",
    "version": 3
   },
   "file_extension": ".py",
   "mimetype": "text/x-python",
   "name": "python",
   "nbconvert_exporter": "python",
   "pygments_lexer": "ipython3",
   "version": "3.13.5"
  }
 },
 "nbformat": 4,
 "nbformat_minor": 5
}
