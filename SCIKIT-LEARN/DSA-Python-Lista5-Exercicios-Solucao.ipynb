{
 "cells": [
  {
   "cell_type": "markdown",
   "id": "61d979b2-a85f-4d69-901e-b3bb69419a3e",
   "metadata": {},
   "source": [
    "<!-- Trabalho Desenvolvido na Data Science Academy - www.datascienceacademy.com.br -->\n",
    "# <font color='blue'>Data Science Academy</font>\n",
    "# <font color='blue'>Fundamentos de Linguagem Python - Do Básico a Aplicações de IA</font>\n",
    "# <font color='blue'>Lista 5 de Exercícios</font>"
   ]
  },
  {
   "cell_type": "code",
   "execution_count": 1,
   "id": "8341d2d2-0282-4977-bdf7-9ec419466e79",
   "metadata": {},
   "outputs": [],
   "source": [
    "# Imports\n",
    "import numpy as np, pandas as pd, matplotlib.pyplot as plt, seaborn as sns"
   ]
  },
  {
   "cell_type": "markdown",
   "id": "40a89dba-d393-466f-a5fb-acd4061856fd",
   "metadata": {},
   "source": [
    "#### Exercício 1: Análise de Distribuição de Receita Mensal\n",
    "\n",
    "- Contexto: Uma loja online deseja entender a variabilidade das receitas mensais para ajustar seu fluxo de caixa.\n",
    "\n",
    "- Tarefa: Carregue os dados simulados de receita mensal e apresente um relatório com média, mediana, desvio-padrão, assimetria e curtose. Visualize a distribuição e interprete se ela é simétrica, à direita ou à esquerda.\n",
    "\n",
    "- Resultado esperado: Descreva a tendência central e a dispersão, comente se a média representa bem o conjunto."
   ]
  },
  {
   "cell_type": "code",
   "execution_count": 2,
   "id": "6e59acd8-245e-4749-8d4f-9d71a4ca6f8d",
   "metadata": {},
   "outputs": [
    {
     "data": {
      "text/html": [
       "<div>\n",
       "<style scoped>\n",
       "    .dataframe tbody tr th:only-of-type {\n",
       "        vertical-align: middle;\n",
       "    }\n",
       "\n",
       "    .dataframe tbody tr th {\n",
       "        vertical-align: top;\n",
       "    }\n",
       "\n",
       "    .dataframe thead th {\n",
       "        text-align: right;\n",
       "    }\n",
       "</style>\n",
       "<table border=\"1\" class=\"dataframe\">\n",
       "  <thead>\n",
       "    <tr style=\"text-align: right;\">\n",
       "      <th></th>\n",
       "      <th>Receita</th>\n",
       "    </tr>\n",
       "  </thead>\n",
       "  <tbody>\n",
       "    <tr>\n",
       "      <th>0</th>\n",
       "      <td>60652.692033</td>\n",
       "    </tr>\n",
       "    <tr>\n",
       "      <th>1</th>\n",
       "      <td>55722.231795</td>\n",
       "    </tr>\n",
       "    <tr>\n",
       "      <th>2</th>\n",
       "      <td>37636.797663</td>\n",
       "    </tr>\n",
       "    <tr>\n",
       "      <th>3</th>\n",
       "      <td>49932.929201</td>\n",
       "    </tr>\n",
       "    <tr>\n",
       "      <th>4</th>\n",
       "      <td>54970.687791</td>\n",
       "    </tr>\n",
       "  </tbody>\n",
       "</table>\n",
       "</div>"
      ],
      "text/plain": [
       "        Receita\n",
       "0  60652.692033\n",
       "1  55722.231795\n",
       "2  37636.797663\n",
       "3  49932.929201\n",
       "4  54970.687791"
      ]
     },
     "execution_count": 2,
     "metadata": {},
     "output_type": "execute_result"
    }
   ],
   "source": [
    "# Seed\n",
    "np.random.seed(10)\n",
    "\n",
    "# Cria dados de receita\n",
    "receita = np.random.normal(50000, 8000, 100)\n",
    "\n",
    "# Cria o dataframe\n",
    "df = pd.DataFrame({'Receita': receita})\n",
    "\n",
    "# Visualiza os dados\n",
    "df.head()"
   ]
  },
  {
   "cell_type": "code",
   "execution_count": 3,
   "id": "dfe4eb87-3034-4b0c-b8de-36263ae199ff",
   "metadata": {},
   "outputs": [
    {
     "data": {
      "text/html": [
       "<div>\n",
       "<style scoped>\n",
       "    .dataframe tbody tr th:only-of-type {\n",
       "        vertical-align: middle;\n",
       "    }\n",
       "\n",
       "    .dataframe tbody tr th {\n",
       "        vertical-align: top;\n",
       "    }\n",
       "\n",
       "    .dataframe thead th {\n",
       "        text-align: right;\n",
       "    }\n",
       "</style>\n",
       "<table border=\"1\" class=\"dataframe\">\n",
       "  <thead>\n",
       "    <tr style=\"text-align: right;\">\n",
       "      <th></th>\n",
       "      <th>Receita</th>\n",
       "    </tr>\n",
       "  </thead>\n",
       "  <tbody>\n",
       "    <tr>\n",
       "      <th>count</th>\n",
       "      <td>100.000000</td>\n",
       "    </tr>\n",
       "    <tr>\n",
       "      <th>mean</th>\n",
       "      <td>50635.333303</td>\n",
       "    </tr>\n",
       "    <tr>\n",
       "      <th>std</th>\n",
       "      <td>7775.289947</td>\n",
       "    </tr>\n",
       "    <tr>\n",
       "      <th>min</th>\n",
       "      <td>32946.303132</td>\n",
       "    </tr>\n",
       "    <tr>\n",
       "      <th>25%</th>\n",
       "      <td>46128.766733</td>\n",
       "    </tr>\n",
       "    <tr>\n",
       "      <th>50%</th>\n",
       "      <td>50754.947314</td>\n",
       "    </tr>\n",
       "    <tr>\n",
       "      <th>75%</th>\n",
       "      <td>55377.709347</td>\n",
       "    </tr>\n",
       "    <tr>\n",
       "      <th>max</th>\n",
       "      <td>69741.208451</td>\n",
       "    </tr>\n",
       "  </tbody>\n",
       "</table>\n",
       "</div>"
      ],
      "text/plain": [
       "            Receita\n",
       "count    100.000000\n",
       "mean   50635.333303\n",
       "std     7775.289947\n",
       "min    32946.303132\n",
       "25%    46128.766733\n",
       "50%    50754.947314\n",
       "75%    55377.709347\n",
       "max    69741.208451"
      ]
     },
     "execution_count": 3,
     "metadata": {},
     "output_type": "execute_result"
    }
   ],
   "source": [
    "# Solução\n",
    "df.describe()"
   ]
  },
  {
   "cell_type": "code",
   "execution_count": 4,
   "id": "7107f44f-d48b-4bf0-b91e-67d9404746a9",
   "metadata": {},
   "outputs": [
    {
     "data": {
      "text/html": [
       "<div>\n",
       "<style scoped>\n",
       "    .dataframe tbody tr th:only-of-type {\n",
       "        vertical-align: middle;\n",
       "    }\n",
       "\n",
       "    .dataframe tbody tr th {\n",
       "        vertical-align: top;\n",
       "    }\n",
       "\n",
       "    .dataframe thead th {\n",
       "        text-align: right;\n",
       "    }\n",
       "</style>\n",
       "<table border=\"1\" class=\"dataframe\">\n",
       "  <thead>\n",
       "    <tr style=\"text-align: right;\">\n",
       "      <th></th>\n",
       "      <th>count</th>\n",
       "      <th>mean</th>\n",
       "      <th>std</th>\n",
       "      <th>min</th>\n",
       "      <th>25%</th>\n",
       "      <th>50%</th>\n",
       "      <th>75%</th>\n",
       "      <th>max</th>\n",
       "    </tr>\n",
       "  </thead>\n",
       "  <tbody>\n",
       "    <tr>\n",
       "      <th>Receita</th>\n",
       "      <td>100.0</td>\n",
       "      <td>50635.333303</td>\n",
       "      <td>7775.289947</td>\n",
       "      <td>32946.303132</td>\n",
       "      <td>46128.766733</td>\n",
       "      <td>50754.947314</td>\n",
       "      <td>55377.709347</td>\n",
       "      <td>69741.208451</td>\n",
       "    </tr>\n",
       "  </tbody>\n",
       "</table>\n",
       "</div>"
      ],
      "text/plain": [
       "         count          mean          std           min           25%  \\\n",
       "Receita  100.0  50635.333303  7775.289947  32946.303132  46128.766733   \n",
       "\n",
       "                  50%           75%           max  \n",
       "Receita  50754.947314  55377.709347  69741.208451  "
      ]
     },
     "execution_count": 4,
     "metadata": {},
     "output_type": "execute_result"
    }
   ],
   "source": [
    "# Solução\n",
    "df.describe().T"
   ]
  },
  {
   "cell_type": "markdown",
   "id": "c11d8b32-0409-4f0e-be15-7f014eab52ef",
   "metadata": {},
   "source": [
    "- Média é o valor obtido somando todos os dados e dividindo pela quantidade de elementos, representando o “centro” dos valores.\n",
    "\n",
    "- Mediana é o valor central quando os dados são colocados em ordem, separando a metade menor da metade maior.\n",
    "\n",
    "- Desvio-padrão mede o quanto os valores se afastam da média, quanto maior, mais dispersos estão os dados.\n",
    "<!-- Trabalho Desenvolvido na Data Science Academy - www.datascienceacademy.com.br -->\n",
    "- Assimetria indica se os dados estão distribuídos de forma equilibrada em torno da média; se há cauda mais longa à direita ou à esquerda.\n",
    "\n",
    "- Curtose mostra o quão “achatada” ou “pontuda” é a distribuição em comparação com a normal; valores altos indicam picos acentuados e caudas longas."
   ]
  },
  {
   "cell_type": "code",
   "execution_count": 5,
   "id": "df6ab12e-0acc-4bf9-979e-79b46692c256",
   "metadata": {},
   "outputs": [
    {
     "name": "stdout",
     "output_type": "stream",
     "text": [
      "Assimetria: 0.013849241213213624\n",
      "Curtose: 0.1934768485703171\n"
     ]
    }
   ],
   "source": [
    "# Solução\n",
    "print(\"Assimetria:\", df['Receita'].skew())\n",
    "print(\"Curtose:\", df['Receita'].kurtosis())"
   ]
  },
  {
   "cell_type": "markdown",
   "id": "940038fc-c5b2-4732-977b-810b762d20eb",
   "metadata": {},
   "source": [
    "- A assimetria de 0.0138 está muito próxima de zero, indicando que a distribuição é praticamente simétrica, ou seja, os valores se distribuem de forma equilibrada em torno da média, sem cauda mais longa à direita ou à esquerda.\n",
    "\n",
    "\n",
    "- A curtose de 0.1935 também está próxima de zero, sugerindo que a distribuição é mesocúrtica, semelhante à distribuição normal, nem muito pontuda (leptocúrtica), nem muito achatada (platicúrtica)."
   ]
  },
  {
   "cell_type": "code",
   "execution_count": 6,
   "id": "3387c30a-9b80-4eeb-8cb3-d46dcd9542ab",
   "metadata": {},
   "outputs": [
    {
     "data": {
      "image/png": "[encoded data removed]",
      "text/plain": [
       "<Figure size 640x480 with 1 Axes>"
      ]
     },
     "metadata": {},
     "output_type": "display_data"
    }
   ],
   "source": [
    "# Solução\n",
    "sns.histplot(df['Receita'], bins = 20, kde = True)\n",
    "plt.title('Distribuição da Receita Mensal')\n",
    "plt.show()"
   ]
  },
  {
   "cell_type": "markdown",
   "id": "3b78c1cb-645f-4749-8382-e1655c88a11f",
   "metadata": {},
   "source": [
    "#### Exercício 2: Desempenho por Segmento de Cliente\n",
    "\n",
    "- Contexto: Uma empresa quer comparar o valor médio gasto por clientes novos e antigos.\n",
    "\n",
    "- Tarefa: Para os dois grupos (clientes novos e antigos), calcule média, mediana e desvio-padrão, e compare visualmente com boxplot. Discuta se há sobreposição entre os grupos e qual apresenta maior variabilidade.\n",
    "<!-- Trabalho Desenvolvido na Data Science Academy - www.datascienceacademy.com.br -->\n",
    "- Resultado esperado: Indique diferenças de média e dispersão, e o que isso sugere sobre o perfil de gasto."
   ]
  },
  {
   "cell_type": "code",
   "execution_count": 7,
   "id": "3debb9a6-0ab7-41ba-90b5-d33ddfefbb94",
   "metadata": {},
   "outputs": [
    {
     "data": {
      "text/html": [
       "<div>\n",
       "<style scoped>\n",
       "    .dataframe tbody tr th:only-of-type {\n",
       "        vertical-align: middle;\n",
       "    }\n",
       "\n",
       "    .dataframe tbody tr th {\n",
       "        vertical-align: top;\n",
       "    }\n",
       "\n",
       "    .dataframe thead th {\n",
       "        text-align: right;\n",
       "    }\n",
       "</style>\n",
       "<table border=\"1\" class=\"dataframe\">\n",
       "  <thead>\n",
       "    <tr style=\"text-align: right;\">\n",
       "      <th></th>\n",
       "      <th>Grupo</th>\n",
       "      <th>Gasto</th>\n",
       "    </tr>\n",
       "  </thead>\n",
       "  <tbody>\n",
       "    <tr>\n",
       "      <th>122</th>\n",
       "      <td>Antigo</td>\n",
       "      <td>216.853270</td>\n",
       "    </tr>\n",
       "    <tr>\n",
       "      <th>119</th>\n",
       "      <td>Antigo</td>\n",
       "      <td>229.406914</td>\n",
       "    </tr>\n",
       "    <tr>\n",
       "      <th>143</th>\n",
       "      <td>Antigo</td>\n",
       "      <td>207.787163</td>\n",
       "    </tr>\n",
       "    <tr>\n",
       "      <th>40</th>\n",
       "      <td>Novo</td>\n",
       "      <td>167.765879</td>\n",
       "    </tr>\n",
       "    <tr>\n",
       "      <th>4</th>\n",
       "      <td>Novo</td>\n",
       "      <td>184.384394</td>\n",
       "    </tr>\n",
       "    <tr>\n",
       "      <th>27</th>\n",
       "      <td>Novo</td>\n",
       "      <td>165.467565</td>\n",
       "    </tr>\n",
       "    <tr>\n",
       "      <th>150</th>\n",
       "      <td>Antigo</td>\n",
       "      <td>279.075832</td>\n",
       "    </tr>\n",
       "    <tr>\n",
       "      <th>106</th>\n",
       "      <td>Antigo</td>\n",
       "      <td>200.373598</td>\n",
       "    </tr>\n",
       "    <tr>\n",
       "      <th>82</th>\n",
       "      <td>Antigo</td>\n",
       "      <td>256.100443</td>\n",
       "    </tr>\n",
       "    <tr>\n",
       "      <th>50</th>\n",
       "      <td>Novo</td>\n",
       "      <td>236.535921</td>\n",
       "    </tr>\n",
       "  </tbody>\n",
       "</table>\n",
       "</div>"
      ],
      "text/plain": [
       "      Grupo       Gasto\n",
       "122  Antigo  216.853270\n",
       "119  Antigo  229.406914\n",
       "143  Antigo  207.787163\n",
       "40     Novo  167.765879\n",
       "4      Novo  184.384394\n",
       "27     Novo  165.467565\n",
       "150  Antigo  279.075832\n",
       "106  Antigo  200.373598\n",
       "82   Antigo  256.100443\n",
       "50     Novo  236.535921"
      ]
     },
     "execution_count": 7,
     "metadata": {},
     "output_type": "execute_result"
    }
   ],
   "source": [
    "# Seed\n",
    "np.random.seed(5)\n",
    "\n",
    "# Dataframe\n",
    "clientes = pd.DataFrame({\n",
    "    'Grupo': ['Novo'] * 80 + ['Antigo'] * 80,\n",
    "    'Gasto': np.concatenate([np.random.normal(180, 40, 80),\n",
    "                             np.random.normal(230, 35, 80)])\n",
    "})\n",
    "\n",
    "# Visualiza os dados\n",
    "clientes.sample(10)"
   ]
  },
  {
   "cell_type": "code",
   "execution_count": 8,
   "id": "c57b2f16-5814-456b-8b84-62fb10c7841d",
   "metadata": {},
   "outputs": [
    {
     "data": {
      "text/html": [
       "<div>\n",
       "<style scoped>\n",
       "    .dataframe tbody tr th:only-of-type {\n",
       "        vertical-align: middle;\n",
       "    }\n",
       "\n",
       "    .dataframe tbody tr th {\n",
       "        vertical-align: top;\n",
       "    }\n",
       "\n",
       "    .dataframe thead th {\n",
       "        text-align: right;\n",
       "    }\n",
       "</style>\n",
       "<table border=\"1\" class=\"dataframe\">\n",
       "  <thead>\n",
       "    <tr style=\"text-align: right;\">\n",
       "      <th></th>\n",
       "      <th>count</th>\n",
       "      <th>mean</th>\n",
       "      <th>std</th>\n",
       "      <th>min</th>\n",
       "      <th>25%</th>\n",
       "      <th>50%</th>\n",
       "      <th>75%</th>\n",
       "      <th>max</th>\n",
       "    </tr>\n",
       "    <tr>\n",
       "      <th>Grupo</th>\n",
       "      <th></th>\n",
       "      <th></th>\n",
       "      <th></th>\n",
       "      <th></th>\n",
       "      <th></th>\n",
       "      <th></th>\n",
       "      <th></th>\n",
       "      <th></th>\n",
       "    </tr>\n",
       "  </thead>\n",
       "  <tbody>\n",
       "    <tr>\n",
       "      <th>Antigo</th>\n",
       "      <td>80.0</td>\n",
       "      <td>232.921448</td>\n",
       "      <td>38.388523</td>\n",
       "      <td>148.253236</td>\n",
       "      <td>205.127578</td>\n",
       "      <td>231.443713</td>\n",
       "      <td>257.624944</td>\n",
       "      <td>318.228267</td>\n",
       "    </tr>\n",
       "    <tr>\n",
       "      <th>Novo</th>\n",
       "      <td>80.0</td>\n",
       "      <td>182.692648</td>\n",
       "      <td>38.652415</td>\n",
       "      <td>65.612481</td>\n",
       "      <td>162.151568</td>\n",
       "      <td>177.481971</td>\n",
       "      <td>206.822797</td>\n",
       "      <td>277.230847</td>\n",
       "    </tr>\n",
       "  </tbody>\n",
       "</table>\n",
       "</div>"
      ],
      "text/plain": [
       "        count        mean        std         min         25%         50%  \\\n",
       "Grupo                                                                      \n",
       "Antigo   80.0  232.921448  38.388523  148.253236  205.127578  231.443713   \n",
       "Novo     80.0  182.692648  38.652415   65.612481  162.151568  177.481971   \n",
       "\n",
       "               75%         max  \n",
       "Grupo                           \n",
       "Antigo  257.624944  318.228267  \n",
       "Novo    206.822797  277.230847  "
      ]
     },
     "execution_count": 8,
     "metadata": {},
     "output_type": "execute_result"
    }
   ],
   "source": [
    "# Solução\n",
    "resumo = clientes.groupby('Grupo')['Gasto'].describe()\n",
    "resumo"
   ]
  },
  {
   "cell_type": "markdown",
   "id": "686bad86-4d5d-4e86-aba9-3cb72be787fa",
   "metadata": {},
   "source": [
    "- Os clientes antigos gastam, em média, mais (232,9) do que os novos (182,7), indicando um perfil de consumo mais elevado. O desvio-padrão é parecido entre os grupos (≈38), mostrando variabilidade semelhante nos gastos.\n",
    "<!-- Trabalho Desenvolvido na Data Science Academy - www.datascienceacademy.com.br -->\n",
    "\n",
    "- No boxplot, deve haver pouca sobreposição, já que as faixas interquartis são diferentes. Isso sugere que, em geral, clientes antigos mantêm gastos consistentemente maiores, enquanto os novos ainda estão em fase de consumo menor, embora com dispersão parecida."
   ]
  },
  {
   "cell_type": "code",
   "execution_count": 9,
   "id": "5dc1e77d-c90a-4749-ac7f-7e81ff5031bc",
   "metadata": {},
   "outputs": [
    {
     "data": {
      "image/png": "[encoded data removed]",
      "text/plain": [
       "<Figure size 640x480 with 1 Axes>"
      ]
     },
     "metadata": {},
     "output_type": "display_data"
    }
   ],
   "source": [
    "# Solução\n",
    "sns.boxplot(data = clientes, x = 'Grupo', y = 'Gasto')\n",
    "plt.title('Comparação do Gasto por Segmento')\n",
    "plt.show()"
   ]
  },
  {
   "cell_type": "markdown",
   "id": "588a6f9d-f7d9-45af-8342-3fb21ac01d0e",
   "metadata": {},
   "source": [
    "Um boxplot típico mostra a distribuição dos dados de forma visual e resumida. Ele é composto por uma caixa (box) que representa o intervalo entre o primeiro quartil (Q1) e o terceiro quartil (Q3), ou seja, onde está concentrada metade dos valores.\n",
    "\n",
    "Dentro da caixa há uma linha central, que indica a mediana, o valor central dos dados.\n",
    "\n",
    "Os “bigodes” (whiskers) se estendem a partir da caixa até os valores mínimos e máximos dentro de um limite considerado normal.\n",
    "\n",
    "Pontos que ficam fora desses limites são mostrados como outliers, representando valores atípicos.\n",
    "\n",
    "Assim, o boxplot permite identificar rapidamente a tendência central, a dispersão e possíveis assimetrias ou outliers em um conjunto de dados."
   ]
  },
  {
   "cell_type": "markdown",
   "id": "c4fdc621-6507-4f0f-822b-c74487d7d516",
   "metadata": {},
   "source": [
    "<!-- Trabalho Desenvolvido na Data Science Academy - www.datascienceacademy.com.br -->"
   ]
  },
  {
   "cell_type": "markdown",
   "id": "0c8efaf1-91b0-472d-bf2a-dc46c51ef831",
   "metadata": {},
   "source": [
    "#### Exercício 3: Correlação Entre Horas de Estudo e Nota\n",
    "\n",
    "- Contexto: Um professor quer saber se o tempo de estudo está associado ao desempenho dos alunos.\n",
    "\n",
    "- Tarefa: Calcule a correlação de Pearson e gere o gráfico de dispersão com linha de regressão. Interprete o grau e a direção da relação.\n",
    "\n",
    "- Resultado esperado: Descreva se há correlação positiva, negativa ou nula e o que isso significa em termos práticos."
   ]
  },
  {
   "cell_type": "code",
   "execution_count": 10,
   "id": "3c2fbc60-a276-4f79-8358-42c30c674a8f",
   "metadata": {},
   "outputs": [
    {
     "data": {
      "text/html": [
       "<div>\n",
       "<style scoped>\n",
       "    .dataframe tbody tr th:only-of-type {\n",
       "        vertical-align: middle;\n",
       "    }\n",
       "\n",
       "    .dataframe tbody tr th {\n",
       "        vertical-align: top;\n",
       "    }\n",
       "\n",
       "    .dataframe thead th {\n",
       "        text-align: right;\n",
       "    }\n",
       "</style>\n",
       "<table border=\"1\" class=\"dataframe\">\n",
       "  <thead>\n",
       "    <tr style=\"text-align: right;\">\n",
       "      <th></th>\n",
       "      <th>Horas</th>\n",
       "      <th>Nota</th>\n",
       "    </tr>\n",
       "  </thead>\n",
       "  <tbody>\n",
       "    <tr>\n",
       "      <th>0</th>\n",
       "      <td>4.923954</td>\n",
       "      <td>20.474094</td>\n",
       "    </tr>\n",
       "    <tr>\n",
       "      <th>1</th>\n",
       "      <td>1.233336</td>\n",
       "      <td>6.605232</td>\n",
       "    </tr>\n",
       "    <tr>\n",
       "      <th>2</th>\n",
       "      <td>5.946962</td>\n",
       "      <td>34.736641</td>\n",
       "    </tr>\n",
       "    <tr>\n",
       "      <th>3</th>\n",
       "      <td>4.917902</td>\n",
       "      <td>22.684045</td>\n",
       "    </tr>\n",
       "    <tr>\n",
       "      <th>4</th>\n",
       "      <td>4.783310</td>\n",
       "      <td>22.038204</td>\n",
       "    </tr>\n",
       "  </tbody>\n",
       "</table>\n",
       "</div>"
      ],
      "text/plain": [
       "      Horas       Nota\n",
       "0  4.923954  20.474094\n",
       "1  1.233336   6.605232\n",
       "2  5.946962  34.736641\n",
       "3  4.917902  22.684045\n",
       "4  4.783310  22.038204"
      ]
     },
     "execution_count": 10,
     "metadata": {},
     "output_type": "execute_result"
    }
   ],
   "source": [
    "# Seed\n",
    "np.random.seed(2)\n",
    "\n",
    "# Dados\n",
    "horas = np.random.uniform(1, 10, 50)\n",
    "notas = 5*horas + np.random.normal(0, 5, 50)\n",
    "\n",
    "# Dataframe\n",
    "df = pd.DataFrame({'Horas': horas, 'Nota': notas})\n",
    "\n",
    "# Visualiza os dados\n",
    "df.head()"
   ]
  },
  {
   "cell_type": "code",
   "execution_count": 11,
   "id": "e568534b-f399-4c03-8baa-7039a4ab86ad",
   "metadata": {},
   "outputs": [
    {
     "name": "stdout",
     "output_type": "stream",
     "text": [
      "          Horas      Nota\n",
      "Horas  1.000000  0.914853\n",
      "Nota   0.914853  1.000000\n"
     ]
    }
   ],
   "source": [
    "# Solução\n",
    "print(df.corr())"
   ]
  },
  {
   "cell_type": "markdown",
   "id": "ca64c050-d5ae-43f3-bade-2a7296386b22",
   "metadata": {},
   "source": [
    "- O valor 0.914853 representa uma correlação forte e positiva entre horas de estudo e nota. Isso significa que, quanto mais horas o aluno estuda, maior tende a ser sua nota. Como o valor está próximo de 1, a relação é quase linear e direta.\n",
    "\n",
    "- Mas lembre-se: Correlação não implica causalidade!"
   ]
  },
  {
   "cell_type": "code",
   "execution_count": 12,
   "id": "7fd11a85-42a4-4d81-aff7-a42b51558280",
   "metadata": {},
   "outputs": [
    {
     "data": {
      "image/png": "[encoded data removed]",
      "text/plain": [
       "<Figure size 640x480 with 1 Axes>"
      ]
     },
     "metadata": {},
     "output_type": "display_data"
    }
   ],
   "source": [
    "# Solução\n",
    "sns.regplot(data = df, x = 'Horas', y = 'Nota', ci = None, line_kws = {'color':'red'})\n",
    "plt.title('Relação Entre Horas de Estudo e Nota')\n",
    "plt.show()"
   ]
  },
  {
   "cell_type": "markdown",
   "id": "adf3a4ba-eecd-4b37-a5e5-75af60880bc9",
   "metadata": {},
   "source": [
    "#### Exercício 4: Variação Semanal de Vendas\n",
    "\n",
    "- Contexto: O gestor deseja entender como as vendas variam ao longo da semana.\n",
    "\n",
    "- Tarefa: Simule dados de vendas diárias, calcule média e desvio por dia da semana e gere um gráfico de barras. Interprete os dias de maior e menor performance.\n",
    "\n",
    "- Resultado esperado: Identifique os dias mais fortes e mais fracos, e comente sobre a estabilidade semanal das vendas."
   ]
  },
  {
   "cell_type": "code",
   "execution_count": 13,
   "id": "4b1c4c14-40cc-41b8-a159-3091df344047",
   "metadata": {},
   "outputs": [
    {
     "data": {
      "text/html": [
       "<div>\n",
       "<style scoped>\n",
       "    .dataframe tbody tr th:only-of-type {\n",
       "        vertical-align: middle;\n",
       "    }\n",
       "\n",
       "    .dataframe tbody tr th {\n",
       "        vertical-align: top;\n",
       "    }\n",
       "\n",
       "    .dataframe thead th {\n",
       "        text-align: right;\n",
       "    }\n",
       "</style>\n",
       "<table border=\"1\" class=\"dataframe\">\n",
       "  <thead>\n",
       "    <tr style=\"text-align: right;\">\n",
       "      <th></th>\n",
       "      <th>Dia</th>\n",
       "      <th>Vendas</th>\n",
       "    </tr>\n",
       "  </thead>\n",
       "  <tbody>\n",
       "    <tr>\n",
       "      <th>0</th>\n",
       "      <td>Qua</td>\n",
       "      <td>911.338189</td>\n",
       "    </tr>\n",
       "    <tr>\n",
       "      <th>1</th>\n",
       "      <td>Seg</td>\n",
       "      <td>922.537395</td>\n",
       "    </tr>\n",
       "    <tr>\n",
       "      <th>2</th>\n",
       "      <td>Ter</td>\n",
       "      <td>856.000573</td>\n",
       "    </tr>\n",
       "    <tr>\n",
       "      <th>3</th>\n",
       "      <td>Qui</td>\n",
       "      <td>1056.594285</td>\n",
       "    </tr>\n",
       "    <tr>\n",
       "      <th>4</th>\n",
       "      <td>Seg</td>\n",
       "      <td>913.793737</td>\n",
       "    </tr>\n",
       "  </tbody>\n",
       "</table>\n",
       "</div>"
      ],
      "text/plain": [
       "   Dia       Vendas\n",
       "0  Qua   911.338189\n",
       "1  Seg   922.537395\n",
       "2  Ter   856.000573\n",
       "3  Qui  1056.594285\n",
       "4  Seg   913.793737"
      ]
     },
     "execution_count": 13,
     "metadata": {},
     "output_type": "execute_result"
    }
   ],
   "source": [
    "# Seed\n",
    "np.random.seed(3)\n",
    "\n",
    "# Dados\n",
    "dias = ['Seg', 'Ter', 'Qua', 'Qui', 'Sex', 'Sab', 'Dom']\n",
    "vendas = pd.DataFrame({\n",
    "    'Dia': np.random.choice(dias, 200),\n",
    "    'Vendas': np.random.normal(1000, 150, 200)\n",
    "})\n",
    "\n",
    "vendas.head()"
   ]
  },
  {
   "cell_type": "code",
   "execution_count": 14,
   "id": "138c0006-aee0-4ca5-91dd-d87372cb0c3d",
   "metadata": {},
   "outputs": [
    {
     "data": {
      "text/html": [
       "<div>\n",
       "<style scoped>\n",
       "    .dataframe tbody tr th:only-of-type {\n",
       "        vertical-align: middle;\n",
       "    }\n",
       "\n",
       "    .dataframe tbody tr th {\n",
       "        vertical-align: top;\n",
       "    }\n",
       "\n",
       "    .dataframe thead th {\n",
       "        text-align: right;\n",
       "    }\n",
       "</style>\n",
       "<table border=\"1\" class=\"dataframe\">\n",
       "  <thead>\n",
       "    <tr style=\"text-align: right;\">\n",
       "      <th></th>\n",
       "      <th>mean</th>\n",
       "      <th>std</th>\n",
       "    </tr>\n",
       "    <tr>\n",
       "      <th>Dia</th>\n",
       "      <th></th>\n",
       "      <th></th>\n",
       "    </tr>\n",
       "  </thead>\n",
       "  <tbody>\n",
       "    <tr>\n",
       "      <th>Sex</th>\n",
       "      <td>1049.790137</td>\n",
       "      <td>152.085006</td>\n",
       "    </tr>\n",
       "    <tr>\n",
       "      <th>Dom</th>\n",
       "      <td>1034.716174</td>\n",
       "      <td>161.899699</td>\n",
       "    </tr>\n",
       "    <tr>\n",
       "      <th>Qui</th>\n",
       "      <td>1027.466786</td>\n",
       "      <td>196.069107</td>\n",
       "    </tr>\n",
       "    <tr>\n",
       "      <th>Sab</th>\n",
       "      <td>1021.630030</td>\n",
       "      <td>133.611346</td>\n",
       "    </tr>\n",
       "    <tr>\n",
       "      <th>Qua</th>\n",
       "      <td>1009.722472</td>\n",
       "      <td>134.496526</td>\n",
       "    </tr>\n",
       "    <tr>\n",
       "      <th>Seg</th>\n",
       "      <td>1008.344683</td>\n",
       "      <td>121.895506</td>\n",
       "    </tr>\n",
       "    <tr>\n",
       "      <th>Ter</th>\n",
       "      <td>990.271715</td>\n",
       "      <td>142.264723</td>\n",
       "    </tr>\n",
       "  </tbody>\n",
       "</table>\n",
       "</div>"
      ],
      "text/plain": [
       "            mean         std\n",
       "Dia                         \n",
       "Sex  1049.790137  152.085006\n",
       "Dom  1034.716174  161.899699\n",
       "Qui  1027.466786  196.069107\n",
       "Sab  1021.630030  133.611346\n",
       "Qua  1009.722472  134.496526\n",
       "Seg  1008.344683  121.895506\n",
       "Ter   990.271715  142.264723"
      ]
     },
     "execution_count": 14,
     "metadata": {},
     "output_type": "execute_result"
    }
   ],
   "source": [
    "# Solução\n",
    "resumo = vendas.groupby('Dia')['Vendas'].agg(['mean','std']).sort_values('mean', ascending = False)\n",
    "resumo"
   ]
  },
  {
   "cell_type": "markdown",
   "id": "17cdef5f-b013-4d36-8ae8-8fd0f2583e9a",
   "metadata": {},
   "source": [
    "- As maiores médias de vendas ocorrem na sexta (1049,8) e no domingo (1034,7), indicando picos próximos ao fim de semana. Já a terça-feira (990,3) tem o menor desempenho.\n",
    "\n",
    "- O desvio-padrão é moderado, sugerindo variação regular entre os dias, mas um leve aumento de instabilidade nas quintas.\n",
    "\n",
    "- Em resumo, as vendas se mantêm estáveis ao longo da semana, com melhor performance nos dias próximos ao fim de semana."
   ]
  },
  {
   "cell_type": "code",
   "execution_count": 15,
   "id": "90edc5e9-d7d2-475c-80cb-ba04d3637884",
   "metadata": {},
   "outputs": [
    {
     "data": {
      "image/png": "[encoded data removed]",
      "text/plain": [
       "<Figure size 640x480 with 1 Axes>"
      ]
     },
     "metadata": {},
     "output_type": "display_data"
    }
   ],
   "source": [
    "# Solução\n",
    "resumo['mean'].plot(kind = 'bar', yerr = resumo['std'], capsize = 4)\n",
    "plt.title('Média de Vendas Por Dia da Semana')\n",
    "plt.ylabel('Vendas')\n",
    "plt.show()"
   ]
  },
  {
   "cell_type": "markdown",
   "id": "253f9e7b-a6cd-4bd0-85f1-9e816324f15c",
   "metadata": {},
   "source": [
    "#### Exercício 5: Estimativa da Média com Intervalo de Confiança (Statsmodels)\n",
    "\n",
    "- Contexto: Um analista de RH quer estimar a altura média dos colaboradores com 95% de confiança.\n",
    "\n",
    "- Tarefa: Calcule a média e o intervalo de confiança usando o DescrStatsW do Statsmodels. Interprete o resultado como se fosse parte de um relatório técnico.\n",
    "\n",
    "- Resultado esperado: Apresente a altura média estimada e explique o significado do intervalo de confiança no contexto da amostra."
   ]
  },
  {
   "cell_type": "code",
   "execution_count": 16,
   "id": "d17b72b9-306b-4163-a146-431499d76baf",
   "metadata": {},
   "outputs": [],
   "source": [
    "import numpy as np\n",
    "from statsmodels.stats.weightstats import DescrStatsW\n",
    "\n",
    "np.random.seed(7)\n",
    "alturas = np.random.normal(1.75, 0.08, 40)"
   ]
  },
  {
   "cell_type": "code",
   "execution_count": 17,
   "id": "d2decec9-1191-4284-a801-de8ac2a7d495",
   "metadata": {},
   "outputs": [
    {
     "name": "stdout",
     "output_type": "stream",
     "text": [
      "Média Estimada: 1.742\n",
      "Intervalo de Confiança (95%): (np.float64(1.7143126677074145), np.float64(1.769649181020626))\n"
     ]
    }
   ],
   "source": [
    "# Solução\n",
    "desc = DescrStatsW(alturas)\n",
    "print(\"Média Estimada:\", round(desc.mean, 3))\n",
    "print(\"Intervalo de Confiança (95%):\", desc.tconfint_mean())"
   ]
  },
  {
   "cell_type": "markdown",
   "id": "a767cd04-de5d-43f2-8a9c-126b5bda7c4c",
   "metadata": {},
   "source": [
    "- A média estimada é 1,742, e o intervalo de confiança de 95% indica que há alta probabilidade de a média real da população estar entre 1,714 e 1,770. Isso mostra uma estimativa precisa, com variação pequena em torno da média."
   ]
  },
  {
   "cell_type": "markdown",
   "id": "800eb189-a900-4307-a31c-910e5bb1e6c9",
   "metadata": {},
   "source": [
    "# Fim"
   ]
  }
 ],
 "metadata": {
  "kernelspec": {
   "display_name": "Python 3 (ipykernel)",
   "language": "python",
   "name": "python3"
  },
  "language_info": {
   "codemirror_mode": {
    "name": "ipython",
    "version": 3
   },
   "file_extension": ".py",
   "mimetype": "text/x-python",
   "name": "python",
   "nbconvert_exporter": "python",
   "pygments_lexer": "ipython3",
   "version": "3.13.5"
  }
 },
 "nbformat": 4,
 "nbformat_minor": 5
}
