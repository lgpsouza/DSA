{
 "cells": [
  {
   "cell_type": "markdown",
   "id": "61d979b2-a85f-4d69-901e-b3bb69419a3e",
   "metadata": {},
   "source": [
    "<!-- Trabalho Desenvolvido na Data Science Academy - www.datascienceacademy.com.br -->\n",
    "# <font color='blue'>Data Science Academy</font>\n",
    "# <font color='blue'>Fundamentos de Linguagem Python - Do Básico a Aplicações de IA</font>\n",
    "# <font color='blue'>Lista 3 de Exercícios</font>"
   ]
  },
  {
   "cell_type": "markdown",
   "id": "86a423ef-e381-46a4-b776-2fee3c105e9a",
   "metadata": {},
   "source": [
    "Classificamos os 10 exercícios nas seguintes categorias:\n",
    "\n",
    "- (Nível Baby)\n",
    "- (Nível Aprendiz)\n",
    "- (Nível Iniciante)\n",
    "- (Nível Iniciante Plus)\n",
    "- (Nível Pro)\n",
    "- (Nível Master)\n",
    "- (Nível Ninja)\n",
    "- (Nível Ninja Pro Master)\n",
    "- (Nível Ninja Pro Master das Galáxias)\n",
    "- (Nível Ninja Pro Master das Galáxias Plus)\n",
    "\n",
    "Divirta-se. :-)"
   ]
  },
  {
   "cell_type": "code",
   "execution_count": 1,
   "id": "8341d2d2-0282-4977-bdf7-9ec419466e79",
   "metadata": {},
   "outputs": [],
   "source": [
    "# Importa o NumPy\n",
    "import numpy as np"
   ]
  },
  {
   "cell_type": "markdown",
   "id": "54c9bece-4f86-49d3-8124-bd6708151629",
   "metadata": {},
   "source": [
    "#### Exercício 1: Selecionando uma Coluna Específica (Nível Baby)\n",
    "\n",
    "Dado a matriz 4x4 abaixo, crie um novo array contendo apenas os elementos da terceira coluna."
   ]
  },
  {
   "cell_type": "code",
   "execution_count": 2,
   "id": "8cecadc0-c625-443d-ac88-2e03784dd911",
   "metadata": {},
   "outputs": [],
   "source": [
    "# Cria a matriz\n",
    "matriz = np.array([\n",
    "    [1, 2, 3, 4],\n",
    "    [5, 6, 7, 8],\n",
    "    [9, 10, 11, 12],\n",
    "    [13, 14, 15, 16]\n",
    "])"
   ]
  },
  {
   "cell_type": "code",
   "execution_count": 3,
   "id": "309f99de-9b12-4c40-ace1-d493175f901c",
   "metadata": {},
   "outputs": [
    {
     "name": "stdout",
     "output_type": "stream",
     "text": [
      "[[ 1  2  3  4]\n",
      " [ 5  6  7  8]\n",
      " [ 9 10 11 12]\n",
      " [13 14 15 16]]\n"
     ]
    }
   ],
   "source": [
    "print(matriz)"
   ]
  },
  {
   "cell_type": "code",
   "execution_count": 4,
   "id": "3d133f46-c9d2-4059-b9aa-da86488da38d",
   "metadata": {},
   "outputs": [
    {
     "name": "stdout",
     "output_type": "stream",
     "text": [
      "\n",
      "Terceira coluna da matriz:\n",
      "\n",
      "[ 3  7 11 15]\n"
     ]
    }
   ],
   "source": [
    "# Solução\n",
    "\n",
    "# Para selecionar uma coluna, usamos ':' para as linhas e o índice da coluna desejada\n",
    "# O ':' significa \"todas as linhas\"\n",
    "# O índice 2 refere-se à terceira coluna (pois a indexação em Python começa em 0)\n",
    "terceira_coluna = matriz[:, 2]\n",
    "\n",
    "print(\"\\nTerceira coluna da matriz:\\n\")\n",
    "print(terceira_coluna)\n",
    "\n",
    "# Saída esperada: [ 3  7 11 15]"
   ]
  },
  {
   "cell_type": "code",
   "execution_count": 5,
   "id": "42f17a18-2a5c-4a7e-9845-f901bb25fbcd",
   "metadata": {},
   "outputs": [
    {
     "data": {
      "text/plain": [
       "array([[ 2],\n",
       "       [ 6],\n",
       "       [10],\n",
       "       [14]])"
      ]
     },
     "execution_count": 5,
     "metadata": {},
     "output_type": "execute_result"
    }
   ],
   "source": [
    "# CUIDADO.... ISSO AQUI GERA RESULTADO COMPLETAMENTE DIFERENTE:\n",
    "matriz[:, 1:2]"
   ]
  },
  {
   "cell_type": "code",
   "execution_count": 6,
   "id": "49f2f10d-97f3-4461-ac01-1aaa49f4968f",
   "metadata": {},
   "outputs": [
    {
     "data": {
      "text/plain": [
       "array([], shape=(4, 0), dtype=int64)"
      ]
     },
     "execution_count": 6,
     "metadata": {},
     "output_type": "execute_result"
    }
   ],
   "source": [
    "# CUIDADO.... ISSO AQUI GERA RESULTADO COMPLETAMENTE DIFERENTE:\n",
    "matriz[:, 2:2]"
   ]
  },
  {
   "cell_type": "markdown",
   "id": "75e96948-16de-4aaf-ad10-37c99061fa82",
   "metadata": {},
   "source": [
    "O resultado é vazio porque o fatiamento matriz[:, 2:2] não seleciona nenhuma coluna. Quando usamos o operador de slice em Python (inicio:fim), o índice fim é exclusivo, ou seja, ele não é incluído no resultado.\n",
    "\n",
    "Em nosso caso:\n",
    "\n",
    "- 2:2 significa “comece na coluna de índice 2 e vá até antes da coluna de índice 2”.\n",
    "\n",
    "- Como o início e o fim são iguais, não há nenhuma coluna para pegar.\n",
    "\n",
    "- O NumPy então retorna um array com 4 linhas e 0 colunas: array([], shape=(4, 0), dtype=int64), ou seja, vazio."
   ]
  },
  {
   "cell_type": "code",
   "execution_count": 7,
   "id": "53206e03-a386-4257-b12c-54910459cc37",
   "metadata": {},
   "outputs": [
    {
     "data": {
      "text/plain": [
       "array([[ 3],\n",
       "       [ 7],\n",
       "       [11],\n",
       "       [15]])"
      ]
     },
     "execution_count": 7,
     "metadata": {},
     "output_type": "execute_result"
    }
   ],
   "source": [
    "# Já isso aqui gera o resultado esperado!\n",
    "matriz[:, 2:3]"
   ]
  },
  {
   "cell_type": "markdown",
   "id": "34b2e086-ce07-4ad4-b93d-f50713ab1e2e",
   "metadata": {},
   "source": [
    "#### Exercício 2: Extraindo um Bloco (Submatriz) (Nível Aprendiz)\n",
    "\n",
    "A partir da mesma matriz do exercício 1, extraia o bloco central 2x2, que contém os números 6, 7, 10 e 11."
   ]
  },
  {
   "cell_type": "code",
   "execution_count": 8,
   "id": "a558125b-bc88-4dd8-bacb-b706e76d2765",
   "metadata": {},
   "outputs": [
    {
     "name": "stdout",
     "output_type": "stream",
     "text": [
      "[[ 1  2  3  4]\n",
      " [ 5  6  7  8]\n",
      " [ 9 10 11 12]\n",
      " [13 14 15 16]]\n"
     ]
    }
   ],
   "source": [
    "print(matriz)"
   ]
  },
  {
   "cell_type": "code",
   "execution_count": 9,
   "id": "d9f8cb5b-202f-4f48-b819-0a1493d12c45",
   "metadata": {},
   "outputs": [
    {
     "name": "stdout",
     "output_type": "stream",
     "text": [
      "\n",
      "Bloco central 2x2:\n",
      "\n",
      "[[ 6  7]\n",
      " [10 11]]\n"
     ]
    }
   ],
   "source": [
    "# Solução\n",
    "\n",
    "# Extração dos dados da matriz\n",
    "bloco_central = matriz[1:3, 1:3]\n",
    "\n",
    "print(\"\\nBloco central 2x2:\\n\")\n",
    "print(bloco_central)\n",
    "\n",
    "# Saída esperada:\n",
    "# [[ 6  7]\n",
    "#  [10 11]]"
   ]
  },
  {
   "cell_type": "markdown",
   "id": "a37e769d-aee9-4827-b06a-4f0fe19f70a8",
   "metadata": {},
   "source": [
    "#### Exercício 3: Produto de Matrizes (Nível Iniciante)\n",
    "\n",
    "Dadas as duas matrizes A e B abaixo, calcule o produto matricial entre A e B."
   ]
  },
  {
   "cell_type": "code",
   "execution_count": 10,
   "id": "b2016785-33e9-4fc7-8760-62a827fe50f1",
   "metadata": {},
   "outputs": [],
   "source": [
    "# Cria as matrizes\n",
    "A = np.array([[1, 2, 3], [4, 5, 6]])       # Matriz 2x3\n",
    "B = np.array([[7, 8], [9, 10], [11, 12]])  # Matriz 3x2"
   ]
  },
  {
   "cell_type": "code",
   "execution_count": 11,
   "id": "c54c1074-56b8-4fce-9098-03783b14b803",
   "metadata": {},
   "outputs": [
    {
     "name": "stdout",
     "output_type": "stream",
     "text": [
      "Matriz A (2x3):\n",
      "[[1 2 3]\n",
      " [4 5 6]]\n",
      "\n",
      "Matriz B (3x2):\n",
      "[[ 7  8]\n",
      " [ 9 10]\n",
      " [11 12]]\n",
      "\n",
      "Produto Matricial C (2x2):\n",
      "[[ 58  64]\n",
      " [139 154]]\n"
     ]
    }
   ],
   "source": [
    "# Solução\n",
    "\n",
    "# O operador @ é a forma recomendada para o produto de matrizes em Python 3.5+\n",
    "C = A @ B\n",
    "\n",
    "print(\"Matriz A (2x3):\")\n",
    "print(A)\n",
    "print(\"\\nMatriz B (3x2):\")\n",
    "print(B)\n",
    "print(\"\\nProduto Matricial C (2x2):\")\n",
    "print(C)\n",
    "\n",
    "# Saída esperada:\n",
    "# [[ 58  64]\n",
    "#  [139 154]]"
   ]
  },
  {
   "cell_type": "markdown",
   "id": "e03f2912-dc02-4dab-b13c-c9d4e014d94d",
   "metadata": {},
   "source": [
    "Passo a Passo Data Science Academy:\n",
    "<!-- Trabalho Desenvolvido na Data Science Academy - www.datascienceacademy.com.br -->\n",
    "- C = A @ B: O operador @ realiza a multiplicação de matrizes. Ele calcula a soma dos produtos dos elementos das linhas de A pelos elementos das colunas de B. O número de colunas da primeira matriz (3) deve ser igual ao número de linhas da segunda matriz (3). O resultado é uma matriz com o número de linhas da primeira e o número de colunas da segunda (2x2)."
   ]
  },
  {
   "cell_type": "markdown",
   "id": "7cb7e23e-60ca-4e1f-8f96-003c2d83dacb",
   "metadata": {},
   "source": [
    "#### Exercício 4: Selecionando Linhas Pares e Colunas Ímpares (Nível Iniciante Plus)\n",
    "\n",
    "Dada a matriz 9x9 abaixo, crie um novo array que contenha apenas os valores das linhas de índice par e as colunas de índice ímpar."
   ]
  },
  {
   "cell_type": "code",
   "execution_count": 12,
   "id": "056ca49e-3cd2-40b8-a68b-b31cf8ee3a96",
   "metadata": {},
   "outputs": [],
   "source": [
    "# Cria a matriz\n",
    "matriz = np.arange(81).reshape(9, 9)"
   ]
  },
  {
   "cell_type": "code",
   "execution_count": 13,
   "id": "e862475d-84cc-4872-afc6-e39ff8846ff9",
   "metadata": {},
   "outputs": [
    {
     "name": "stdout",
     "output_type": "stream",
     "text": [
      "[[ 0  1  2  3  4  5  6  7  8]\n",
      " [ 9 10 11 12 13 14 15 16 17]\n",
      " [18 19 20 21 22 23 24 25 26]\n",
      " [27 28 29 30 31 32 33 34 35]\n",
      " [36 37 38 39 40 41 42 43 44]\n",
      " [45 46 47 48 49 50 51 52 53]\n",
      " [54 55 56 57 58 59 60 61 62]\n",
      " [63 64 65 66 67 68 69 70 71]\n",
      " [72 73 74 75 76 77 78 79 80]]\n"
     ]
    }
   ],
   "source": [
    "print(matriz)"
   ]
  },
  {
   "cell_type": "code",
   "execution_count": 14,
   "id": "ffabc808-267f-4cc8-99c5-0900b85042f4",
   "metadata": {},
   "outputs": [
    {
     "name": "stdout",
     "output_type": "stream",
     "text": [
      "Matriz Original:\n",
      "[[ 0  1  2  3  4  5  6  7  8]\n",
      " [ 9 10 11 12 13 14 15 16 17]\n",
      " [18 19 20 21 22 23 24 25 26]\n",
      " [27 28 29 30 31 32 33 34 35]\n",
      " [36 37 38 39 40 41 42 43 44]\n",
      " [45 46 47 48 49 50 51 52 53]\n",
      " [54 55 56 57 58 59 60 61 62]\n",
      " [63 64 65 66 67 68 69 70 71]\n",
      " [72 73 74 75 76 77 78 79 80]]\n",
      "\n",
      "Linhas Pares e Colunas Ímpares:\n",
      "[[ 1  3  5  7]\n",
      " [19 21 23 25]\n",
      " [37 39 41 43]\n",
      " [55 57 59 61]\n",
      " [73 75 77 79]]\n"
     ]
    }
   ],
   "source": [
    "# Solução\n",
    "\n",
    "# Usamos o passo no slicing (start:stop:step)\n",
    "# Para as linhas: '::2' significa do início ao fim, pulando de 2 em 2 (0, 2, 4)\n",
    "# Para as colunas: '1::2' significa do índice 1 ao fim, pulando de 2 em 2 (1, 3)\n",
    "resultado = matriz[::2, 1::2]\n",
    "\n",
    "print(\"Matriz Original:\")\n",
    "print(matriz)\n",
    "print(\"\\nLinhas Pares e Colunas Ímpares:\")\n",
    "print(resultado)\n",
    "\n",
    "# Saída esperada:\n",
    "# [[ 1  3  5  7]\n",
    "#  [19 21 23 25]\n",
    "#  [37 39 41 43]\n",
    "#  [55 57 59 61]\n",
    "#  [73 75 77 79]]"
   ]
  },
  {
   "cell_type": "markdown",
   "id": "a9672d26-bd96-4dee-a4b7-5ca1ff2dabb1",
   "metadata": {},
   "source": [
    "#### Exercício 5: Somando Valor a Uma Submatriz (Nível Pro)\n",
    "\n",
    "Dada a matriz abaixo (preenchida com zeros) adicione o valor 5 apenas ao bloco central 2x2."
   ]
  },
  {
   "cell_type": "code",
   "execution_count": 15,
   "id": "0958aefb-9df8-49ac-9f4f-603c1a7e72dd",
   "metadata": {},
   "outputs": [],
   "source": [
    "# Cria a matriz\n",
    "matriz = np.zeros((4, 4), dtype = int)"
   ]
  },
  {
   "cell_type": "code",
   "execution_count": 16,
   "id": "6f2b18bc-a3ef-48ce-98f3-2c766bde70cd",
   "metadata": {},
   "outputs": [
    {
     "name": "stdout",
     "output_type": "stream",
     "text": [
      "[[0 0 0 0]\n",
      " [0 0 0 0]\n",
      " [0 0 0 0]\n",
      " [0 0 0 0]]\n"
     ]
    }
   ],
   "source": [
    "print(matriz)"
   ]
  },
  {
   "cell_type": "code",
   "execution_count": 17,
   "id": "85c55211-b149-4973-9db8-738c692031c3",
   "metadata": {},
   "outputs": [
    {
     "name": "stdout",
     "output_type": "stream",
     "text": [
      "Matriz com o centro modificado:\n",
      "[[0 0 0 0]\n",
      " [0 5 5 0]\n",
      " [0 5 5 0]\n",
      " [0 0 0 0]]\n"
     ]
    }
   ],
   "source": [
    "# Solução\n",
    "\n",
    "# Primeiro, selecionamos o bloco central 2x2 usando slicing\n",
    "# Em seguida, usamos o operador '+=' para somar 5 a cada elemento da seleção\n",
    "matriz[1:3, 1:3] += 5\n",
    "\n",
    "print(\"Matriz com o centro modificado:\")\n",
    "print(matriz)\n",
    "\n",
    "# Saída esperada:\n",
    "# [[0 0 0 0]\n",
    "#  [0 5 5 0]\n",
    "#  [0 5 5 0]\n",
    "#  [0 0 0 0]]"
   ]
  },
  {
   "cell_type": "markdown",
   "id": "348e50cf-723b-469c-82f5-b90f55958c81",
   "metadata": {},
   "source": [
    "#### Exercício 6: Normalização de Uma Matriz (Nível Master)\n",
    "\n",
    "Normalize a matriz abaixo. \n",
    "\n",
    "A normalização (Z-score) é feita subtraindo a média de todos os elementos de cada elemento e, em seguida, dividindo pelo desvio padrão. \n",
    "\n",
    "Fórmula: (X - media) / desvio_padrao."
   ]
  },
  {
   "cell_type": "code",
   "execution_count": 18,
   "id": "4ad45955-b0e1-43e9-bec3-ef2481906d0d",
   "metadata": {},
   "outputs": [],
   "source": [
    "# Cria a matriz\n",
    "matriz = np.array([[10, 20, 30], [40, 50, 60], [70, 80, 90]])"
   ]
  },
  {
   "cell_type": "code",
   "execution_count": 19,
   "id": "13e4470d-c764-4b76-aae6-7d23414b812b",
   "metadata": {},
   "outputs": [
    {
     "name": "stdout",
     "output_type": "stream",
     "text": [
      "[[10 20 30]\n",
      " [40 50 60]\n",
      " [70 80 90]]\n"
     ]
    }
   ],
   "source": [
    "print(matriz)"
   ]
  },
  {
   "cell_type": "code",
   "execution_count": 20,
   "id": "8a7529f2-98b7-465f-8e1c-b890bdc96be0",
   "metadata": {},
   "outputs": [
    {
     "name": "stdout",
     "output_type": "stream",
     "text": [
      "Média: 50.0\n",
      "Desvio Padrão: 25.82\n",
      "\n",
      "Matriz Normalizada:\n",
      "[[-1.55 -1.16 -0.77]\n",
      " [-0.39  0.    0.39]\n",
      " [ 0.77  1.16  1.55]]\n"
     ]
    }
   ],
   "source": [
    "# Solução\n",
    "\n",
    "# 1. Calcular a média de todos os elementos da matriz\n",
    "media = np.mean(matriz)\n",
    "\n",
    "# 2. Calcular o desvio padrão de todos os elementos\n",
    "desvio_padrao = np.std(matriz)\n",
    "\n",
    "# 3. Aplicar a fórmula da normalização\n",
    "matriz_normalizada = (matriz - media) / desvio_padrao\n",
    "\n",
    "print(\"Média:\", media)\n",
    "print(\"Desvio Padrão:\", f\"{desvio_padrao:.2f}\")\n",
    "print(\"\\nMatriz Normalizada:\")\n",
    "print(np.round(matriz_normalizada, 2))"
   ]
  },
  {
   "cell_type": "markdown",
   "id": "f43444ec-1976-4b3e-b840-c8624429b710",
   "metadata": {},
   "source": [
    "Passo a Passo Data Science Academy:\n",
    "\n",
    "- media = np.mean(matriz): Calcula a média de todos os números na matriz (que é 50).\n",
    "\n",
    "- desvio_padrao = np.std(matriz): Calcula o desvio padrão (que é aprox. 25.82).\n",
    "\n",
    "- matriz_normalizada = (matriz - media) / desvio_padrao: Aqui o NumPy usa broadcasting. Ele subtrai a media (um escalar) de cada elemento da matriz. Em seguida, divide cada elemento do resultado pelo desvio_padrao (outro escalar).\n",
    "\n",
    "Aqui aplicamos o conceito de vetorização do NumPy (estudado no capítulo anterior).\n",
    "\n",
    "<!-- Trabalho Desenvolvido na Data Science Academy - www.datascienceacademy.com.br -->"
   ]
  },
  {
   "cell_type": "markdown",
   "id": "d23718eb-52ff-46c4-b2b0-f3551e6255d7",
   "metadata": {},
   "source": [
    "#### Exercício 7: Substituindo Valores com Base em Uma Condição (Nível Ninja)\n",
    "\n",
    "Dada a matriz abaixo, crie uma nova matriz onde todos os números maiores que 8 sejam substituídos pelo valor -1. Crie uma cópia da matriz antes de fazer a operação."
   ]
  },
  {
   "cell_type": "code",
   "execution_count": 21,
   "id": "eacc6dda-fd85-4a78-8b85-00bfb1a43ea9",
   "metadata": {},
   "outputs": [],
   "source": [
    "# Cria a matriz\n",
    "dados = np.arange(16).reshape(4, 4)"
   ]
  },
  {
   "cell_type": "code",
   "execution_count": 22,
   "id": "80d80024-600b-48ff-a3ce-a47de3d9215e",
   "metadata": {},
   "outputs": [
    {
     "name": "stdout",
     "output_type": "stream",
     "text": [
      "[[ 0  1  2  3]\n",
      " [ 4  5  6  7]\n",
      " [ 8  9 10 11]\n",
      " [12 13 14 15]]\n"
     ]
    }
   ],
   "source": [
    "print(dados)"
   ]
  },
  {
   "cell_type": "code",
   "execution_count": 23,
   "id": "232ca993-1489-4672-9ee7-af32d782e533",
   "metadata": {},
   "outputs": [
    {
     "name": "stdout",
     "output_type": "stream",
     "text": [
      "Matriz Original:\n",
      "[[ 0  1  2  3]\n",
      " [ 4  5  6  7]\n",
      " [ 8  9 10 11]\n",
      " [12 13 14 15]]\n",
      "\n",
      "Matriz Modificada:\n",
      "[[ 0  1  2  3]\n",
      " [ 4  5  6  7]\n",
      " [ 8 -1 -1 -1]\n",
      " [-1 -1 -1 -1]]\n"
     ]
    }
   ],
   "source": [
    "# Solução\n",
    "\n",
    "# Copiamos a matriz para não alterar a original\n",
    "matriz_modificada = dados.copy()\n",
    "\n",
    "# Usamos indexação booleana para encontrar onde a condição é verdadeira\n",
    "# E então atribuímos o novo valor (-1) a essas posições\n",
    "matriz_modificada[matriz_modificada > 8] = -1\n",
    "\n",
    "print(\"Matriz Original:\")\n",
    "print(dados)\n",
    "print(\"\\nMatriz Modificada:\")\n",
    "print(matriz_modificada)\n",
    "\n",
    "# Saída esperada:\n",
    "# [[ 0  1  2  3]\n",
    "#  [ 4  5  6  7]\n",
    "#  [ 8 -1 -1 -1]\n",
    "#  [-1 -1 -1 -1]]"
   ]
  },
  {
   "cell_type": "markdown",
   "id": "bbff8683-186b-47b0-a60b-de06757e933d",
   "metadata": {},
   "source": [
    "Passo a Passo Data Science Academy:\n",
    "\n",
    "- matriz_modificada = dados.copy(): É uma boa prática criar uma cópia para preservar o array original.\n",
    "\n",
    "- matriz_modificada > 8: Esta operação cria uma matriz booleana (de True/False) com as mesmas dimensões da original, onde cada posição é True se o elemento correspondente for maior que 8, e False caso contrário.\n",
    "\n",
    "- matriz_modificada[...] = -1: Usamos essa matriz booleana como um \"filtro\" ou \"máscara\". O valor -1 é atribuído a todas as posições da matriz_modificada onde a máscara booleana é True."
   ]
  },
  {
   "cell_type": "markdown",
   "id": "2e5f2d67-c1c7-4f4c-938f-c64acb34e3d9",
   "metadata": {},
   "source": [
    "#### Exercício 8: Inversa de Uma Matriz (Nível Ninja Pro Master)\n",
    "\n",
    "Calcule a matriz inversa da matriz A. Depois, verifique seu trabalho calculando o produto de A pela sua inversa (o resultado deve ser a matriz identidade).\n",
    "\n",
    "A matriz inversa de uma matriz quadrada A é outra matriz, chamada A⁻¹, que quando multiplicada por A resulta na matriz identidade (uma matriz que tem 1 na diagonal principal e 0 nos outros elementos). Em outras palavras, A × A⁻¹ = I. A inversa só existe para matrizes quadradas que não sejam singulares, ou seja, que tenham determinante diferente de zero. Ela é usada para resolver sistemas lineares, desfazer transformações e em várias aplicações de álgebra linear.\n",
    "\n",
    "O determinante é um número único calculado a partir dos elementos de uma matriz quadrada (mesmo número de linhas e colunas) que resume algumas propriedades fundamentais da matriz. Ele indica, por exemplo, se a matriz é invertível (determinante diferente de zero) ou singular (determinante igual a zero)."
   ]
  },
  {
   "cell_type": "code",
   "execution_count": 24,
   "id": "c2e59fcd-f418-430b-9298-0a8bd7ec9e7c",
   "metadata": {},
   "outputs": [],
   "source": [
    "# Cria a matriz\n",
    "A = np.array([[4, 7], [2, 6]])"
   ]
  },
  {
   "cell_type": "code",
   "execution_count": 25,
   "id": "42ed093a-be4e-4e61-83ad-56949b944ca7",
   "metadata": {},
   "outputs": [
    {
     "name": "stdout",
     "output_type": "stream",
     "text": [
      "[[4 7]\n",
      " [2 6]]\n"
     ]
    }
   ],
   "source": [
    "print(A)"
   ]
  },
  {
   "cell_type": "code",
   "execution_count": 26,
   "id": "da69715c-eaee-4f58-947f-1a86bcde93c3",
   "metadata": {},
   "outputs": [
    {
     "name": "stdout",
     "output_type": "stream",
     "text": [
      "Matriz Original A:\n",
      "[[4 7]\n",
      " [2 6]]\n",
      "\n",
      "Matriz Inversa de A:\n",
      "[[ 0.6 -0.7]\n",
      " [-0.2  0.4]]\n",
      "\n",
      "Produto A * A_inversa (deve ser a Matriz Identidade):\n",
      "[[1. 0.]\n",
      " [0. 1.]]\n"
     ]
    }
   ],
   "source": [
    "# Solução\n",
    "\n",
    "# A função inv() do submódulo linalg calcula a inversa\n",
    "A_inversa = np.linalg.inv(A)\n",
    "\n",
    "# Verificação: o produto de uma matriz pela sua inversa é a matriz identidade\n",
    "identidade = A @ A_inversa\n",
    "\n",
    "print(\"Matriz Original A:\")\n",
    "print(A)\n",
    "print(\"\\nMatriz Inversa de A:\")\n",
    "print(np.round(A_inversa, 2))\n",
    "print(\"\\nProduto A * A_inversa (deve ser a Matriz Identidade):\")\n",
    "\n",
    "# Usamos np.round() para lidar com pequenas imprecisões de ponto flutuante\n",
    "# abs() retorna os valores absolutos\n",
    "print(abs(np.round(identidade)))"
   ]
  },
  {
   "cell_type": "markdown",
   "id": "9983157b-13e4-4aae-861b-083a418c873d",
   "metadata": {},
   "source": [
    "Passo a Passo Data Science Academy:\n",
    "\n",
    "- A_inversa = np.linalg.inv(A): O submódulo linalg do NumPy contém funções de álgebra linear. inv() é a função para calcular a inversa de uma matriz. Uma inversa só existe para matrizes quadradas cujo determinante não é zero.\n",
    "\n",
    "- identidade = A @ A_inversa: Calculamos o produto matricial para verificação.\n",
    "\n",
    "- np.round(...): Devido à forma como os computadores lidam com números de ponto flutuante, o resultado pode ter valores muito pequenos (como 1.11e-16) em vez de zero. np.round() arredonda esses valores para facilitar a visualização e confirmar que o resultado é, de fato, a matriz identidade."
   ]
  },
  {
   "cell_type": "markdown",
   "id": "1d18c6eb-6025-4ea9-a971-0d73b496efbd",
   "metadata": {},
   "source": [
    "#### Exercício 9: Resolvendo Um Sistema de Equações Lineares (Nível Ninja Pro Master das Galáxias)\n",
    "<!-- Trabalho Desenvolvido na Data Science Academy - www.datascienceacademy.com.br -->\n",
    "Resolva o seguinte sistema de equações lineares:\n",
    "\n",
    "2x + y = 8\n",
    "\n",
    "x + 3y = 7\n",
    "\n",
    "Represente o sistema na forma matricial Ax = b e encontre o vetor x (que contém os valores de x e y)."
   ]
  },
  {
   "cell_type": "code",
   "execution_count": 27,
   "id": "69ce8080-9d78-40e9-be3b-d6ed21c44c40",
   "metadata": {},
   "outputs": [
    {
     "name": "stdout",
     "output_type": "stream",
     "text": [
      "Matriz de Coeficientes A:\n",
      "[[2 1]\n",
      " [1 3]]\n",
      "\n",
      "Vetor de Constantes b:\n",
      "[8 7]\n",
      "\n",
      "Solução (x, y): [3.4 1.2]\n"
     ]
    }
   ],
   "source": [
    "# Solução\n",
    "\n",
    "# Matriz A contém os coeficientes das variáveis (lado esquerdo da equação)\n",
    "A = np.array([[2, 1], [1, 3]])\n",
    "\n",
    "# Vetor b contém as constantes (lado direito da equação)\n",
    "b = np.array([8, 7])\n",
    "\n",
    "# A função solve() do submódulo linalg resolve o sistema Ax = b\n",
    "x = np.linalg.solve(A, b)\n",
    "\n",
    "print(\"Matriz de Coeficientes A:\")\n",
    "print(A)\n",
    "print(\"\\nVetor de Constantes b:\")\n",
    "print(b)\n",
    "print(f\"\\nSolução (x, y): {np.round(x, 2)}\") \n",
    "\n",
    "# Saída esperada: [3.4 1.2]"
   ]
  },
  {
   "cell_type": "markdown",
   "id": "8f1f499b-8ef5-4b06-930a-e3554bcaf845",
   "metadata": {},
   "source": [
    "Passo a Passo Data Science Academy:\n",
    "\n",
    "- A = np.array(...): Criamos a matriz A com os coeficientes de x e y em cada equação. A primeira linha [2, 1] corresponde a 2x + 1y. A segunda linha [1, 3] corresponde a 1x + 3y.\n",
    "\n",
    "- b = np.array(...): Criamos o vetor b com os resultados de cada equação.\n",
    "\n",
    "- x = np.linalg.solve(A, b): Esta é a maneira mais eficiente e numericamente estável de resolver um sistema de equações lineares no NumPy. Ela encontra o vetor x que satisfaz a equação A @ x = b. O primeiro elemento do resultado é x e o segundo é y."
   ]
  },
  {
   "cell_type": "markdown",
   "id": "d0b05e07-1b99-4f71-b0fa-39d28fc79337",
   "metadata": {},
   "source": [
    "#### Exercício 10: Extraindo a Borda de Uma Matriz (Nível Ninja Pro Master das Galáxias Plus)\n",
    "\n",
    "Dada uma matriz 5x5, crie um novo array 1D contendo todos os elementos da borda da matriz, em sentido horário, começando pelo canto superior esquerdo."
   ]
  },
  {
   "cell_type": "code",
   "execution_count": 28,
   "id": "b184a3ef-ddcd-400c-91e8-5456569dd72b",
   "metadata": {},
   "outputs": [],
   "source": [
    "# Cria a matriz\n",
    "matriz = np.arange(25).reshape(5, 5)"
   ]
  },
  {
   "cell_type": "code",
   "execution_count": 29,
   "id": "14934ef7-bac1-46ec-b9e9-72024dcbae21",
   "metadata": {},
   "outputs": [
    {
     "name": "stdout",
     "output_type": "stream",
     "text": [
      "[[ 0  1  2  3  4]\n",
      " [ 5  6  7  8  9]\n",
      " [10 11 12 13 14]\n",
      " [15 16 17 18 19]\n",
      " [20 21 22 23 24]]\n"
     ]
    }
   ],
   "source": [
    "print(matriz)"
   ]
  },
  {
   "cell_type": "code",
   "execution_count": 30,
   "id": "684b4f01-3036-4acf-9e20-b67822107120",
   "metadata": {},
   "outputs": [
    {
     "name": "stdout",
     "output_type": "stream",
     "text": [
      "Matriz Original:\n",
      "[[ 0  1  2  3  4]\n",
      " [ 5  6  7  8  9]\n",
      " [10 11 12 13 14]\n",
      " [15 16 17 18 19]\n",
      " [20 21 22 23 24]]\n",
      "\n",
      "Borda da Matriz:\n",
      "[ 0  1  2  3  4  9 14 19 24 23 22 21 20 15 10  5]\n"
     ]
    }
   ],
   "source": [
    "# Solução\n",
    "\n",
    "# 1. Extrair a linha de cima\n",
    "linha_topo = matriz[0, :]\n",
    "\n",
    "# 2. Extrair a coluna da direita (sem o elemento do topo que já pegamos)\n",
    "coluna_direita = matriz[1:, -1]\n",
    "\n",
    "# 3. Extrair a linha de baixo em ordem reversa (sem o elemento da direita)\n",
    "linha_baixo = matriz[-1, :-1][::-1]\n",
    "\n",
    "# 4. Extrair a coluna da esquerda em ordem reversa (sem os elementos dos cantos)\n",
    "coluna_esquerda = matriz[1:-1, 0][::-1]\n",
    "\n",
    "# 5. Concatenar todas as partes\n",
    "borda = np.concatenate([linha_topo, coluna_direita, linha_baixo, coluna_esquerda])\n",
    "\n",
    "print(\"Matriz Original:\")\n",
    "print(matriz)\n",
    "print(\"\\nBorda da Matriz:\")\n",
    "print(borda)\n",
    "\n",
    "# Saída esperada: [ 0  1  2  3  4  9 14 19 24 23 22 21 20 15 10  5]"
   ]
  },
  {
   "cell_type": "markdown",
   "id": "1a431695-abab-43f9-885a-15688308d79a",
   "metadata": {},
   "source": [
    "Passo a Passo Data Science Academy:\n",
    "\n",
    "- linha_topo = matriz[0, :]: Seleciona a primeira linha inteira.\n",
    "\n",
    "- coluna_direita = matriz[1:, -1]: Seleciona a última coluna (-1), a partir da segunda linha (1:), para evitar repetir o elemento do canto.\n",
    "\n",
    "- linha_baixo = matriz[-1, :-1][::-1]: Seleciona a última linha (-1), até a penúltima coluna (:-1), e depois inverte a ordem com [::-1].\n",
    "<!-- Trabalho Desenvolvido na Data Science Academy - www.datascienceacademy.com.br -->\n",
    "- coluna_esquerda = matriz[1:-1, 0][::-1]: Seleciona a primeira coluna (0), da segunda (1:) até a penúltima (-1) linha, e inverte a ordem.\n",
    "\n",
    "- np.concatenate([...]): Junta todos os arrays 1D em um único array."
   ]
  },
  {
   "cell_type": "markdown",
   "id": "800eb189-a900-4307-a31c-910e5bb1e6c9",
   "metadata": {},
   "source": [
    "# Fim"
   ]
  }
 ],
 "metadata": {
  "kernelspec": {
   "display_name": "Python 3 (ipykernel)",
   "language": "python",
   "name": "python3"
  },
  "language_info": {
   "codemirror_mode": {
    "name": "ipython",
    "version": 3
   },
   "file_extension": ".py",
   "mimetype": "text/x-python",
   "name": "python",
   "nbconvert_exporter": "python",
   "pygments_lexer": "ipython3",
   "version": "3.13.5"
  }
 },
 "nbformat": 4,
 "nbformat_minor": 5
}
