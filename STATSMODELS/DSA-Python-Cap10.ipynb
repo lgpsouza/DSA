{
 "cells": [
  {
   "cell_type": "markdown",
   "id": "c64a1ba1-b7f4-4574-aabc-8a99fea239f3",
   "metadata": {},
   "source": [
    "<!-- Trabalho Desenvolvido no Curso da Data Science Academy - www.datascienceacademy.com.br -->\n",
    "# <font color='blue'>Data Science Academy</font>\n",
    "# <font color='blue'>Fundamentos de Linguagem Python - Do Básico a Aplicações de IA</font>\n",
    "# <font color='blue'>Caderno de Conceitos Estatísticos Essenciais com Statsmodels</font>"
   ]
  },
  {
   "cell_type": "markdown",
   "id": "08b8e3d2-9694-4d10-b4c5-2e6de4610182",
   "metadata": {},
   "source": [
    "## 1. O Que é e Quando Usar o Statsmodels?\n",
    "\n",
    "Leia o manual em pdf no Capítulo 10 do Curso. Além do Statsmodels usaremos NumPy, Pandas e Seaborn para análise estatística."
   ]
  },
  {
   "cell_type": "markdown",
   "id": "74e128fe-261e-4afe-a897-df4188b5a05d",
   "metadata": {},
   "source": [
    "## 2. O Que é Análise Estatística?\n",
    "\n",
    "A Análise Estatística é a ciência e a prática de coletar, explorar, interpretar e apresentar dados para descobrir padrões, tendências e relações entre variáveis. Ela utiliza métodos matemáticos e estatísticos para transformar dados brutos em insights compreensíveis.\n",
    "\n",
    "O objetivo principal da análise estatística não é apenas descrever o que aconteceu no passado (estatística descritiva), mas também usar esses dados para tirar conclusões sobre o mundo em geral, muitas vezes aplicando a teoria da probabilidade para quantificar a incerteza dessas conclusões (estatística inferencial).\n",
    "\n",
    "A análise estatística fornece as ferramentas para:\n",
    "\n",
    "- Resumir dados: Através de médias, medianas, desvios-padrão, etc.\n",
    "\n",
    "- Visualizar dados: Usando gráficos para identificar padrões.\n",
    "\n",
    "- Testar hipóteses: Para tomar decisões baseadas em evidências (ex: \"O novo design do site realmente aumentou as vendas?\").\n",
    "<!-- Trabalho Desenvolvido no Curso da Data Science Academy - www.datascienceacademy.com.br -->\n",
    "- Quantificar a incerteza: Utilizando intervalos de confiança e p-valores para entender a confiabilidade dos resultados.\n",
    "\n",
    "**Principais Tipos de Análise Estatística**\n",
    "\n",
    "A análise estatística é geralmente dividida em duas grandes categorias:\n",
    "\n",
    "**1. Estatística Descritiva**\n",
    "\n",
    "O seu objetivo é resumir e organizar os dados de um estudo ou amostra. Não tenta tirar conclusões para além dos dados analisados. As principais ferramentas incluem:\n",
    "\n",
    "- Medidas de Tendência Central: Como a média, a mediana e a moda, que representam um valor típico do conjunto de dados.\n",
    "\n",
    "- Medidas de Dispersão: Como o desvio-padrão, a variância e a amplitude, que indicam o quão espalhados os dados estão.\n",
    "\n",
    "- Visualizações Gráficas: Gráficos de barras, histogramas e diagramas de dispersão que ajudam a visualizar os dados.\n",
    "\n",
    "**2. Estatística Inferencial**\n",
    "\n",
    "O seu objetivo é usar os dados de uma amostra para fazer generalizações, previsões ou inferências sobre uma população inteira da qual a amostra foi retirada. As técnicas mais comuns incluem:\n",
    "\n",
    "- Testes de Hipóteses: Procedimentos formais usados para aceitar ou rejeitar uma hipótese estatística (por exemplo, testar se um novo medicamento é mais eficaz que o antigo).\n",
    "\n",
    "- Análise de Regressão: Modela a relação entre uma variável dependente e uma ou mais variáveis independentes, permitindo fazer previsões.\n",
    "\n",
    "- Intervalos de Confiança: Fornecem um intervalo de valores que provavelmente contém o verdadeiro valor de um parâmetro da população.\n",
    "\n",
    "![DSA](imagem1.png)"
   ]
  },
  {
   "cell_type": "markdown",
   "id": "0888d494-23a8-4197-b534-495cd05b2786",
   "metadata": {},
   "source": [
    "Leia o manual em pdf sobre Amostra e População no Capítulo 10 do curso."
   ]
  },
  {
   "cell_type": "markdown",
   "id": "284bdd4e-b057-467f-a03f-d944cddafc80",
   "metadata": {},
   "source": [
    "## 3. Diferença Entre Modelagem Estatística vs. Modelagem Preditiva\n",
    "\n",
    "A modelagem estatística e a modelagem preditiva compartilham muitas bases matemáticas, mas têm objetivos e filosofias diferentes. Enquanto a estatística busca entender os dados e as relações entre variáveis, a modelagem preditiva tem como foco prever resultados futuros com o máximo de precisão possível, mesmo que a interpretação do modelo seja limitada.\n",
    "\n",
    "Na modelagem estatística, o objetivo principal é explicar fenômenos. Ela busca compreender como e por que as variáveis estão relacionadas. Por exemplo, em uma regressão linear clássica, o foco é estimar o impacto de cada variável independente sobre a variável dependente, interpretando coeficientes, intervalos de confiança e significância estatística (p-valores). Aqui, a explicabilidade é mais importante que a precisão. É uma abordagem comum em pesquisas científicas, economia e ciências sociais.\n",
    "\n",
    "Já a modelagem preditiva é orientada à performance e generalização. O interesse não está necessariamente em entender o “porquê”, mas em fazer boas previsões, seja para identificar clientes propensos ao churn, prever fraudes ou recomendar produtos. Ela usa algoritmos mais complexos (como árvores de decisão, random forests, gradient boosting, redes neurais) e se apoia em técnicas de validação e ajuste fino (como cross-validation e otimização de hiperparâmetros). Aqui, a prioridade é o acerto, mesmo que o modelo seja uma “caixa-preta”.\n",
    "\n",
    "Imagine que você quer entender o que causa o preço de uma casa:\n",
    "\n",
    "- Na Modelagem Estatística nós construiríamos um modelo de regressão para explicar o preço. O modelo ajudaria a explicar: \"Para cada metro quadrado a mais, o preço aumenta, em média, em 12.000 reais, e este efeito é estatisticamente significativo (p-valor < 0.05). A presença de uma piscina aumenta o preço em 15.000 reais.\" O objetivo é entender os fatores e sua importância.\n",
    "<!-- Trabalho Desenvolvido no Curso da Data Science Academy - www.datascienceacademy.com.br -->\n",
    "- Na Modelagem Preditiva testaríamos vários algoritmos para prever o preço de uma casa nova que entra no mercado. Aqui poderíamos usar um modelo complexo (como XGBoost) e dizer: \"Para esta casa específica com estas 150 características, podemos prever um preço de $550.000 com uma margem de erro de 3%\". O modelo pode não saber explicar exatamente como cada uma das 150 características contribuiu, mas o modelo é extremamente preciso em suas previsões.\n",
    "\n",
    "A modelagem estatística explica o passado, enquanto a modelagem preditiva antecipa o futuro. A primeira busca compreender as relações e testar hipóteses; a segunda busca construir sistemas capazes de prever com confiança e, muitas vezes, em tempo real. O profissional de dados precisa dominar ambas: entender os fundamentos estatísticos para interpretar corretamente os resultados e aplicar técnicas preditivas para transformar dados em ação.\n",
    "\n",
    "Use Modelagem Estatística quando precisar de explicação e compreensão. Use Modelagem Preditiva quando precisar de previsões precisas e acionáveis. As duas abordagens são ferramentas poderosas e complementares no arsenal de um Cientista de Dados.\n",
    "\n",
    "![DSA](imagem2.png)"
   ]
  },
  {
   "cell_type": "markdown",
   "id": "0f3307a4-629a-4c96-978b-4b0391a7b935",
   "metadata": {},
   "source": [
    "Este Jupyter Notebook demonstra conceitos estatísticos fundamentais usando dados sintéticos e a biblioteca Python `Statsmodels`. Cada seção apresenta uma definição simples seguida por um exemplo prático.\n",
    "\n",
    "**Bibliotecas necessárias:**\n",
    "- `numpy` para a criação de dados numéricos\n",
    "- `pandas` para manipulação de dados\n",
    "- `statsmodels` para a modelagem e testes estatísticos\n",
    "- `matplotlib` e `seaborn` para visualização\n",
    "\n",
    "Vamos começar importando as bibliotecas."
   ]
  },
  {
   "cell_type": "code",
   "execution_count": 1,
   "id": "c06edcc5-b145-4404-b91a-ba8d4fd03c07",
   "metadata": {},
   "outputs": [
    {
     "name": "stdout",
     "output_type": "stream",
     "text": [
      "\n",
      "\u001b[1m[\u001b[0m\u001b[34;49mnotice\u001b[0m\u001b[1;39;49m]\u001b[0m\u001b[39;49m A new release of pip is available: \u001b[0m\u001b[31;49m25.2\u001b[0m\u001b[39;49m -> \u001b[0m\u001b[32;49m25.3\u001b[0m\n",
      "\u001b[1m[\u001b[0m\u001b[34;49mnotice\u001b[0m\u001b[1;39;49m]\u001b[0m\u001b[39;49m To update, run: \u001b[0m\u001b[32;49mpip install --upgrade pip\u001b[0m\n"
     ]
    }
   ],
   "source": [
    "# Instala o pacote watermark\n",
    "!pip install -q -U watermark"
   ]
  },
  {
   "cell_type": "code",
   "execution_count": 2,
   "id": "b3c177bc-cf0b-43f2-9487-29801293f694",
   "metadata": {},
   "outputs": [
    {
     "name": "stdout",
     "output_type": "stream",
     "text": [
      "Author: Data Science Academy\n",
      "\n",
      "pandas     : 2.3.1\n",
      "matplotlib : 3.10.0\n",
      "numpy      : 2.3.2\n",
      "seaborn    : 0.13.2\n",
      "statsmodels: 0.14.4\n",
      "\n"
     ]
    }
   ],
   "source": [
    "# Importações essenciais\n",
    "import numpy as np\n",
    "import pandas as pd\n",
    "import statsmodels.api as sm\n",
    "import statsmodels.formula.api as smf\n",
    "from statsmodels.stats.weightstats import ttest_ind\n",
    "import matplotlib.pyplot as plt\n",
    "import seaborn as sns\n",
    "\n",
    "# Configuração para os gráficos\n",
    "sns.set_style('whitegrid')\n",
    "plt.rcParams['figure.figsize'] = (10, 6)\n",
    "\n",
    "%reload_ext watermark\n",
    "%watermark -a \"Data Science Academy\" --iversions"
   ]
  },
  {
   "cell_type": "markdown",
   "id": "1eb69a6f-2b0c-41f3-816c-5c249fb8d935",
   "metadata": {},
   "source": [
    "## 4. Estatística Descritiva\n",
    "\n",
    "**Definição:** É o processo de usar números para resumir e descrever as principais características de um conjunto de dados. Em vez de olhar para centenas de dados brutos, usamos medidas como a média (valor central), mediana (valor do meio) e desvio padrão (o quão espalhados os dados estão).\n",
    "\n",
    "### 4.1. Medidas de Tendência Central\n",
    "\n",
    "As medidas de tendência central indicam onde os dados se concentram, ou seja, o valor que representa o “centro” ou o “típico” do conjunto.\n",
    "As principais são:\n",
    "\n",
    "- Média (aritmética): É a soma de todos os valores dividida pelo número de observações. Representa o valor médio do grupo, mas é sensível a outliers (valores muito altos ou baixos). Exemplo: a média de [2, 3, 5] é (2+3+5)/3 = 3,33.\n",
    "\n",
    "- Mediana: É o valor central quando os dados são ordenados. Divide o conjunto ao meio, metade dos valores fica abaixo e metade acima. É menos afetada por outliers, sendo útil em distribuições assimétricas. Exemplo: em [2, 3, 100], a mediana é 3.\n",
    "\n",
    "- Moda: É o valor que mais se repete no conjunto. Pode haver uma (unimodal), várias (multimodal) ou nenhuma moda (quando todos os valores são únicos). Exemplo: em [2, 2, 3, 5], a moda é 2.\n",
    "\n",
    "Essas medidas respondem à pergunta: “Qual é o valor típico ou central dos meus dados?”\n",
    "\n",
    "### 4.2. Medidas de Dispersão\n",
    "\n",
    "As medidas de dispersão mostram o quanto os dados se afastam do centro, ou seja, o grau de variabilidade entre as observações.\n",
    "As principais são:\n",
    "\n",
    "- Amplitude (ou intervalo): É a diferença entre o maior e o menor valor. Mede a variação total, mas depende fortemente de outliers. Exemplo: se os dados vão de 10 a 40, a amplitude é 30.\n",
    "\n",
    "- Variância: Mede quanto, em média, os valores se afastam da média, elevando essas diferenças ao quadrado. É expressa em unidades ao quadrado. Exemplo: variância alta → dados muito dispersos.\n",
    "\n",
    "- Desvio Padrão: É a raiz quadrada da variância, voltando à unidade original dos dados. Representa o desvio médio em relação à média. Exemplo: se o desvio padrão é 5, os dados tendem a variar ±5 unidades em torno da média.\n",
    "\n",
    "- Coeficiente de Variação (CV): É o desvio padrão dividido pela média, em percentual. Mostra a dispersão relativa — quanto maior o CV, mais instável é o conjunto de dados. Exemplo: CV = (desvio padrão / média) × 100.\n",
    "\n",
    "Resumindo:\n",
    "\n",
    "- As medidas de tendência central indicam onde os dados se concentram.\n",
    "\n",
    "- As medidas de dispersão indicam o quanto eles variam em torno desse centro.\n",
    "\n",
    "Juntas, elas fornecem uma visão completa da distribuição e da consistência dos dados, base essencial para qualquer análise estatística ou modelo de Machine Learning."
   ]
  },
  {
   "cell_type": "code",
   "execution_count": 3,
   "id": "31022f8f-ea6b-4b0d-bc44-7ff116f8be79",
   "metadata": {},
   "outputs": [],
   "source": [
    "# Para resultados reprodutíveis\n",
    "np.random.seed(42)"
   ]
  },
  {
   "cell_type": "code",
   "execution_count": 4,
   "id": "56d2d459-0dbc-4fec-bb18-303eb7d87224",
   "metadata": {},
   "outputs": [],
   "source": [
    "# Gera dados aleatórios seguindo distribuição normal\n",
    "grupo_a = np.random.normal(loc = 175, scale = 5, size = 100)  # Média ~175cm, desvio padrão ~5\n",
    "grupo_b = np.random.normal(loc = 180, scale = 6, size = 100)  # Média ~180cm, desvio padrão ~6"
   ]
  },
  {
   "cell_type": "code",
   "execution_count": 5,
   "id": "eacd7ae8-18e2-45b0-a5bb-9bef7e7aa8cc",
   "metadata": {},
   "outputs": [],
   "source": [
    "# Cria DataFrame\n",
    "df_alturas = pd.DataFrame({'Grupo A': grupo_a, 'Grupo B': grupo_b})"
   ]
  },
  {
   "cell_type": "code",
   "execution_count": 6,
   "id": "f5724c59-a9f1-4856-81b1-213e2b8a45b0",
   "metadata": {},
   "outputs": [
    {
     "data": {
      "application/vnd.microsoft.datawrangler.viewer.v0+json": {
       "columns": [
        {
         "name": "index",
         "rawType": "int64",
         "type": "integer"
        },
        {
         "name": "Grupo A",
         "rawType": "float64",
         "type": "float"
        },
        {
         "name": "Grupo B",
         "rawType": "float64",
         "type": "float"
        }
       ],
       "ref": "c5ebcc8c-bf18-4bc2-9bc0-38936c845486",
       "rows": [
        [
         "0",
         "177.48357076505616",
         "171.50777554769752"
        ],
        [
         "1",
         "174.3086784941441",
         "177.47612806340786"
        ],
        [
         "2",
         "178.23844269050346",
         "177.9437129008394"
        ],
        [
         "3",
         "182.61514928204014",
         "175.18633638467028"
        ],
        [
         "4",
         "173.82923312638331",
         "179.03228573000393"
        ]
       ],
       "shape": {
        "columns": 2,
        "rows": 5
       }
      },
      "text/html": [
       "<div>\n",
       "<style scoped>\n",
       "    .dataframe tbody tr th:only-of-type {\n",
       "        vertical-align: middle;\n",
       "    }\n",
       "\n",
       "    .dataframe tbody tr th {\n",
       "        vertical-align: top;\n",
       "    }\n",
       "\n",
       "    .dataframe thead th {\n",
       "        text-align: right;\n",
       "    }\n",
       "</style>\n",
       "<table border=\"1\" class=\"dataframe\">\n",
       "  <thead>\n",
       "    <tr style=\"text-align: right;\">\n",
       "      <th></th>\n",
       "      <th>Grupo A</th>\n",
       "      <th>Grupo B</th>\n",
       "    </tr>\n",
       "  </thead>\n",
       "  <tbody>\n",
       "    <tr>\n",
       "      <th>0</th>\n",
       "      <td>177.483571</td>\n",
       "      <td>171.507776</td>\n",
       "    </tr>\n",
       "    <tr>\n",
       "      <th>1</th>\n",
       "      <td>174.308678</td>\n",
       "      <td>177.476128</td>\n",
       "    </tr>\n",
       "    <tr>\n",
       "      <th>2</th>\n",
       "      <td>178.238443</td>\n",
       "      <td>177.943713</td>\n",
       "    </tr>\n",
       "    <tr>\n",
       "      <th>3</th>\n",
       "      <td>182.615149</td>\n",
       "      <td>175.186336</td>\n",
       "    </tr>\n",
       "    <tr>\n",
       "      <th>4</th>\n",
       "      <td>173.829233</td>\n",
       "      <td>179.032286</td>\n",
       "    </tr>\n",
       "  </tbody>\n",
       "</table>\n",
       "</div>"
      ],
      "text/plain": [
       "      Grupo A     Grupo B\n",
       "0  177.483571  171.507776\n",
       "1  174.308678  177.476128\n",
       "2  178.238443  177.943713\n",
       "3  182.615149  175.186336\n",
       "4  173.829233  179.032286"
      ]
     },
     "execution_count": 6,
     "metadata": {},
     "output_type": "execute_result"
    }
   ],
   "source": [
    "df_alturas.head()"
   ]
  },
  {
   "cell_type": "code",
   "execution_count": 7,
   "id": "7c5ebc09-5db7-4694-8db1-ecb9e4753042",
   "metadata": {},
   "outputs": [
    {
     "name": "stdout",
     "output_type": "stream",
     "text": [
      "\n",
      "--- Estatísticas Descritivas com Pandas ---\n",
      "\n"
     ]
    },
    {
     "data": {
      "application/vnd.microsoft.datawrangler.viewer.v0+json": {
       "columns": [
        {
         "name": "index",
         "rawType": "object",
         "type": "string"
        },
        {
         "name": "Grupo A",
         "rawType": "float64",
         "type": "float"
        },
        {
         "name": "Grupo B",
         "rawType": "float64",
         "type": "float"
        }
       ],
       "ref": "f96f5c9b-32db-4129-97e4-1545643f5686",
       "rows": [
        [
         "count",
         "100.0",
         "100.0"
        ],
        [
         "mean",
         "174.48076741302953",
         "180.13382752229955"
        ],
        [
         "std",
         "4.540842140039003",
         "5.7220137970986205"
        ],
        [
         "min",
         "161.9012744795513",
         "168.48737270820575"
        ],
        [
         "25%",
         "171.99547164751775",
         "175.16603686105455"
        ],
        [
         "50%",
         "174.36521854110146",
         "180.504643019681"
        ],
        [
         "75%",
         "177.0297602600603",
         "183.22902268597645"
        ],
        [
         "max",
         "184.26139092254468",
         "196.3210149995377"
        ]
       ],
       "shape": {
        "columns": 2,
        "rows": 8
       }
      },
      "text/html": [
       "<div>\n",
       "<style scoped>\n",
       "    .dataframe tbody tr th:only-of-type {\n",
       "        vertical-align: middle;\n",
       "    }\n",
       "\n",
       "    .dataframe tbody tr th {\n",
       "        vertical-align: top;\n",
       "    }\n",
       "\n",
       "    .dataframe thead th {\n",
       "        text-align: right;\n",
       "    }\n",
       "</style>\n",
       "<table border=\"1\" class=\"dataframe\">\n",
       "  <thead>\n",
       "    <tr style=\"text-align: right;\">\n",
       "      <th></th>\n",
       "      <th>Grupo A</th>\n",
       "      <th>Grupo B</th>\n",
       "    </tr>\n",
       "  </thead>\n",
       "  <tbody>\n",
       "    <tr>\n",
       "      <th>count</th>\n",
       "      <td>100.000000</td>\n",
       "      <td>100.000000</td>\n",
       "    </tr>\n",
       "    <tr>\n",
       "      <th>mean</th>\n",
       "      <td>174.480767</td>\n",
       "      <td>180.133828</td>\n",
       "    </tr>\n",
       "    <tr>\n",
       "      <th>std</th>\n",
       "      <td>4.540842</td>\n",
       "      <td>5.722014</td>\n",
       "    </tr>\n",
       "    <tr>\n",
       "      <th>min</th>\n",
       "      <td>161.901274</td>\n",
       "      <td>168.487373</td>\n",
       "    </tr>\n",
       "    <tr>\n",
       "      <th>25%</th>\n",
       "      <td>171.995472</td>\n",
       "      <td>175.166037</td>\n",
       "    </tr>\n",
       "    <tr>\n",
       "      <th>50%</th>\n",
       "      <td>174.365219</td>\n",
       "      <td>180.504643</td>\n",
       "    </tr>\n",
       "    <tr>\n",
       "      <th>75%</th>\n",
       "      <td>177.029760</td>\n",
       "      <td>183.229023</td>\n",
       "    </tr>\n",
       "    <tr>\n",
       "      <th>max</th>\n",
       "      <td>184.261391</td>\n",
       "      <td>196.321015</td>\n",
       "    </tr>\n",
       "  </tbody>\n",
       "</table>\n",
       "</div>"
      ],
      "text/plain": [
       "          Grupo A     Grupo B\n",
       "count  100.000000  100.000000\n",
       "mean   174.480767  180.133828\n",
       "std      4.540842    5.722014\n",
       "min    161.901274  168.487373\n",
       "25%    171.995472  175.166037\n",
       "50%    174.365219  180.504643\n",
       "75%    177.029760  183.229023\n",
       "max    184.261391  196.321015"
      ]
     },
     "execution_count": 7,
     "metadata": {},
     "output_type": "execute_result"
    }
   ],
   "source": [
    "print(\"\\n--- Estatísticas Descritivas com Pandas ---\\n\")\n",
    "df_alturas.describe()"
   ]
  },
  {
   "cell_type": "code",
   "execution_count": 8,
   "id": "69d1aac4-3188-4a9b-8ad6-6680ff0fe6f3",
   "metadata": {},
   "outputs": [],
   "source": [
    "# Estatísticas com Statsmodels\n",
    "descr_a = sm.stats.DescrStatsW(grupo_a)"
   ]
  },
  {
   "cell_type": "code",
   "execution_count": 9,
   "id": "12c19086-8f7b-44b8-9593-8b6ebab8faf2",
   "metadata": {},
   "outputs": [
    {
     "data": {
      "text/plain": [
       "statsmodels.stats.weightstats.DescrStatsW"
      ]
     },
     "execution_count": 9,
     "metadata": {},
     "output_type": "execute_result"
    }
   ],
   "source": [
    "type(descr_a)"
   ]
  },
  {
   "cell_type": "code",
   "execution_count": 10,
   "id": "d6b5f99b-752b-4adf-89f5-ce02963e7595",
   "metadata": {},
   "outputs": [],
   "source": [
    "# Estatísticas com Statsmodels\n",
    "descr_b = sm.stats.DescrStatsW(grupo_b)"
   ]
  },
  {
   "cell_type": "code",
   "execution_count": 11,
   "id": "9a6ddcbf-03ad-420d-aae7-0214e2d2eb16",
   "metadata": {},
   "outputs": [
    {
     "name": "stdout",
     "output_type": "stream",
     "text": [
      "\n",
      "--- Estatísticas Descritivas do Grupo A (com Statsmodels) ---\n",
      "\n",
      "Média: 174.48\n",
      "Desvio Padrão: 4.52\n",
      "Mínimo: 161.90\n",
      "Máximo: 184.26\n"
     ]
    }
   ],
   "source": [
    "print(\"\\n--- Estatísticas Descritivas do Grupo A (com Statsmodels) ---\\n\")\n",
    "print(f\"Média: {descr_a.mean:.2f}\")\n",
    "print(f\"Desvio Padrão: {descr_a.std:.2f}\")\n",
    "print(f\"Mínimo: {np.min(grupo_a):.2f}\")\n",
    "print(f\"Máximo: {np.max(grupo_a):.2f}\")"
   ]
  },
  {
   "cell_type": "code",
   "execution_count": 12,
   "id": "2992ff6b-3240-4eca-b15a-be4112fa04f5",
   "metadata": {},
   "outputs": [
    {
     "name": "stdout",
     "output_type": "stream",
     "text": [
      "\n",
      "--- Estatísticas Descritivas do Grupo B (com Statsmodels) ---\n",
      "\n",
      "Média: 180.13\n",
      "Desvio Padrão: 5.69\n",
      "Mínimo: 168.49\n",
      "Máximo: 196.32\n"
     ]
    }
   ],
   "source": [
    "print(\"\\n--- Estatísticas Descritivas do Grupo B (com Statsmodels) ---\\n\")\n",
    "print(f\"Média: {descr_b.mean:.2f}\")\n",
    "print(f\"Desvio Padrão: {descr_b.std:.2f}\")\n",
    "print(f\"Mínimo: {np.min(grupo_b):.2f}\")\n",
    "print(f\"Máximo: {np.max(grupo_b):.2f}\")"
   ]
  },
  {
   "cell_type": "code",
   "execution_count": 13,
   "id": "c3103124-72b6-45fd-97d5-2c744abfb3b8",
   "metadata": {},
   "outputs": [
    {
     "data": {
      "image/png": "[encoded data removed]",
      "text/plain": [
       "<Figure size 1000x600 with 1 Axes>"
      ]
     },
     "metadata": {},
     "output_type": "display_data"
    }
   ],
   "source": [
    "# Visualização\n",
    "sns.kdeplot(data = df_alturas, fill = True)\n",
    "plt.title('Distribuição de Alturas dos Grupos A e B')\n",
    "plt.xlabel('Altura (cm)')\n",
    "plt.ylabel('Densidade')\n",
    "plt.show()"
   ]
  },
  {
   "cell_type": "markdown",
   "id": "cd52b621-04e9-4bdf-8eaf-234c1a5a907e",
   "metadata": {},
   "source": [
    "**Análise:**\n",
    "\n",
    "1. Tendência Central (Média)\n",
    "\n",
    "- Grupo A: média de 174,48 cm\n",
    "\n",
    "- Grupo B: média de 180,13 cm\n",
    "\n",
    "Isso mostra que, em média, o Grupo B é mais alto que o Grupo A, cerca de 5,6 cm a mais. Essa diferença é considerável, especialmente se estivermos analisando populações humanas ou amostras que deveriam ser semelhantes.\n",
    "\n",
    "Em uma análise estatística, essa diferença na média poderia ser testada com um teste t de médias independentes, para verificar se a diferença é estatisticamente significativa (ou seja, não causada apenas por acaso).\n",
    "\n",
    "2. Dispersão (Desvio Padrão)\n",
    "\n",
    "- Grupo A: desvio padrão de 4,52 cm\n",
    "\n",
    "- Grupo B: desvio padrão de 5,69 cm\n",
    "\n",
    "O Grupo B apresenta uma dispersão maior, indicando que as alturas nesse grupo são mais variadas, ou seja, há indivíduos tanto mais baixos quanto mais altos, enquanto o Grupo A é mais homogêneo.\n",
    "\n",
    "Em termos práticos: A altura das pessoas no Grupo A tende a se concentrar mais em torno da média, enquanto no Grupo B há maior variabilidade.\n",
    "\n",
    "3. Amplitude (Mínimo e Máximo)\n",
    "\n",
    "- Grupo A: de 161,90 cm até 184,26 cm (amplitude ≈ 22,36 cm)\n",
    "\n",
    "- Grupo B: de 168,49 cm até 196,32 cm (amplitude ≈ 27,83 cm)\n",
    "\n",
    "Novamente, o Grupo B mostra uma amplitude maior, reforçando que existe mais variação dentro dele, ou seja, há tanto pessoas bem mais altas quanto mais próximas da média. O Grupo A é mais “compacto” em termos de distribuição.\n",
    "\n",
    "4. Conclusão\n",
    "\n",
    "O Grupo B é, em média, mais alto e mais heterogêneo do que o Grupo A.\n",
    "\n",
    "Isso significa que, além de possuir uma média superior, o Grupo B apresenta maior variabilidade de alturas, possivelmente refletindo uma amostra mais diversificada ou influenciada por fatores adicionais (por exemplo, idade, origem ou gênero, dependendo do contexto).\n",
    "\n",
    "Se o objetivo for comparar grupos populacionais, o próximo passo natural seria verificar se a diferença entre as médias é estatisticamente significativa (ex.: usando um teste t para amostras independentes)."
   ]
  },
  {
   "cell_type": "markdown",
   "id": "64eaaacf-b454-4045-9c23-cb73a3c4b369",
   "metadata": {},
   "source": [
    "### 4.3. Análise de Correlação\n",
    "\n",
    "**Definição:** Correlação é uma medida estatística que expressa o grau em que duas variáveis se movem em relação uma à outra.\n",
    "\n",
    "* **Correlação Positiva:** Quando uma variável aumenta, a outra tende a aumentar (ex: altura e peso).\n",
    "* **Correlação Negativa:** Quando uma variável aumenta, a outra tende a diminuir (ex: horas de estudo e horas de videogame).\n",
    "* **Correlação Próxima de Zero:** Não há uma relação linear clara entre as variáveis.\n",
    "\n",
    "O coeficiente de correlação varia de -1 a +1.\n",
    "\n",
    "A correlação é, em essência, uma medida da estatística descritiva, pois descreve a força e a direção da relação entre duas variáveis dentro de um conjunto de dados observado.\n",
    "\n",
    "O coeficiente de correlação (como o de Pearson ou Spearman) é calculado diretamente a partir dos dados da amostra e resume essa relação numericamente. Por exemplo, um valor próximo de +1 indica uma relação positiva forte, enquanto um valor próximo de −1 indica uma relação negativa forte."
   ]
  },
  {
   "cell_type": "code",
   "execution_count": 14,
   "id": "6bdfbf1d-bc09-4472-a59a-34e6480dd4ed",
   "metadata": {},
   "outputs": [],
   "source": [
    "np.random.seed(101)"
   ]
  },
  {
   "cell_type": "code",
   "execution_count": 15,
   "id": "6259ff23-ed2b-4f00-8974-db6ef98e6300",
   "metadata": {},
   "outputs": [],
   "source": [
    "# Gerando dados: Anos de Experiência vs. Salário\n",
    "anos_experiencia = np.arange(1, 11) + np.random.randn(10) * 0.5\n",
    "salario = 5000 + anos_experiencia * 1500 + np.random.randn(10) * 800\n",
    "df_salario = pd.DataFrame({'Anos de Experiencia': anos_experiencia, 'Salario': salario})"
   ]
  },
  {
   "cell_type": "code",
   "execution_count": 16,
   "id": "88cd262f-075a-4886-8593-0d731a43bbbb",
   "metadata": {},
   "outputs": [
    {
     "data": {
      "application/vnd.microsoft.datawrangler.viewer.v0+json": {
       "columns": [
        {
         "name": "index",
         "rawType": "int64",
         "type": "integer"
        },
        {
         "name": "Anos de Experiencia",
         "rawType": "float64",
         "type": "float"
        },
        {
         "name": "Salario",
         "rawType": "float64",
         "type": "float"
        }
       ],
       "ref": "0111882d-05d5-40ed-a647-c4e284fcad5c",
       "rows": [
        [
         "0",
         "2.353424919699969",
         "8953.18817482144"
        ],
        [
         "1",
         "2.3140663543922297",
         "7999.899104959079"
        ],
        [
         "2",
         "3.4539847232382717",
         "10331.933332416787"
        ],
        [
         "3",
         "4.251912876911197",
         "10770.771670398422"
        ],
        [
         "4",
         "5.325558973971634",
         "12241.748687916715"
        ]
       ],
       "shape": {
        "columns": 2,
        "rows": 5
       }
      },
      "text/html": [
       "<div>\n",
       "<style scoped>\n",
       "    .dataframe tbody tr th:only-of-type {\n",
       "        vertical-align: middle;\n",
       "    }\n",
       "\n",
       "    .dataframe tbody tr th {\n",
       "        vertical-align: top;\n",
       "    }\n",
       "\n",
       "    .dataframe thead th {\n",
       "        text-align: right;\n",
       "    }\n",
       "</style>\n",
       "<table border=\"1\" class=\"dataframe\">\n",
       "  <thead>\n",
       "    <tr style=\"text-align: right;\">\n",
       "      <th></th>\n",
       "      <th>Anos de Experiencia</th>\n",
       "      <th>Salario</th>\n",
       "    </tr>\n",
       "  </thead>\n",
       "  <tbody>\n",
       "    <tr>\n",
       "      <th>0</th>\n",
       "      <td>2.353425</td>\n",
       "      <td>8953.188175</td>\n",
       "    </tr>\n",
       "    <tr>\n",
       "      <th>1</th>\n",
       "      <td>2.314066</td>\n",
       "      <td>7999.899105</td>\n",
       "    </tr>\n",
       "    <tr>\n",
       "      <th>2</th>\n",
       "      <td>3.453985</td>\n",
       "      <td>10331.933332</td>\n",
       "    </tr>\n",
       "    <tr>\n",
       "      <th>3</th>\n",
       "      <td>4.251913</td>\n",
       "      <td>10770.771670</td>\n",
       "    </tr>\n",
       "    <tr>\n",
       "      <th>4</th>\n",
       "      <td>5.325559</td>\n",
       "      <td>12241.748688</td>\n",
       "    </tr>\n",
       "  </tbody>\n",
       "</table>\n",
       "</div>"
      ],
      "text/plain": [
       "   Anos de Experiencia       Salario\n",
       "0             2.353425   8953.188175\n",
       "1             2.314066   7999.899105\n",
       "2             3.453985  10331.933332\n",
       "3             4.251913  10770.771670\n",
       "4             5.325559  12241.748688"
      ]
     },
     "execution_count": 16,
     "metadata": {},
     "output_type": "execute_result"
    }
   ],
   "source": [
    "df_salario.head()"
   ]
  },
  {
   "cell_type": "code",
   "execution_count": 17,
   "id": "faf30032-2816-4858-9f7e-ad82d87f921e",
   "metadata": {},
   "outputs": [],
   "source": [
    "# Calculando o coeficiente de correlação de Pearson\n",
    "correlacao = df_salario['Anos de Experiencia'].corr(df_salario['Salario'])"
   ]
  },
  {
   "cell_type": "code",
   "execution_count": 18,
   "id": "591329f3-0a76-41a5-9fa5-cfdafe621c86",
   "metadata": {},
   "outputs": [
    {
     "name": "stdout",
     "output_type": "stream",
     "text": [
      "\n",
      "--- Coeficiente de Correlação ---\n",
      "\n",
      "A correlação entre Anos de Experiência e Salário é: 0.9866\n",
      "\n"
     ]
    }
   ],
   "source": [
    "print(f\"\\n--- Coeficiente de Correlação ---\\n\")\n",
    "print(f\"A correlação entre Anos de Experiência e Salário é: {correlacao:.4f}\\n\")"
   ]
  },
  {
   "cell_type": "code",
   "execution_count": 19,
   "id": "ee916dbd-0070-45f4-9305-98b508748155",
   "metadata": {},
   "outputs": [
    {
     "data": {
      "image/png": "[encoded data removed]",
      "text/plain": [
       "<Figure size 1000x600 with 1 Axes>"
      ]
     },
     "metadata": {},
     "output_type": "display_data"
    }
   ],
   "source": [
    "# Visualizando a correlação com um gráfico de dispersão\n",
    "sns.regplot(x = 'Anos de Experiencia', y = 'Salario', data = df_salario)\n",
    "plt.title('Relação entre Anos de Experiência e Salário')\n",
    "plt.xlabel('Anos de Experiência')\n",
    "plt.ylabel('Salário (R$)')\n",
    "plt.show()"
   ]
  },
  {
   "cell_type": "markdown",
   "id": "bfd0ac5e-37e5-4d74-bc22-e127d4878c8f",
   "metadata": {},
   "source": [
    "Vejamos a correlação entre os grupos de alturas de indivíduos no dataframe df_alturas criando em uma seção anterior."
   ]
  },
  {
   "cell_type": "code",
   "execution_count": 20,
   "id": "f12ae845-f264-4de8-a434-d11310634924",
   "metadata": {},
   "outputs": [
    {
     "data": {
      "image/png": "[encoded data removed]",
      "text/plain": [
       "<Figure size 600x400 with 2 Axes>"
      ]
     },
     "metadata": {},
     "output_type": "display_data"
    }
   ],
   "source": [
    "# Calcula a matriz de correlação\n",
    "correlacoes = df_alturas.corr()\n",
    "\n",
    "# Exibe o heatmap\n",
    "plt.figure(figsize = (6, 4))\n",
    "sns.heatmap(correlacoes, annot = True, cmap = 'coolwarm', fmt = '.2f')\n",
    "plt.title('Heatmap de Correlações Entre os Grupos')\n",
    "plt.show()"
   ]
  },
  {
   "cell_type": "markdown",
   "id": "514d34fc-db39-4b24-b03b-1d14682796f6",
   "metadata": {},
   "source": [
    "Há uma leve correlação negativa entre os grupos."
   ]
  },
  {
   "cell_type": "markdown",
   "id": "360bb3db-8833-4f74-9cc2-b0c236428851",
   "metadata": {},
   "source": [
    "## 5. Estatística Inferencial\n",
    "\n",
    "**Definição:** Estatística inferencial é o ramo da estatística que permite tirar conclusões ou fazer inferências sobre uma população com base em uma amostra de dados. Em vez de apenas descrever os dados observados (como na estatística descritiva), a estatística inferencial utiliza métodos probabilísticos para estimar parâmetros populacionais, testar hipóteses e avaliar a significância de resultados.\n",
    "\n",
    "A Estatística Inferencial busca responder perguntas como:\n",
    "\n",
    "“O que podemos inferir sobre toda a população, a partir desta amostra?”\n",
    "\n",
    "Ferramentas típicas incluem intervalos de confiança, testes de hipóteses, análises de variância (ANOVA) e regressões, sempre com o objetivo de transformar dados amostrais em conhecimento generalizável e confiável."
   ]
  },
  {
   "cell_type": "markdown",
   "id": "677eeff9-6361-4056-aff5-5acaeba7e559",
   "metadata": {},
   "source": [
    "### 5.1. Teste de Hipóteses (Teste t)\n",
    "\n",
    "**Definição:** É um método formal para tomar uma decisão sobre uma afirmação (hipótese) usando dados. O **Teste t**, especificamente, é usado para comparar as médias de dois grupos e determinar se a diferença entre elas é estatisticamente significativa ou se provavelmente ocorreu por acaso.\n",
    "\n",
    "* **Hipótese Nula (H₀):** A afirmação padrão, geralmente de que \"não há diferença\". (Ex: \"A média de altura dos dois grupos é a mesma\").\n",
    "* **Hipótese Alternativa (H₁ ou Hₐ):** É a afirmação contrária à hipótese nula (H₀), ela representa o que queremos comprovar ou evidenciar com os dados.\n",
    "* **Valor-p (p-value):** A probabilidade de observar os dados que temos se a Hipótese Nula for verdadeira. Um valor-p baixo (geralmente < 0.05) nos dá evidências para rejeitar a Hipótese Nula."
   ]
  },
  {
   "cell_type": "code",
   "execution_count": 21,
   "id": "4b9395c5-0113-4784-a732-967763c77eac",
   "metadata": {},
   "outputs": [
    {
     "name": "stdout",
     "output_type": "stream",
     "text": [
      "\n",
      "--- Resultado do Teste t ---\n",
      "\n",
      "Estatística t: -7.7388\n",
      "Valor-p: 0.0000\n",
      "\n",
      "Conclusão: Como o valor-p (0.0000) é menor que 0.05, rejeitamos a Hipótese Nula.\n",
      "Há uma diferença estatisticamente significativa entre as médias dos dois grupos.\n",
      "\n"
     ]
    }
   ],
   "source": [
    "# Vamos usar os mesmos dados de altura dos grupos A e B\n",
    "# Hipótese Nula (H₀): Não há diferença significativa entre as médias de altura do Grupo A e do Grupo B.\n",
    "\n",
    "# Hipótese Nula (H₀): μ₁ = μ₂ → Não há diferença entre as médias dos grupos.\n",
    "# Hipótese Alternativa (H₁): μ₁ ≠ μ₂ → Há diferença entre as médias dos grupos.\n",
    "\n",
    "# Realizando o Teste t com Statsmodels\n",
    "# ttest_ind retorna: (estatística t, valor-p, graus de liberdade)\n",
    "t_stat, p_value, df = ttest_ind(grupo_a, grupo_b)\n",
    "\n",
    "print(f\"\\n--- Resultado do Teste t ---\\n\")\n",
    "print(f\"Estatística t: {t_stat:.4f}\")\n",
    "print(f\"Valor-p: {p_value:.4f}\")\n",
    "\n",
    "# Interpretando o resultado\n",
    "alpha = 0.05\n",
    "if p_value < alpha:\n",
    "    print(f\"\\nConclusão: Como o valor-p ({p_value:.4f}) é menor que {alpha}, rejeitamos a Hipótese Nula.\")\n",
    "    print(\"Há uma diferença estatisticamente significativa entre as médias dos dois grupos.\\n\")\n",
    "else:\n",
    "    print(f\"\\nConclusão: Como o valor-p ({p_value:.4f}) é maior que {alpha}, não temos evidências para rejeitar a Hipótese Nula.\")\n",
    "    print(\"Não há uma diferença estatisticamente significativa entre as médias dos dois grupos.\\n\")"
   ]
  },
  {
   "cell_type": "markdown",
   "id": "d1c3157d-88ba-483e-aa7c-f4c53c149b97",
   "metadata": {},
   "source": [
    "### 5.2. Regressão Linear Simples\n",
    "\n",
    "**Definição:** É uma técnica para modelar a relação entre uma variável independente (preditora, `X`) e uma variável dependente (resposta, `Y`) através de uma linha reta. O objetivo é não apenas prever `Y` a partir de `X`, mas também entender a força e a direção dessa relação.\n",
    "\n",
    "A equação é: $Y = \\beta_0 + \\beta_1 X + \\epsilon$\n",
    "* $\\beta_0$: Intercepto (onde a linha cruza o eixo Y)\n",
    "* $\\beta_1$: Coeficiente angular (quanto `Y` muda para cada unidade de aumento em `X`)\n",
    "\n",
    "Leia o manual em pdf sobre Regressão Linear Múltipla no Capítulo 10 do curso."
   ]
  },
  {
   "cell_type": "code",
   "execution_count": 22,
   "id": "55ec21f5-85c3-43e6-8f08-c82258f504d5",
   "metadata": {},
   "outputs": [],
   "source": [
    "# 1. Geração de dados de exemplo\n",
    "# Suponha que estamos estudando a relação entre horas de estudo e nota em um exame\n",
    "np.random.seed(42)\n",
    "horas_estudo = np.random.uniform(1, 10, 50)  # variável independente (X)\n",
    "nota = 5 + 3 * horas_estudo + np.random.normal(0, 3, 50)  # variável dependente (Y)"
   ]
  },
  {
   "cell_type": "code",
   "execution_count": 23,
   "id": "19395d8d-4733-4d76-9179-216087b5eccb",
   "metadata": {},
   "outputs": [],
   "source": [
    "# Cria DataFrame\n",
    "df_dsa = pd.DataFrame({'Horas_Estudo': horas_estudo, 'Nota': nota})"
   ]
  },
  {
   "cell_type": "code",
   "execution_count": 24,
   "id": "a5a923b3-ed99-435c-ae05-57e41d2650a3",
   "metadata": {},
   "outputs": [
    {
     "data": {
      "application/vnd.microsoft.datawrangler.viewer.v0+json": {
       "columns": [
        {
         "name": "index",
         "rawType": "int64",
         "type": "integer"
        },
        {
         "name": "Horas_Estudo",
         "rawType": "float64",
         "type": "float"
        },
        {
         "name": "Nota",
         "rawType": "float64",
         "type": "float"
        }
       ],
       "ref": "e7da8881-4f46-4ba4-aecd-3fd2856a194f",
       "rows": [
        [
         "0",
         "4.370861069626263",
         "20.32798294886502"
        ],
        [
         "1",
         "9.556428757689245",
         "34.183391116637644"
        ],
        [
         "2",
         "7.587945476302646",
         "27.416891581743215"
        ],
        [
         "3",
         "6.387926357773329",
         "23.26046798655212"
        ],
        [
         "4",
         "2.4041677639819286",
         "7.776937320843505"
        ]
       ],
       "shape": {
        "columns": 2,
        "rows": 5
       }
      },
      "text/html": [
       "<div>\n",
       "<style scoped>\n",
       "    .dataframe tbody tr th:only-of-type {\n",
       "        vertical-align: middle;\n",
       "    }\n",
       "\n",
       "    .dataframe tbody tr th {\n",
       "        vertical-align: top;\n",
       "    }\n",
       "\n",
       "    .dataframe thead th {\n",
       "        text-align: right;\n",
       "    }\n",
       "</style>\n",
       "<table border=\"1\" class=\"dataframe\">\n",
       "  <thead>\n",
       "    <tr style=\"text-align: right;\">\n",
       "      <th></th>\n",
       "      <th>Horas_Estudo</th>\n",
       "      <th>Nota</th>\n",
       "    </tr>\n",
       "  </thead>\n",
       "  <tbody>\n",
       "    <tr>\n",
       "      <th>0</th>\n",
       "      <td>4.370861</td>\n",
       "      <td>20.327983</td>\n",
       "    </tr>\n",
       "    <tr>\n",
       "      <th>1</th>\n",
       "      <td>9.556429</td>\n",
       "      <td>34.183391</td>\n",
       "    </tr>\n",
       "    <tr>\n",
       "      <th>2</th>\n",
       "      <td>7.587945</td>\n",
       "      <td>27.416892</td>\n",
       "    </tr>\n",
       "    <tr>\n",
       "      <th>3</th>\n",
       "      <td>6.387926</td>\n",
       "      <td>23.260468</td>\n",
       "    </tr>\n",
       "    <tr>\n",
       "      <th>4</th>\n",
       "      <td>2.404168</td>\n",
       "      <td>7.776937</td>\n",
       "    </tr>\n",
       "  </tbody>\n",
       "</table>\n",
       "</div>"
      ],
      "text/plain": [
       "   Horas_Estudo       Nota\n",
       "0      4.370861  20.327983\n",
       "1      9.556429  34.183391\n",
       "2      7.587945  27.416892\n",
       "3      6.387926  23.260468\n",
       "4      2.404168   7.776937"
      ]
     },
     "execution_count": 24,
     "metadata": {},
     "output_type": "execute_result"
    }
   ],
   "source": [
    "df_dsa.head()"
   ]
  },
  {
   "cell_type": "code",
   "execution_count": 25,
   "id": "64209f95-8323-497e-9616-858b88186c2f",
   "metadata": {},
   "outputs": [
    {
     "data": {
      "image/png": "[encoded data removed]",
      "text/plain": [
       "<Figure size 1000x600 with 1 Axes>"
      ]
     },
     "metadata": {},
     "output_type": "display_data"
    }
   ],
   "source": [
    "# 2. Visualização dos dados\n",
    "sns.scatterplot(data = df_dsa, x = 'Horas_Estudo', y = 'Nota')\n",
    "plt.title('Relação Entre Horas de Estudo e Nota')\n",
    "plt.xlabel('Horas de Estudo')\n",
    "plt.ylabel('Nota no Exame')\n",
    "plt.show()"
   ]
  },
  {
   "cell_type": "code",
   "execution_count": 26,
   "id": "e8cc7ab9-4796-4711-983b-e28242cd7c66",
   "metadata": {},
   "outputs": [],
   "source": [
    "# 3. Ajuste do modelo de regressão linear\n",
    "X = sm.add_constant(df_dsa['Horas_Estudo'])  # Adiciona o intercepto, o que é requerido pelo Statsmodels\n",
    "y = df_dsa['Nota']"
   ]
  },
  {
   "cell_type": "code",
   "execution_count": 27,
   "id": "2d03ccad-9bb3-46fa-ba24-dbb60a446c11",
   "metadata": {},
   "outputs": [],
   "source": [
    "# OLS = Ordinary Least Squares (Mínimos Quadrados Ordinários)\n",
    "modelo_dsa = sm.OLS(y, X).fit()  "
   ]
  },
  {
   "cell_type": "code",
   "execution_count": 28,
   "id": "743dacf1-205f-48c2-bf41-769da019c663",
   "metadata": {},
   "outputs": [
    {
     "name": "stdout",
     "output_type": "stream",
     "text": [
      "                            OLS Regression Results                            \n",
      "==============================================================================\n",
      "Dep. Variable:                   Nota   R-squared:                       0.884\n",
      "Model:                            OLS   Adj. R-squared:                  0.882\n",
      "Method:                 Least Squares   F-statistic:                     367.4\n",
      "Date:                Wed, 29 Oct 2025   Prob (F-statistic):           3.90e-24\n",
      "Time:                        10:38:11   Log-Likelihood:                -121.01\n",
      "No. Observations:                  50   AIC:                             246.0\n",
      "Df Residuals:                      48   BIC:                             249.8\n",
      "Df Model:                           1                                         \n",
      "Covariance Type:            nonrobust                                         \n",
      "================================================================================\n",
      "                   coef    std err          t      P>|t|      [0.025      0.975]\n",
      "--------------------------------------------------------------------------------\n",
      "const            5.3645      0.860      6.237      0.000       3.635       7.094\n",
      "Horas_Estudo     2.9255      0.153     19.167      0.000       2.619       3.232\n",
      "==============================================================================\n",
      "Omnibus:                        2.171   Durbin-Watson:                   2.127\n",
      "Prob(Omnibus):                  0.338   Jarque-Bera (JB):                1.664\n",
      "Skew:                          -0.447   Prob(JB):                        0.435\n",
      "Kurtosis:                       3.036   Cond. No.                         12.6\n",
      "==============================================================================\n",
      "\n",
      "Notes:\n",
      "[1] Standard Errors assume that the covariance matrix of the errors is correctly specified.\n"
     ]
    }
   ],
   "source": [
    "# 4. Resultados do modelo\n",
    "print(modelo_dsa.summary())"
   ]
  },
  {
   "cell_type": "markdown",
   "id": "56b0126c-6fc4-4b92-b5ce-7d4e78c53ab9",
   "metadata": {},
   "source": [
    "Os erros padrão (Standard Errors) apresentados assumem que a matriz de covariância dos erros está corretamente especificada.\n",
    "\n",
    "Em outras palavras: O modelo de regressão está supondo que os erros (resíduos) seguem as condições ideais do modelo clássico de mínimos quadrados (OLS). Isso significa que o Statsmodels calculou os erros padrão, os valores-t e os p-valores sob as seguintes suposições:\n",
    "\n",
    "- Homoscedasticidade: a variância dos erros é constante ao longo das observações (não há heterocedasticidade).\n",
    "\n",
    "- Independência dos erros: os resíduos não estão correlacionados entre si.\n",
    "\n",
    "- Especificação correta: o modelo inclui todas as variáveis relevantes e não há omissão de termos importantes.\n",
    "\n",
    "Se alguma dessas condições for violada, então os erros padrão calculados podem estar incorretos — e, consequentemente, os valores-t e p-valores podem não ser confiáveis para testar hipóteses sobre os coeficientes."
   ]
  },
  {
   "cell_type": "code",
   "execution_count": 29,
   "id": "b6398491-1682-4895-aaa3-7c4d8a271485",
   "metadata": {},
   "outputs": [],
   "source": [
    "# Extraindo os coeficientes do modelo (o que o modelo aprendeu durante o treinamento)\n",
    "b0 = modelo_dsa.params['const']\n",
    "b1 = modelo_dsa.params['Horas_Estudo']"
   ]
  },
  {
   "cell_type": "code",
   "execution_count": 30,
   "id": "29e53eb5-fb30-4cae-bb4c-c7da21aa481e",
   "metadata": {},
   "outputs": [
    {
     "data": {
      "image/png": "[encoded data removed]",
      "text/plain": [
       "<Figure size 1000x600 with 1 Axes>"
      ]
     },
     "metadata": {},
     "output_type": "display_data"
    }
   ],
   "source": [
    "# Cria o gráfico\n",
    "sns.regplot(data = df_dsa, \n",
    "            x = 'Horas_Estudo', \n",
    "            y = 'Nota', \n",
    "            ci = None, \n",
    "            line_kws = {'color': 'red'})\n",
    "\n",
    "# Título e rótulos\n",
    "plt.title('Regressão Linear: Horas de Estudo x Nota no Exame')\n",
    "plt.xlabel('Horas de Estudo')\n",
    "plt.ylabel('Nota no Exame')\n",
    "\n",
    "# Adiciona a fórmula e o R² no gráfico\n",
    "plt.text(x = df_dsa['Horas_Estudo'].min(), \n",
    "         y = df_dsa['Nota'].max() - 2,\n",
    "         s = f'y = {b0:.2f} + {b1:.2f}x\\nR² = {modelo_dsa.rsquared:.2f}',\n",
    "         fontsize = 12,\n",
    "         color = 'black',\n",
    "         bbox = dict(facecolor = 'yellow', alpha = 0.7, edgecolor = 'gray'))\n",
    "plt.show()"
   ]
  },
  {
   "cell_type": "markdown",
   "id": "af618f04-f91e-467e-8f21-f4cbb513aa7c",
   "metadata": {},
   "source": [
    "**Nota: Todo o modelo é uma aproximação e isso é suficiente para fazer inferências e análises (de acordo com a performance do modelo), sempre sabendo que há uma margem de erro. Isso vale para qualquer modelo de Inteligência Artificial na Terra.**\n",
    "\n",
    "Observe ainda como TUDO que fizemos aqui foi com base nos dados. Os dados são o verdadeiro tesouro!"
   ]
  },
  {
   "cell_type": "markdown",
   "id": "28af5402-7e58-474a-83ac-108432b3dae2",
   "metadata": {},
   "source": [
    "# Fim"
   ]
  },
  {
   "cell_type": "markdown",
   "id": "faf421cf-ce9b-4d06-9a38-92a5cdc71f21",
   "metadata": {},
   "source": [
    "Este curso é inteiramente gratuito e com certificado de conclusão. Se estiver gostando, ajude o trabalho da Data Science Academy e compartilhe nas suas redes. Conte para as pessoas o que estamos fazendo aqui, oferecendo material de alto nível de forma gratuita. Este é o link da página do curso:\n",
    "\n",
    "https://www.datascienceacademy.com.br/course/fundamentos-de-linguagem-python-do-basico-a-aplicacoes-de-ia"
   ]
  }
 ],
 "metadata": {
  "kernelspec": {
   "display_name": "base",
   "language": "python",
   "name": "python3"
  },
  "language_info": {
   "codemirror_mode": {
    "name": "ipython",
    "version": 3
   },
   "file_extension": ".py",
   "mimetype": "text/x-python",
   "name": "python",
   "nbconvert_exporter": "python",
   "pygments_lexer": "ipython3",
   "version": "3.13.5"
  }
 },
 "nbformat": 4,
 "nbformat_minor": 5
}
