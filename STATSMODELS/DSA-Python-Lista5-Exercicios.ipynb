{
 "cells": [
  {
   "cell_type": "markdown",
   "id": "61d979b2-a85f-4d69-901e-b3bb69419a3e",
   "metadata": {},
   "source": [
    "<!-- Trabalho Desenvolvido na Data Science Academy - www.datascienceacademy.com.br -->\n",
    "# <font color='blue'>Data Science Academy</font>\n",
    "# <font color='blue'>Fundamentos de Linguagem Python - Do Básico a Aplicações de IA</font>\n",
    "# <font color='blue'>Lista 5 de Exercícios</font>"
   ]
  },
  {
   "cell_type": "markdown",
   "id": "d7d83ddd-db5a-4e64-b633-d016ca61d3f4",
   "metadata": {},
   "source": [
    "**ATENÇÃO**: Esta lista de exercícios pode requerer pesquisa complementar. A solução será apresentada no próximo capítulo."
   ]
  },
  {
   "cell_type": "code",
   "execution_count": 1,
   "id": "8341d2d2-0282-4977-bdf7-9ec419466e79",
   "metadata": {},
   "outputs": [],
   "source": [
    "# Imports\n",
    "import numpy as np, pandas as pd, matplotlib.pyplot as plt, seaborn as sns"
   ]
  },
  {
   "cell_type": "markdown",
   "id": "40a89dba-d393-466f-a5fb-acd4061856fd",
   "metadata": {},
   "source": [
    "#### Exercício 1: Análise de Distribuição de Receita Mensal\n",
    "\n",
    "- Contexto: Uma loja online deseja entender a variabilidade das receitas mensais para ajustar seu fluxo de caixa.\n",
    "\n",
    "- Tarefa: Carregue os dados simulados de receita mensal e apresente um relatório com média, mediana, desvio-padrão, assimetria e curtose. Visualize a distribuição e interprete se ela é simétrica, à direita ou à esquerda.\n",
    "\n",
    "- Resultado esperado: Descreva a tendência central e a dispersão, comente se a média representa bem o conjunto."
   ]
  },
  {
   "cell_type": "code",
   "execution_count": 2,
   "id": "6e59acd8-245e-4749-8d4f-9d71a4ca6f8d",
   "metadata": {},
   "outputs": [
    {
     "data": {
      "text/html": [
       "<div>\n",
       "<style scoped>\n",
       "    .dataframe tbody tr th:only-of-type {\n",
       "        vertical-align: middle;\n",
       "    }\n",
       "\n",
       "    .dataframe tbody tr th {\n",
       "        vertical-align: top;\n",
       "    }\n",
       "\n",
       "    .dataframe thead th {\n",
       "        text-align: right;\n",
       "    }\n",
       "</style>\n",
       "<table border=\"1\" class=\"dataframe\">\n",
       "  <thead>\n",
       "    <tr style=\"text-align: right;\">\n",
       "      <th></th>\n",
       "      <th>Receita</th>\n",
       "    </tr>\n",
       "  </thead>\n",
       "  <tbody>\n",
       "    <tr>\n",
       "      <th>0</th>\n",
       "      <td>60652.692033</td>\n",
       "    </tr>\n",
       "    <tr>\n",
       "      <th>1</th>\n",
       "      <td>55722.231795</td>\n",
       "    </tr>\n",
       "    <tr>\n",
       "      <th>2</th>\n",
       "      <td>37636.797663</td>\n",
       "    </tr>\n",
       "    <tr>\n",
       "      <th>3</th>\n",
       "      <td>49932.929201</td>\n",
       "    </tr>\n",
       "    <tr>\n",
       "      <th>4</th>\n",
       "      <td>54970.687791</td>\n",
       "    </tr>\n",
       "  </tbody>\n",
       "</table>\n",
       "</div>"
      ],
      "text/plain": [
       "        Receita\n",
       "0  60652.692033\n",
       "1  55722.231795\n",
       "2  37636.797663\n",
       "3  49932.929201\n",
       "4  54970.687791"
      ]
     },
     "execution_count": 2,
     "metadata": {},
     "output_type": "execute_result"
    }
   ],
   "source": [
    "# Seed\n",
    "np.random.seed(10)\n",
    "\n",
    "# Cria dados de receita\n",
    "receita = np.random.normal(50000, 8000, 100)\n",
    "\n",
    "# Cria o dataframe\n",
    "df = pd.DataFrame({'Receita': receita})\n",
    "\n",
    "# Visualiza os dados\n",
    "df.head()"
   ]
  },
  {
   "cell_type": "code",
   "execution_count": 3,
   "id": "3387c30a-9b80-4eeb-8cb3-d46dcd9542ab",
   "metadata": {},
   "outputs": [],
   "source": [
    "# Solução\n"
   ]
  },
  {
   "cell_type": "markdown",
   "id": "3b78c1cb-645f-4749-8382-e1655c88a11f",
   "metadata": {},
   "source": [
    "#### Exercício 2: Desempenho por Segmento de Cliente\n",
    "\n",
    "- Contexto: Uma empresa quer comparar o valor médio gasto por clientes novos e antigos.\n",
    "\n",
    "- Tarefa: Para os dois grupos (clientes novos e antigos), calcule média, mediana e desvio-padrão, e compare visualmente com boxplot. Discuta se há sobreposição entre os grupos e qual apresenta maior variabilidade.\n",
    "\n",
    "- Resultado esperado: Indique diferenças de média e dispersão, e o que isso sugere sobre o perfil de gasto."
   ]
  },
  {
   "cell_type": "code",
   "execution_count": 4,
   "id": "3debb9a6-0ab7-41ba-90b5-d33ddfefbb94",
   "metadata": {},
   "outputs": [
    {
     "data": {
      "text/html": [
       "<div>\n",
       "<style scoped>\n",
       "    .dataframe tbody tr th:only-of-type {\n",
       "        vertical-align: middle;\n",
       "    }\n",
       "\n",
       "    .dataframe tbody tr th {\n",
       "        vertical-align: top;\n",
       "    }\n",
       "\n",
       "    .dataframe thead th {\n",
       "        text-align: right;\n",
       "    }\n",
       "</style>\n",
       "<table border=\"1\" class=\"dataframe\">\n",
       "  <thead>\n",
       "    <tr style=\"text-align: right;\">\n",
       "      <th></th>\n",
       "      <th>Grupo</th>\n",
       "      <th>Gasto</th>\n",
       "    </tr>\n",
       "  </thead>\n",
       "  <tbody>\n",
       "    <tr>\n",
       "      <th>122</th>\n",
       "      <td>Antigo</td>\n",
       "      <td>216.853270</td>\n",
       "    </tr>\n",
       "    <tr>\n",
       "      <th>119</th>\n",
       "      <td>Antigo</td>\n",
       "      <td>229.406914</td>\n",
       "    </tr>\n",
       "    <tr>\n",
       "      <th>143</th>\n",
       "      <td>Antigo</td>\n",
       "      <td>207.787163</td>\n",
       "    </tr>\n",
       "    <tr>\n",
       "      <th>40</th>\n",
       "      <td>Novo</td>\n",
       "      <td>167.765879</td>\n",
       "    </tr>\n",
       "    <tr>\n",
       "      <th>4</th>\n",
       "      <td>Novo</td>\n",
       "      <td>184.384394</td>\n",
       "    </tr>\n",
       "    <tr>\n",
       "      <th>27</th>\n",
       "      <td>Novo</td>\n",
       "      <td>165.467565</td>\n",
       "    </tr>\n",
       "    <tr>\n",
       "      <th>150</th>\n",
       "      <td>Antigo</td>\n",
       "      <td>279.075832</td>\n",
       "    </tr>\n",
       "    <tr>\n",
       "      <th>106</th>\n",
       "      <td>Antigo</td>\n",
       "      <td>200.373598</td>\n",
       "    </tr>\n",
       "    <tr>\n",
       "      <th>82</th>\n",
       "      <td>Antigo</td>\n",
       "      <td>256.100443</td>\n",
       "    </tr>\n",
       "    <tr>\n",
       "      <th>50</th>\n",
       "      <td>Novo</td>\n",
       "      <td>236.535921</td>\n",
       "    </tr>\n",
       "  </tbody>\n",
       "</table>\n",
       "</div>"
      ],
      "text/plain": [
       "      Grupo       Gasto\n",
       "122  Antigo  216.853270\n",
       "119  Antigo  229.406914\n",
       "143  Antigo  207.787163\n",
       "40     Novo  167.765879\n",
       "4      Novo  184.384394\n",
       "27     Novo  165.467565\n",
       "150  Antigo  279.075832\n",
       "106  Antigo  200.373598\n",
       "82   Antigo  256.100443\n",
       "50     Novo  236.535921"
      ]
     },
     "execution_count": 4,
     "metadata": {},
     "output_type": "execute_result"
    }
   ],
   "source": [
    "# Seed\n",
    "np.random.seed(5)\n",
    "\n",
    "# Dataframe\n",
    "clientes = pd.DataFrame({\n",
    "    'Grupo': ['Novo']*80 + ['Antigo']*80,\n",
    "    'Gasto': np.concatenate([np.random.normal(180, 40, 80),\n",
    "                             np.random.normal(230, 35, 80)])\n",
    "})\n",
    "\n",
    "# Visualiza os dados\n",
    "clientes.sample(10)"
   ]
  },
  {
   "cell_type": "code",
   "execution_count": 5,
   "id": "5dc1e77d-c90a-4749-ac7f-7e81ff5031bc",
   "metadata": {},
   "outputs": [],
   "source": [
    "# Solução\n"
   ]
  },
  {
   "cell_type": "markdown",
   "id": "0c8efaf1-91b0-472d-bf2a-dc46c51ef831",
   "metadata": {},
   "source": [
    "#### Exercício 3: Correlação Entre Horas de Estudo e Nota\n",
    "\n",
    "- Contexto: Um professor quer saber se o tempo de estudo está associado ao desempenho dos alunos.\n",
    "\n",
    "- Tarefa: Calcule a correlação de Pearson e gere o gráfico de dispersão com linha de regressão. Interprete o grau e a direção da relação.\n",
    "\n",
    "- Resultado esperado: Descreva se há correlação positiva, negativa ou nula e o que isso significa em termos práticos."
   ]
  },
  {
   "cell_type": "code",
   "execution_count": 6,
   "id": "3c2fbc60-a276-4f79-8358-42c30c674a8f",
   "metadata": {},
   "outputs": [
    {
     "data": {
      "text/html": [
       "<div>\n",
       "<style scoped>\n",
       "    .dataframe tbody tr th:only-of-type {\n",
       "        vertical-align: middle;\n",
       "    }\n",
       "\n",
       "    .dataframe tbody tr th {\n",
       "        vertical-align: top;\n",
       "    }\n",
       "\n",
       "    .dataframe thead th {\n",
       "        text-align: right;\n",
       "    }\n",
       "</style>\n",
       "<table border=\"1\" class=\"dataframe\">\n",
       "  <thead>\n",
       "    <tr style=\"text-align: right;\">\n",
       "      <th></th>\n",
       "      <th>Horas</th>\n",
       "      <th>Nota</th>\n",
       "    </tr>\n",
       "  </thead>\n",
       "  <tbody>\n",
       "    <tr>\n",
       "      <th>0</th>\n",
       "      <td>4.923954</td>\n",
       "      <td>20.474094</td>\n",
       "    </tr>\n",
       "    <tr>\n",
       "      <th>1</th>\n",
       "      <td>1.233336</td>\n",
       "      <td>6.605232</td>\n",
       "    </tr>\n",
       "    <tr>\n",
       "      <th>2</th>\n",
       "      <td>5.946962</td>\n",
       "      <td>34.736641</td>\n",
       "    </tr>\n",
       "    <tr>\n",
       "      <th>3</th>\n",
       "      <td>4.917902</td>\n",
       "      <td>22.684045</td>\n",
       "    </tr>\n",
       "    <tr>\n",
       "      <th>4</th>\n",
       "      <td>4.783310</td>\n",
       "      <td>22.038204</td>\n",
       "    </tr>\n",
       "  </tbody>\n",
       "</table>\n",
       "</div>"
      ],
      "text/plain": [
       "      Horas       Nota\n",
       "0  4.923954  20.474094\n",
       "1  1.233336   6.605232\n",
       "2  5.946962  34.736641\n",
       "3  4.917902  22.684045\n",
       "4  4.783310  22.038204"
      ]
     },
     "execution_count": 6,
     "metadata": {},
     "output_type": "execute_result"
    }
   ],
   "source": [
    "# Seed\n",
    "np.random.seed(2)\n",
    "\n",
    "# Dados\n",
    "horas = np.random.uniform(1, 10, 50)\n",
    "notas = 5*horas + np.random.normal(0, 5, 50)\n",
    "\n",
    "# Dataframe\n",
    "df = pd.DataFrame({'Horas': horas, 'Nota': notas})\n",
    "\n",
    "# Visualiza os dados\n",
    "df.head()"
   ]
  },
  {
   "cell_type": "code",
   "execution_count": 7,
   "id": "7fd11a85-42a4-4d81-aff7-a42b51558280",
   "metadata": {},
   "outputs": [],
   "source": [
    "# Solução\n"
   ]
  },
  {
   "cell_type": "markdown",
   "id": "adf3a4ba-eecd-4b37-a5e5-75af60880bc9",
   "metadata": {},
   "source": [
    "#### Exercício 4: Variação Semanal de Vendas\n",
    "\n",
    "- Contexto: O gestor deseja entender como as vendas variam ao longo da semana.\n",
    "\n",
    "- Tarefa: Simule dados de vendas diárias, calcule média e desvio por dia da semana e gere um gráfico de barras. Interprete os dias de maior e menor performance.\n",
    "\n",
    "- Resultado esperado: Identifique os dias mais fortes e mais fracos, e comente sobre a estabilidade semanal das vendas."
   ]
  },
  {
   "cell_type": "code",
   "execution_count": 8,
   "id": "4b1c4c14-40cc-41b8-a159-3091df344047",
   "metadata": {},
   "outputs": [
    {
     "data": {
      "text/html": [
       "<div>\n",
       "<style scoped>\n",
       "    .dataframe tbody tr th:only-of-type {\n",
       "        vertical-align: middle;\n",
       "    }\n",
       "\n",
       "    .dataframe tbody tr th {\n",
       "        vertical-align: top;\n",
       "    }\n",
       "\n",
       "    .dataframe thead th {\n",
       "        text-align: right;\n",
       "    }\n",
       "</style>\n",
       "<table border=\"1\" class=\"dataframe\">\n",
       "  <thead>\n",
       "    <tr style=\"text-align: right;\">\n",
       "      <th></th>\n",
       "      <th>Dia</th>\n",
       "      <th>Vendas</th>\n",
       "    </tr>\n",
       "  </thead>\n",
       "  <tbody>\n",
       "    <tr>\n",
       "      <th>0</th>\n",
       "      <td>Qua</td>\n",
       "      <td>911.338189</td>\n",
       "    </tr>\n",
       "    <tr>\n",
       "      <th>1</th>\n",
       "      <td>Seg</td>\n",
       "      <td>922.537395</td>\n",
       "    </tr>\n",
       "    <tr>\n",
       "      <th>2</th>\n",
       "      <td>Ter</td>\n",
       "      <td>856.000573</td>\n",
       "    </tr>\n",
       "    <tr>\n",
       "      <th>3</th>\n",
       "      <td>Qui</td>\n",
       "      <td>1056.594285</td>\n",
       "    </tr>\n",
       "    <tr>\n",
       "      <th>4</th>\n",
       "      <td>Seg</td>\n",
       "      <td>913.793737</td>\n",
       "    </tr>\n",
       "  </tbody>\n",
       "</table>\n",
       "</div>"
      ],
      "text/plain": [
       "   Dia       Vendas\n",
       "0  Qua   911.338189\n",
       "1  Seg   922.537395\n",
       "2  Ter   856.000573\n",
       "3  Qui  1056.594285\n",
       "4  Seg   913.793737"
      ]
     },
     "execution_count": 8,
     "metadata": {},
     "output_type": "execute_result"
    }
   ],
   "source": [
    "# Seed\n",
    "np.random.seed(3)\n",
    "\n",
    "# Dados\n",
    "dias = ['Seg', 'Ter', 'Qua', 'Qui', 'Sex', 'Sab', 'Dom']\n",
    "vendas = pd.DataFrame({\n",
    "    'Dia': np.random.choice(dias, 200),\n",
    "    'Vendas': np.random.normal(1000, 150, 200)\n",
    "})\n",
    "\n",
    "# Visualiza os dados\n",
    "vendas.head()"
   ]
  },
  {
   "cell_type": "code",
   "execution_count": 9,
   "id": "90edc5e9-d7d2-475c-80cb-ba04d3637884",
   "metadata": {},
   "outputs": [],
   "source": [
    "# Solução\n"
   ]
  },
  {
   "cell_type": "markdown",
   "id": "253f9e7b-a6cd-4bd0-85f1-9e816324f15c",
   "metadata": {},
   "source": [
    "#### Exercício 5: Estimativa da Média com Intervalo de Confiança (Statsmodels)\n",
    "\n",
    "- Contexto: Um analista de RH quer estimar a altura média dos colaboradores com 95% de confiança.\n",
    "\n",
    "- Tarefa: Calcule a média e o intervalo de confiança usando o DescrStatsW do Statsmodels. Interprete o resultado como se fosse parte de um relatório técnico.\n",
    "\n",
    "- Resultado esperado: Apresente a altura média estimada e explique o significado do intervalo de confiança no contexto da amostra."
   ]
  },
  {
   "cell_type": "code",
   "execution_count": 10,
   "id": "d17b72b9-306b-4163-a146-431499d76baf",
   "metadata": {},
   "outputs": [
    {
     "data": {
      "text/plain": [
       "array([1.88524206, 1.71272501, 1.75262561, 1.7826013 , 1.68688616,\n",
       "       1.75016525, 1.74992877, 1.60962206, 1.83141264, 1.79803988,\n",
       "       1.69996568, 1.73627614, 1.79042395, 1.72909149, 1.73058007,\n",
       "       1.63374069, 1.79436642, 1.75991047, 1.77195679, 1.62787804,\n",
       "       1.88205598, 1.76234684, 1.7190288 , 1.91232578, 1.74636912,\n",
       "       1.6339457 , 1.71758177, 1.56693479, 1.83395172, 1.71668205,\n",
       "       1.69059572, 1.83579761, 1.61791395, 1.79283435, 1.58484682,\n",
       "       1.69702725, 1.65366241, 1.86695805, 1.89129287, 1.7236469 ])"
      ]
     },
     "execution_count": 10,
     "metadata": {},
     "output_type": "execute_result"
    }
   ],
   "source": [
    "# Seed\n",
    "np.random.seed(7)\n",
    "\n",
    "# Conjunto de dados\n",
    "alturas = np.random.normal(1.75, 0.08, 40)\n",
    "\n",
    "# Visualiza os dados\n",
    "alturas"
   ]
  },
  {
   "cell_type": "code",
   "execution_count": 11,
   "id": "d2decec9-1191-4284-a801-de8ac2a7d495",
   "metadata": {},
   "outputs": [],
   "source": [
    "# Solução\n"
   ]
  },
  {
   "cell_type": "markdown",
   "id": "800eb189-a900-4307-a31c-910e5bb1e6c9",
   "metadata": {},
   "source": [
    "# Fim"
   ]
  }
 ],
 "metadata": {
  "kernelspec": {
   "display_name": "Python 3 (ipykernel)",
   "language": "python",
   "name": "python3"
  },
  "language_info": {
   "codemirror_mode": {
    "name": "ipython",
    "version": 3
   },
   "file_extension": ".py",
   "mimetype": "text/x-python",
   "name": "python",
   "nbconvert_exporter": "python",
   "pygments_lexer": "ipython3",
   "version": "3.13.5"
  }
 },
 "nbformat": 4,
 "nbformat_minor": 5
}
