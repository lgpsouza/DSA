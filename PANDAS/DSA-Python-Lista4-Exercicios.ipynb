{
 "cells": [
  {
   "cell_type": "markdown",
   "id": "61d979b2-a85f-4d69-901e-b3bb69419a3e",
   "metadata": {},
   "source": [
    "<!-- Trabalho Desenvolvido na Data Science Academy - www.datascienceacademy.com.br -->\n",
    "# <font color='blue'>Data Science Academy</font>\n",
    "# <font color='blue'>Fundamentos de Linguagem Python - Do Básico a Aplicações de IA</font>\n",
    "# <font color='blue'>Lista 4 de Exercícios</font>"
   ]
  },
  {
   "cell_type": "code",
   "execution_count": 1,
   "id": "8341d2d2-0282-4977-bdf7-9ec419466e79",
   "metadata": {},
   "outputs": [],
   "source": [
    "# Imports\n",
    "import pandas as pd\n",
    "import numpy as np"
   ]
  },
  {
   "cell_type": "markdown",
   "id": "54c9bece-4f86-49d3-8124-bd6708151629",
   "metadata": {},
   "source": [
    "#### Exercício 1: Seleção de Dados Condicional\n",
    "\n",
    "A partir do DataFrame de funcionários abaixo, selecione e exiba apenas os funcionários do departamento de 'Vendas' que têm um salário superior a R$ 4.500."
   ]
  },
  {
   "cell_type": "code",
   "execution_count": 2,
   "id": "84e65903-f98a-42f2-a7ec-1f02c5d2b875",
   "metadata": {},
   "outputs": [],
   "source": [
    "# Dados de exemplo\n",
    "dados = {'Nome': ['Ana', 'Bruno', 'Carla', 'Matias', 'Eliana', 'Fabiano'],\n",
    "         'Departamento': ['RH', 'Vendas', 'TI', 'Vendas', 'RH', 'Vendas'],\n",
    "         'Salário': [4000, 5000, 6200, 4400, 4300, 5500]}"
   ]
  },
  {
   "cell_type": "code",
   "execution_count": 3,
   "id": "2890d328-7c78-4e4e-bcef-367317642eee",
   "metadata": {},
   "outputs": [],
   "source": [
    "# DataFrame\n",
    "df_funcionarios = pd.DataFrame(dados)"
   ]
  },
  {
   "cell_type": "code",
   "execution_count": 4,
   "id": "ae28d13d-0ac2-4e9f-8cca-012ea52d0560",
   "metadata": {},
   "outputs": [
    {
     "data": {
      "text/html": [
       "<div>\n",
       "<style scoped>\n",
       "    .dataframe tbody tr th:only-of-type {\n",
       "        vertical-align: middle;\n",
       "    }\n",
       "\n",
       "    .dataframe tbody tr th {\n",
       "        vertical-align: top;\n",
       "    }\n",
       "\n",
       "    .dataframe thead th {\n",
       "        text-align: right;\n",
       "    }\n",
       "</style>\n",
       "<table border=\"1\" class=\"dataframe\">\n",
       "  <thead>\n",
       "    <tr style=\"text-align: right;\">\n",
       "      <th></th>\n",
       "      <th>Nome</th>\n",
       "      <th>Departamento</th>\n",
       "      <th>Salário</th>\n",
       "    </tr>\n",
       "  </thead>\n",
       "  <tbody>\n",
       "    <tr>\n",
       "      <th>0</th>\n",
       "      <td>Ana</td>\n",
       "      <td>RH</td>\n",
       "      <td>4000</td>\n",
       "    </tr>\n",
       "    <tr>\n",
       "      <th>1</th>\n",
       "      <td>Bruno</td>\n",
       "      <td>Vendas</td>\n",
       "      <td>5000</td>\n",
       "    </tr>\n",
       "    <tr>\n",
       "      <th>2</th>\n",
       "      <td>Carla</td>\n",
       "      <td>TI</td>\n",
       "      <td>6200</td>\n",
       "    </tr>\n",
       "    <tr>\n",
       "      <th>3</th>\n",
       "      <td>Matias</td>\n",
       "      <td>Vendas</td>\n",
       "      <td>4400</td>\n",
       "    </tr>\n",
       "    <tr>\n",
       "      <th>4</th>\n",
       "      <td>Eliana</td>\n",
       "      <td>RH</td>\n",
       "      <td>4300</td>\n",
       "    </tr>\n",
       "    <tr>\n",
       "      <th>5</th>\n",
       "      <td>Fabiano</td>\n",
       "      <td>Vendas</td>\n",
       "      <td>5500</td>\n",
       "    </tr>\n",
       "  </tbody>\n",
       "</table>\n",
       "</div>"
      ],
      "text/plain": [
       "      Nome Departamento  Salário\n",
       "0      Ana           RH     4000\n",
       "1    Bruno       Vendas     5000\n",
       "2    Carla           TI     6200\n",
       "3   Matias       Vendas     4400\n",
       "4   Eliana           RH     4300\n",
       "5  Fabiano       Vendas     5500"
      ]
     },
     "execution_count": 4,
     "metadata": {},
     "output_type": "execute_result"
    }
   ],
   "source": [
    "df_funcionarios"
   ]
  },
  {
   "cell_type": "code",
   "execution_count": 5,
   "id": "8cecadc0-c625-443d-ac88-2e03784dd911",
   "metadata": {},
   "outputs": [],
   "source": [
    "# Solução\n"
   ]
  },
  {
   "cell_type": "markdown",
   "id": "d31601e8-dfa3-4345-8981-46a96d1c8c30",
   "metadata": {},
   "source": [
    "#### Exercício 2: Agrupamento e Agregação (groupby)\n",
    "\n",
    "Com o DataFrame de vendas abaixo, calcule o total de vendas (Valor) para cada categoria de produto."
   ]
  },
  {
   "cell_type": "code",
   "execution_count": 6,
   "id": "760e0ecb-2182-4963-b016-2512982da69c",
   "metadata": {},
   "outputs": [],
   "source": [
    "# Dados de exemplo\n",
    "dados_vendas = {'Categoria': ['Eletrônicos', 'Vestuário', 'Eletrônicos', 'Casa', 'Vestuário', 'Eletrônicos'],\n",
    "                'Produto': ['TV', 'Camiseta', 'Notebook', 'Sofá', 'Calça', 'Celular'],\n",
    "                'Valor': [2500, 80, 4500, 1500, 120, 3000]}"
   ]
  },
  {
   "cell_type": "code",
   "execution_count": 7,
   "id": "69d203ab-5d8c-4852-b4fd-ebbbb18110cc",
   "metadata": {},
   "outputs": [],
   "source": [
    "# DataFrame\n",
    "df_vendas = pd.DataFrame(dados_vendas)"
   ]
  },
  {
   "cell_type": "code",
   "execution_count": 8,
   "id": "13765678-aaae-4bf6-828d-fada902c3d66",
   "metadata": {},
   "outputs": [
    {
     "data": {
      "text/html": [
       "<div>\n",
       "<style scoped>\n",
       "    .dataframe tbody tr th:only-of-type {\n",
       "        vertical-align: middle;\n",
       "    }\n",
       "\n",
       "    .dataframe tbody tr th {\n",
       "        vertical-align: top;\n",
       "    }\n",
       "\n",
       "    .dataframe thead th {\n",
       "        text-align: right;\n",
       "    }\n",
       "</style>\n",
       "<table border=\"1\" class=\"dataframe\">\n",
       "  <thead>\n",
       "    <tr style=\"text-align: right;\">\n",
       "      <th></th>\n",
       "      <th>Categoria</th>\n",
       "      <th>Produto</th>\n",
       "      <th>Valor</th>\n",
       "    </tr>\n",
       "  </thead>\n",
       "  <tbody>\n",
       "    <tr>\n",
       "      <th>0</th>\n",
       "      <td>Eletrônicos</td>\n",
       "      <td>TV</td>\n",
       "      <td>2500</td>\n",
       "    </tr>\n",
       "    <tr>\n",
       "      <th>1</th>\n",
       "      <td>Vestuário</td>\n",
       "      <td>Camiseta</td>\n",
       "      <td>80</td>\n",
       "    </tr>\n",
       "    <tr>\n",
       "      <th>2</th>\n",
       "      <td>Eletrônicos</td>\n",
       "      <td>Notebook</td>\n",
       "      <td>4500</td>\n",
       "    </tr>\n",
       "    <tr>\n",
       "      <th>3</th>\n",
       "      <td>Casa</td>\n",
       "      <td>Sofá</td>\n",
       "      <td>1500</td>\n",
       "    </tr>\n",
       "    <tr>\n",
       "      <th>4</th>\n",
       "      <td>Vestuário</td>\n",
       "      <td>Calça</td>\n",
       "      <td>120</td>\n",
       "    </tr>\n",
       "    <tr>\n",
       "      <th>5</th>\n",
       "      <td>Eletrônicos</td>\n",
       "      <td>Celular</td>\n",
       "      <td>3000</td>\n",
       "    </tr>\n",
       "  </tbody>\n",
       "</table>\n",
       "</div>"
      ],
      "text/plain": [
       "     Categoria   Produto  Valor\n",
       "0  Eletrônicos        TV   2500\n",
       "1    Vestuário  Camiseta     80\n",
       "2  Eletrônicos  Notebook   4500\n",
       "3         Casa      Sofá   1500\n",
       "4    Vestuário     Calça    120\n",
       "5  Eletrônicos   Celular   3000"
      ]
     },
     "execution_count": 8,
     "metadata": {},
     "output_type": "execute_result"
    }
   ],
   "source": [
    "df_vendas"
   ]
  },
  {
   "cell_type": "code",
   "execution_count": 9,
   "id": "64efa097-5b36-4f67-b77c-6f259cc0d5b7",
   "metadata": {},
   "outputs": [],
   "source": [
    "# Solução\n"
   ]
  },
  {
   "cell_type": "markdown",
   "id": "ea13bf81-a786-4304-a047-a066180f5808",
   "metadata": {},
   "source": [
    "#### Exercício 3: Criação de Nova Coluna\n",
    "<!-- Trabalho Desenvolvido na Data Science Academy - www.datascienceacademy.com.br -->\n",
    "A partir do DataFrame de produtos abaixo, crie uma nova coluna chamada Preco_com_Desconto que contenha o valor da coluna Preco com 10% de desconto."
   ]
  },
  {
   "cell_type": "code",
   "execution_count": 10,
   "id": "f936340c-2368-4293-8528-5f6c990e699e",
   "metadata": {},
   "outputs": [],
   "source": [
    "# Dados de exemplo\n",
    "dados_produtos = {'Produto': ['Monitor', 'Teclado', 'Mouse', 'Webcam'],\n",
    "                  'Preco': [800, 120, 70, 250]}"
   ]
  },
  {
   "cell_type": "code",
   "execution_count": 11,
   "id": "833e1924-2fe5-4e64-9301-9c0608af4e5f",
   "metadata": {},
   "outputs": [],
   "source": [
    "# DataFrame\n",
    "df_produtos = pd.DataFrame(dados_produtos)"
   ]
  },
  {
   "cell_type": "code",
   "execution_count": 12,
   "id": "d7c67bb4-444b-4144-9fcd-d7399ea82229",
   "metadata": {},
   "outputs": [
    {
     "data": {
      "text/html": [
       "<div>\n",
       "<style scoped>\n",
       "    .dataframe tbody tr th:only-of-type {\n",
       "        vertical-align: middle;\n",
       "    }\n",
       "\n",
       "    .dataframe tbody tr th {\n",
       "        vertical-align: top;\n",
       "    }\n",
       "\n",
       "    .dataframe thead th {\n",
       "        text-align: right;\n",
       "    }\n",
       "</style>\n",
       "<table border=\"1\" class=\"dataframe\">\n",
       "  <thead>\n",
       "    <tr style=\"text-align: right;\">\n",
       "      <th></th>\n",
       "      <th>Produto</th>\n",
       "      <th>Preco</th>\n",
       "    </tr>\n",
       "  </thead>\n",
       "  <tbody>\n",
       "    <tr>\n",
       "      <th>0</th>\n",
       "      <td>Monitor</td>\n",
       "      <td>800</td>\n",
       "    </tr>\n",
       "    <tr>\n",
       "      <th>1</th>\n",
       "      <td>Teclado</td>\n",
       "      <td>120</td>\n",
       "    </tr>\n",
       "    <tr>\n",
       "      <th>2</th>\n",
       "      <td>Mouse</td>\n",
       "      <td>70</td>\n",
       "    </tr>\n",
       "    <tr>\n",
       "      <th>3</th>\n",
       "      <td>Webcam</td>\n",
       "      <td>250</td>\n",
       "    </tr>\n",
       "  </tbody>\n",
       "</table>\n",
       "</div>"
      ],
      "text/plain": [
       "   Produto  Preco\n",
       "0  Monitor    800\n",
       "1  Teclado    120\n",
       "2    Mouse     70\n",
       "3   Webcam    250"
      ]
     },
     "execution_count": 12,
     "metadata": {},
     "output_type": "execute_result"
    }
   ],
   "source": [
    "df_produtos"
   ]
  },
  {
   "cell_type": "code",
   "execution_count": 13,
   "id": "018b2f49-2e72-45de-81e9-18b3d114c32a",
   "metadata": {},
   "outputs": [],
   "source": [
    "# Solução\n"
   ]
  },
  {
   "cell_type": "markdown",
   "id": "5112b06a-b162-4427-ad97-2399c7a35642",
   "metadata": {},
   "source": [
    "#### Exercício 4: Tratamento de Dados Ausentes (NaN)\n",
    "\n",
    "No DataFrame de alunos abaixo, substitua as notas ausentes (NaN) pela média da turma (média da coluna 'Nota')."
   ]
  },
  {
   "cell_type": "code",
   "execution_count": 14,
   "id": "d8188164-82d9-4a6b-bb9f-09497a1996f1",
   "metadata": {},
   "outputs": [],
   "source": [
    "# Dados de exemplo\n",
    "dados_alunos = {'Aluno': ['Alice', 'Bernardo', 'Clara', 'Marcelo'],\n",
    "                'Nota': [8.5, 7.0, np.nan, 9.0]}"
   ]
  },
  {
   "cell_type": "code",
   "execution_count": 15,
   "id": "cabfbf71-50fd-470c-bd11-eb120f75de50",
   "metadata": {},
   "outputs": [],
   "source": [
    "# DataFrame\n",
    "df_alunos = pd.DataFrame(dados_alunos)"
   ]
  },
  {
   "cell_type": "code",
   "execution_count": 16,
   "id": "c332d355-acdf-4e83-8396-ddb7610797b5",
   "metadata": {},
   "outputs": [
    {
     "data": {
      "text/html": [
       "<div>\n",
       "<style scoped>\n",
       "    .dataframe tbody tr th:only-of-type {\n",
       "        vertical-align: middle;\n",
       "    }\n",
       "\n",
       "    .dataframe tbody tr th {\n",
       "        vertical-align: top;\n",
       "    }\n",
       "\n",
       "    .dataframe thead th {\n",
       "        text-align: right;\n",
       "    }\n",
       "</style>\n",
       "<table border=\"1\" class=\"dataframe\">\n",
       "  <thead>\n",
       "    <tr style=\"text-align: right;\">\n",
       "      <th></th>\n",
       "      <th>Aluno</th>\n",
       "      <th>Nota</th>\n",
       "    </tr>\n",
       "  </thead>\n",
       "  <tbody>\n",
       "    <tr>\n",
       "      <th>0</th>\n",
       "      <td>Alice</td>\n",
       "      <td>8.5</td>\n",
       "    </tr>\n",
       "    <tr>\n",
       "      <th>1</th>\n",
       "      <td>Bernardo</td>\n",
       "      <td>7.0</td>\n",
       "    </tr>\n",
       "    <tr>\n",
       "      <th>2</th>\n",
       "      <td>Clara</td>\n",
       "      <td>NaN</td>\n",
       "    </tr>\n",
       "    <tr>\n",
       "      <th>3</th>\n",
       "      <td>Marcelo</td>\n",
       "      <td>9.0</td>\n",
       "    </tr>\n",
       "  </tbody>\n",
       "</table>\n",
       "</div>"
      ],
      "text/plain": [
       "      Aluno  Nota\n",
       "0     Alice   8.5\n",
       "1  Bernardo   7.0\n",
       "2     Clara   NaN\n",
       "3   Marcelo   9.0"
      ]
     },
     "execution_count": 16,
     "metadata": {},
     "output_type": "execute_result"
    }
   ],
   "source": [
    "df_alunos"
   ]
  },
  {
   "cell_type": "code",
   "execution_count": 17,
   "id": "cc1897d6-ecfc-4836-9f64-5632df56d925",
   "metadata": {},
   "outputs": [],
   "source": [
    "# Solução\n"
   ]
  },
  {
   "cell_type": "markdown",
   "id": "468a5cfc-2a75-44b2-b541-2510e7b0ccdd",
   "metadata": {},
   "source": [
    "#### Exercício 5: Ordenação de Dados (sort_values)\n",
    "\n",
    "Ordene o DataFrame de pontuações abaixo, do maior para o menor com base na coluna 'Pontos' e exiba o resultado."
   ]
  },
  {
   "cell_type": "code",
   "execution_count": 18,
   "id": "69354861-6fba-4bc6-b2db-add657cc9fed",
   "metadata": {},
   "outputs": [],
   "source": [
    "# Dados de exemplo\n",
    "dados_pontuacao = {'Jogador': ['J1', 'J2', 'J3', 'J4', 'J5'],\n",
    "                   'Pontos': [88, 95, 74, 102, 95]}"
   ]
  },
  {
   "cell_type": "code",
   "execution_count": 19,
   "id": "1ee97713-5489-4446-8613-3c25f05043b9",
   "metadata": {},
   "outputs": [],
   "source": [
    "# DataFrame\n",
    "df_pontuacao = pd.DataFrame(dados_pontuacao)"
   ]
  },
  {
   "cell_type": "code",
   "execution_count": 20,
   "id": "580d752d-58b5-4300-ae0e-13429cea30ae",
   "metadata": {},
   "outputs": [
    {
     "data": {
      "text/html": [
       "<div>\n",
       "<style scoped>\n",
       "    .dataframe tbody tr th:only-of-type {\n",
       "        vertical-align: middle;\n",
       "    }\n",
       "\n",
       "    .dataframe tbody tr th {\n",
       "        vertical-align: top;\n",
       "    }\n",
       "\n",
       "    .dataframe thead th {\n",
       "        text-align: right;\n",
       "    }\n",
       "</style>\n",
       "<table border=\"1\" class=\"dataframe\">\n",
       "  <thead>\n",
       "    <tr style=\"text-align: right;\">\n",
       "      <th></th>\n",
       "      <th>Jogador</th>\n",
       "      <th>Pontos</th>\n",
       "    </tr>\n",
       "  </thead>\n",
       "  <tbody>\n",
       "    <tr>\n",
       "      <th>0</th>\n",
       "      <td>J1</td>\n",
       "      <td>88</td>\n",
       "    </tr>\n",
       "    <tr>\n",
       "      <th>1</th>\n",
       "      <td>J2</td>\n",
       "      <td>95</td>\n",
       "    </tr>\n",
       "    <tr>\n",
       "      <th>2</th>\n",
       "      <td>J3</td>\n",
       "      <td>74</td>\n",
       "    </tr>\n",
       "    <tr>\n",
       "      <th>3</th>\n",
       "      <td>J4</td>\n",
       "      <td>102</td>\n",
       "    </tr>\n",
       "    <tr>\n",
       "      <th>4</th>\n",
       "      <td>J5</td>\n",
       "      <td>95</td>\n",
       "    </tr>\n",
       "  </tbody>\n",
       "</table>\n",
       "</div>"
      ],
      "text/plain": [
       "  Jogador  Pontos\n",
       "0      J1      88\n",
       "1      J2      95\n",
       "2      J3      74\n",
       "3      J4     102\n",
       "4      J5      95"
      ]
     },
     "execution_count": 20,
     "metadata": {},
     "output_type": "execute_result"
    }
   ],
   "source": [
    "df_pontuacao"
   ]
  },
  {
   "cell_type": "code",
   "execution_count": 21,
   "id": "530ae115-50ee-4d30-9e8b-9a99740ff134",
   "metadata": {},
   "outputs": [],
   "source": [
    "# Solução\n"
   ]
  },
  {
   "cell_type": "markdown",
   "id": "10f35353-0fb0-4650-9d0b-e0642fdac948",
   "metadata": {},
   "source": [
    "#### Exercício 6: Combinação de DataFrames (merge)\n",
    "\n",
    "Combine os DataFrames df_clientes e df_pedidos com base na coluna em comum ID_Cliente."
   ]
  },
  {
   "cell_type": "code",
   "execution_count": 22,
   "id": "66541876-b737-4445-8abc-7488a09dae52",
   "metadata": {},
   "outputs": [],
   "source": [
    "# Dados de exemplo\n",
    "df_clientes = pd.DataFrame({'ID_Cliente': [1, 2, 3],\n",
    "                            'Nome': ['Carlos', 'Mariana', 'Lucas']})"
   ]
  },
  {
   "cell_type": "code",
   "execution_count": 23,
   "id": "6bb9143e-4eab-42b3-b932-aadd7d9caf1d",
   "metadata": {},
   "outputs": [],
   "source": [
    "# Dados de exemplo\n",
    "df_pedidos = pd.DataFrame({'ID_Pedido': [101, 102, 103],\n",
    "                           'ID_Cliente': [2, 1, 2],\n",
    "                           'Produto': ['Livro', 'Caneta', 'Caderno']})"
   ]
  },
  {
   "cell_type": "code",
   "execution_count": 24,
   "id": "d17c4e2e-08fe-491a-9a66-97ead9a7b892",
   "metadata": {},
   "outputs": [],
   "source": [
    "# Solução\n"
   ]
  },
  {
   "cell_type": "markdown",
   "id": "89f74de8-f607-483b-856e-5dd68ea8463a",
   "metadata": {},
   "source": [
    "#### Exercício 7: Manipulação de Strings (.str)\n",
    "<!-- Trabalho Desenvolvido na Data Science Academy - www.datascienceacademy.com.br -->\n",
    "No DataFrame abaixo, extraia o ano da coluna Data e crie uma nova coluna chamada Ano."
   ]
  },
  {
   "cell_type": "code",
   "execution_count": 25,
   "id": "80e71447-b6d1-4fb9-99e7-b77795ffa22c",
   "metadata": {},
   "outputs": [],
   "source": [
    "# Dados de exemplo\n",
    "dados_eventos = {'Evento': ['Conferência A', 'Workshop B', 'Feira C'],\n",
    "                 'Data': ['2025-10-25', '2026-03-12', '2026-09-01']}"
   ]
  },
  {
   "cell_type": "code",
   "execution_count": 26,
   "id": "dfd18a1d-6202-4031-a6f6-b517199b7df7",
   "metadata": {},
   "outputs": [],
   "source": [
    "# DataFrame\n",
    "df_eventos = pd.DataFrame(dados_eventos)"
   ]
  },
  {
   "cell_type": "code",
   "execution_count": 27,
   "id": "eb0a7fac-734b-41b1-8e65-84ef494a5141",
   "metadata": {},
   "outputs": [
    {
     "data": {
      "text/html": [
       "<div>\n",
       "<style scoped>\n",
       "    .dataframe tbody tr th:only-of-type {\n",
       "        vertical-align: middle;\n",
       "    }\n",
       "\n",
       "    .dataframe tbody tr th {\n",
       "        vertical-align: top;\n",
       "    }\n",
       "\n",
       "    .dataframe thead th {\n",
       "        text-align: right;\n",
       "    }\n",
       "</style>\n",
       "<table border=\"1\" class=\"dataframe\">\n",
       "  <thead>\n",
       "    <tr style=\"text-align: right;\">\n",
       "      <th></th>\n",
       "      <th>Evento</th>\n",
       "      <th>Data</th>\n",
       "    </tr>\n",
       "  </thead>\n",
       "  <tbody>\n",
       "    <tr>\n",
       "      <th>0</th>\n",
       "      <td>Conferência A</td>\n",
       "      <td>2025-10-25</td>\n",
       "    </tr>\n",
       "    <tr>\n",
       "      <th>1</th>\n",
       "      <td>Workshop B</td>\n",
       "      <td>2026-03-12</td>\n",
       "    </tr>\n",
       "    <tr>\n",
       "      <th>2</th>\n",
       "      <td>Feira C</td>\n",
       "      <td>2026-09-01</td>\n",
       "    </tr>\n",
       "  </tbody>\n",
       "</table>\n",
       "</div>"
      ],
      "text/plain": [
       "          Evento        Data\n",
       "0  Conferência A  2025-10-25\n",
       "1     Workshop B  2026-03-12\n",
       "2        Feira C  2026-09-01"
      ]
     },
     "execution_count": 27,
     "metadata": {},
     "output_type": "execute_result"
    }
   ],
   "source": [
    "df_eventos"
   ]
  },
  {
   "cell_type": "code",
   "execution_count": 28,
   "id": "c504cbc4-607f-4528-8558-a3c18ebb81be",
   "metadata": {},
   "outputs": [],
   "source": [
    "# Solução\n"
   ]
  },
  {
   "cell_type": "markdown",
   "id": "8398dc11-614c-4333-be05-6647887740dc",
   "metadata": {},
   "source": [
    "#### Exercício 8: Uso do Método apply\n",
    "\n",
    "Crie uma nova coluna Status no DataFrame de notas. Se a Nota for maior ou igual a 7, o status deve ser 'Aprovado', caso contrário, 'Reprovado'. Use o método apply."
   ]
  },
  {
   "cell_type": "code",
   "execution_count": 29,
   "id": "d1ffefc0-718f-4689-98bb-68e90d1f47e8",
   "metadata": {},
   "outputs": [],
   "source": [
    "# Dados de exemplo\n",
    "dados_notas = {'Aluno': ['Maria', 'Jeremias', 'Paulo', 'Roberto'],\n",
    "               'Nota': [9.5, 6.0, 5.5, 8.0]}"
   ]
  },
  {
   "cell_type": "code",
   "execution_count": 30,
   "id": "c3c90910-af1f-410c-b43d-9e1bcf67b181",
   "metadata": {},
   "outputs": [],
   "source": [
    "# DataFrame\n",
    "df_notas = pd.DataFrame(dados_notas)"
   ]
  },
  {
   "cell_type": "code",
   "execution_count": 31,
   "id": "b5e18b18-d92f-43ba-a10b-308d7f314e1a",
   "metadata": {},
   "outputs": [
    {
     "data": {
      "text/html": [
       "<div>\n",
       "<style scoped>\n",
       "    .dataframe tbody tr th:only-of-type {\n",
       "        vertical-align: middle;\n",
       "    }\n",
       "\n",
       "    .dataframe tbody tr th {\n",
       "        vertical-align: top;\n",
       "    }\n",
       "\n",
       "    .dataframe thead th {\n",
       "        text-align: right;\n",
       "    }\n",
       "</style>\n",
       "<table border=\"1\" class=\"dataframe\">\n",
       "  <thead>\n",
       "    <tr style=\"text-align: right;\">\n",
       "      <th></th>\n",
       "      <th>Aluno</th>\n",
       "      <th>Nota</th>\n",
       "    </tr>\n",
       "  </thead>\n",
       "  <tbody>\n",
       "    <tr>\n",
       "      <th>0</th>\n",
       "      <td>Maria</td>\n",
       "      <td>9.5</td>\n",
       "    </tr>\n",
       "    <tr>\n",
       "      <th>1</th>\n",
       "      <td>Jeremias</td>\n",
       "      <td>6.0</td>\n",
       "    </tr>\n",
       "    <tr>\n",
       "      <th>2</th>\n",
       "      <td>Paulo</td>\n",
       "      <td>5.5</td>\n",
       "    </tr>\n",
       "    <tr>\n",
       "      <th>3</th>\n",
       "      <td>Roberto</td>\n",
       "      <td>8.0</td>\n",
       "    </tr>\n",
       "  </tbody>\n",
       "</table>\n",
       "</div>"
      ],
      "text/plain": [
       "      Aluno  Nota\n",
       "0     Maria   9.5\n",
       "1  Jeremias   6.0\n",
       "2     Paulo   5.5\n",
       "3   Roberto   8.0"
      ]
     },
     "execution_count": 31,
     "metadata": {},
     "output_type": "execute_result"
    }
   ],
   "source": [
    "df_notas"
   ]
  },
  {
   "cell_type": "code",
   "execution_count": 32,
   "id": "992cc2eb-0f96-4ece-a493-3d3a91a72e5f",
   "metadata": {},
   "outputs": [],
   "source": [
    "# Solução\n"
   ]
  },
  {
   "cell_type": "markdown",
   "id": "a9e7a848-cbe8-4fb3-9443-80b2287bcf63",
   "metadata": {},
   "source": [
    "#### Exercício 9: Criação de Tabela Dinâmica (pivot_table)\n",
    "<!-- Trabalho Desenvolvido na Data Science Academy - www.datascienceacademy.com.br -->\n",
    "Crie uma tabela dinâmica que mostre a soma das Vendas por Regiao e Vendedor."
   ]
  },
  {
   "cell_type": "code",
   "execution_count": 33,
   "id": "38d565d9-b339-45bb-a541-b13635dd5bbc",
   "metadata": {},
   "outputs": [],
   "source": [
    "# Dados de exemplo\n",
    "dados_regional = {'Regiao': ['Norte', 'Sul', 'Norte', 'Sul', 'Norte', 'Sul'],\n",
    "                  'Vendedor': ['Ana', 'Bruno', 'Ana', 'Carlos', 'Carlos', 'Bruno'],\n",
    "                  'Vendas': [1000, 1500, 1200, 1800, 800, 1300]}"
   ]
  },
  {
   "cell_type": "code",
   "execution_count": 34,
   "id": "70f64dd6-d175-42f1-b945-4bf207e1ff64",
   "metadata": {},
   "outputs": [],
   "source": [
    "# DataFrame\n",
    "df_regional = pd.DataFrame(dados_regional)"
   ]
  },
  {
   "cell_type": "code",
   "execution_count": 35,
   "id": "31871c6f-4a15-4822-bdc2-ddbe83e7d67b",
   "metadata": {},
   "outputs": [
    {
     "data": {
      "text/html": [
       "<div>\n",
       "<style scoped>\n",
       "    .dataframe tbody tr th:only-of-type {\n",
       "        vertical-align: middle;\n",
       "    }\n",
       "\n",
       "    .dataframe tbody tr th {\n",
       "        vertical-align: top;\n",
       "    }\n",
       "\n",
       "    .dataframe thead th {\n",
       "        text-align: right;\n",
       "    }\n",
       "</style>\n",
       "<table border=\"1\" class=\"dataframe\">\n",
       "  <thead>\n",
       "    <tr style=\"text-align: right;\">\n",
       "      <th></th>\n",
       "      <th>Regiao</th>\n",
       "      <th>Vendedor</th>\n",
       "      <th>Vendas</th>\n",
       "    </tr>\n",
       "  </thead>\n",
       "  <tbody>\n",
       "    <tr>\n",
       "      <th>0</th>\n",
       "      <td>Norte</td>\n",
       "      <td>Ana</td>\n",
       "      <td>1000</td>\n",
       "    </tr>\n",
       "    <tr>\n",
       "      <th>1</th>\n",
       "      <td>Sul</td>\n",
       "      <td>Bruno</td>\n",
       "      <td>1500</td>\n",
       "    </tr>\n",
       "    <tr>\n",
       "      <th>2</th>\n",
       "      <td>Norte</td>\n",
       "      <td>Ana</td>\n",
       "      <td>1200</td>\n",
       "    </tr>\n",
       "    <tr>\n",
       "      <th>3</th>\n",
       "      <td>Sul</td>\n",
       "      <td>Carlos</td>\n",
       "      <td>1800</td>\n",
       "    </tr>\n",
       "    <tr>\n",
       "      <th>4</th>\n",
       "      <td>Norte</td>\n",
       "      <td>Carlos</td>\n",
       "      <td>800</td>\n",
       "    </tr>\n",
       "    <tr>\n",
       "      <th>5</th>\n",
       "      <td>Sul</td>\n",
       "      <td>Bruno</td>\n",
       "      <td>1300</td>\n",
       "    </tr>\n",
       "  </tbody>\n",
       "</table>\n",
       "</div>"
      ],
      "text/plain": [
       "  Regiao Vendedor  Vendas\n",
       "0  Norte      Ana    1000\n",
       "1    Sul    Bruno    1500\n",
       "2  Norte      Ana    1200\n",
       "3    Sul   Carlos    1800\n",
       "4  Norte   Carlos     800\n",
       "5    Sul    Bruno    1300"
      ]
     },
     "execution_count": 35,
     "metadata": {},
     "output_type": "execute_result"
    }
   ],
   "source": [
    "df_regional"
   ]
  },
  {
   "cell_type": "code",
   "execution_count": 36,
   "id": "466b4082-dcae-4744-ae66-6c5a56679114",
   "metadata": {},
   "outputs": [],
   "source": [
    "# Solução\n"
   ]
  },
  {
   "cell_type": "markdown",
   "id": "ce028954-15f8-4319-ad66-3f6025180fef",
   "metadata": {},
   "source": [
    "#### Exercício 10: Análise de Séries Temporais\n",
    "\n",
    "A partir do DataFrame de visitas a um site, selecione e exiba apenas os registros do mês de agosto de 2026."
   ]
  },
  {
   "cell_type": "code",
   "execution_count": 37,
   "id": "7c074983-7971-472f-959f-1ec04b5e984c",
   "metadata": {},
   "outputs": [],
   "source": [
    "# Dados de exemplo\n",
    "datas = pd.to_datetime(pd.date_range(start = '2026-07-25', periods = 15, freq = 'D'))\n",
    "dados_visitas = {'Visitas': [150, 165, 178, 199, 205, 210, 225, 230, 215, 240, 255, 260, 245, 250, 270]}\n",
    "df_visitas = pd.DataFrame(data = dados_visitas, index = datas)\n",
    "df_visitas.index.name = 'Data'"
   ]
  },
  {
   "cell_type": "code",
   "execution_count": 38,
   "id": "1199cb7c-9191-4de4-89c4-4b88e6eb54ea",
   "metadata": {},
   "outputs": [
    {
     "data": {
      "text/html": [
       "<div>\n",
       "<style scoped>\n",
       "    .dataframe tbody tr th:only-of-type {\n",
       "        vertical-align: middle;\n",
       "    }\n",
       "\n",
       "    .dataframe tbody tr th {\n",
       "        vertical-align: top;\n",
       "    }\n",
       "\n",
       "    .dataframe thead th {\n",
       "        text-align: right;\n",
       "    }\n",
       "</style>\n",
       "<table border=\"1\" class=\"dataframe\">\n",
       "  <thead>\n",
       "    <tr style=\"text-align: right;\">\n",
       "      <th></th>\n",
       "      <th>Visitas</th>\n",
       "    </tr>\n",
       "    <tr>\n",
       "      <th>Data</th>\n",
       "      <th></th>\n",
       "    </tr>\n",
       "  </thead>\n",
       "  <tbody>\n",
       "    <tr>\n",
       "      <th>2026-07-25</th>\n",
       "      <td>150</td>\n",
       "    </tr>\n",
       "    <tr>\n",
       "      <th>2026-07-26</th>\n",
       "      <td>165</td>\n",
       "    </tr>\n",
       "    <tr>\n",
       "      <th>2026-07-27</th>\n",
       "      <td>178</td>\n",
       "    </tr>\n",
       "    <tr>\n",
       "      <th>2026-07-28</th>\n",
       "      <td>199</td>\n",
       "    </tr>\n",
       "    <tr>\n",
       "      <th>2026-07-29</th>\n",
       "      <td>205</td>\n",
       "    </tr>\n",
       "    <tr>\n",
       "      <th>2026-07-30</th>\n",
       "      <td>210</td>\n",
       "    </tr>\n",
       "    <tr>\n",
       "      <th>2026-07-31</th>\n",
       "      <td>225</td>\n",
       "    </tr>\n",
       "    <tr>\n",
       "      <th>2026-08-01</th>\n",
       "      <td>230</td>\n",
       "    </tr>\n",
       "    <tr>\n",
       "      <th>2026-08-02</th>\n",
       "      <td>215</td>\n",
       "    </tr>\n",
       "    <tr>\n",
       "      <th>2026-08-03</th>\n",
       "      <td>240</td>\n",
       "    </tr>\n",
       "    <tr>\n",
       "      <th>2026-08-04</th>\n",
       "      <td>255</td>\n",
       "    </tr>\n",
       "    <tr>\n",
       "      <th>2026-08-05</th>\n",
       "      <td>260</td>\n",
       "    </tr>\n",
       "    <tr>\n",
       "      <th>2026-08-06</th>\n",
       "      <td>245</td>\n",
       "    </tr>\n",
       "    <tr>\n",
       "      <th>2026-08-07</th>\n",
       "      <td>250</td>\n",
       "    </tr>\n",
       "    <tr>\n",
       "      <th>2026-08-08</th>\n",
       "      <td>270</td>\n",
       "    </tr>\n",
       "  </tbody>\n",
       "</table>\n",
       "</div>"
      ],
      "text/plain": [
       "            Visitas\n",
       "Data               \n",
       "2026-07-25      150\n",
       "2026-07-26      165\n",
       "2026-07-27      178\n",
       "2026-07-28      199\n",
       "2026-07-29      205\n",
       "2026-07-30      210\n",
       "2026-07-31      225\n",
       "2026-08-01      230\n",
       "2026-08-02      215\n",
       "2026-08-03      240\n",
       "2026-08-04      255\n",
       "2026-08-05      260\n",
       "2026-08-06      245\n",
       "2026-08-07      250\n",
       "2026-08-08      270"
      ]
     },
     "execution_count": 38,
     "metadata": {},
     "output_type": "execute_result"
    }
   ],
   "source": [
    "df_visitas"
   ]
  },
  {
   "cell_type": "code",
   "execution_count": 39,
   "id": "af91378a-59e7-41ca-ac39-0caf5492c16f",
   "metadata": {},
   "outputs": [],
   "source": [
    "# Solução\n"
   ]
  },
  {
   "cell_type": "markdown",
   "id": "800eb189-a900-4307-a31c-910e5bb1e6c9",
   "metadata": {},
   "source": [
    "# Fim"
   ]
  }
 ],
 "metadata": {
  "kernelspec": {
   "display_name": "Python 3 (ipykernel)",
   "language": "python",
   "name": "python3"
  },
  "language_info": {
   "codemirror_mode": {
    "name": "ipython",
    "version": 3
   },
   "file_extension": ".py",
   "mimetype": "text/x-python",
   "name": "python",
   "nbconvert_exporter": "python",
   "pygments_lexer": "ipython3",
   "version": "3.13.5"
  }
 },
 "nbformat": 4,
 "nbformat_minor": 5
}
