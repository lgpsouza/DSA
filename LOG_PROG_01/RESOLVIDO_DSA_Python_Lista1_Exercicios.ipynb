{
  "cells": [
    {
      "cell_type": "markdown",
      "id": "61d979b2-a85f-4d69-901e-b3bb69419a3e",
      "metadata": {
        "id": "61d979b2-a85f-4d69-901e-b3bb69419a3e"
      },
      "source": [
        "<!-- Trabalho Desenvolvido na Data Science Academy - www.datascienceacademy.com.br -->\n",
        "# <font color='blue'>Data Science Academy</font>\n",
        "# <font color='blue'>Fundamentos de Linguagem Python - Do Básico a Aplicações de IA</font>\n",
        "# <font color='blue'>Lista 1 de Exercícios</font>"
      ]
    },
    {
      "cell_type": "markdown",
      "source": [],
      "metadata": {
        "id": "JY9cV2debsN-"
      },
      "id": "JY9cV2debsN-"
    },
    {
      "cell_type": "markdown",
      "id": "3670be14-c985-465c-a68c-34b0e822b07a",
      "metadata": {
        "id": "3670be14-c985-465c-a68c-34b0e822b07a"
      },
      "source": [
        "#### Exercício 1\n",
        "\n",
        "Escreva um programa que peça ao usuário para digitar seu nome e, em seguida, imprima uma mensagem de boas-vindas com o nome fornecido."
      ]
    },
    {
      "cell_type": "code",
      "execution_count": 1,
      "id": "e05f9264-9103-4c43-9bbf-20334ead2de3",
      "metadata": {
        "id": "e05f9264-9103-4c43-9bbf-20334ead2de3",
        "colab": {
          "base_uri": "https://localhost:8080/"
        },
        "outputId": "70eefd2c-5c3b-4036-c845-014cf19b9f6f"
      },
      "outputs": [
        {
          "output_type": "stream",
          "name": "stdout",
          "text": [
            "Digite seu nomedsad\n",
            "Olá dsad, seja bem vindo!\n"
          ]
        }
      ],
      "source": [
        "# Solução\n",
        "nome = input(\"Digite seu nome\")\n",
        "print(f\"Olá {nome}, seja bem vindo!\")"
      ]
    },
    {
      "cell_type": "markdown",
      "id": "c740abbd-3a0e-4f9f-9a26-a3e382b078f5",
      "metadata": {
        "id": "c740abbd-3a0e-4f9f-9a26-a3e382b078f5"
      },
      "source": [
        "#### Exercício 2\n",
        "\n",
        "Crie duas variáveis, numero1 e numero2, e atribua a elas valores inteiros. Calcule a soma, subtração, multiplicação e divisão dessas variáveis e imprima os resultados."
      ]
    },
    {
      "cell_type": "code",
      "execution_count": null,
      "id": "431acb5d-fcd1-4ce4-9eee-6117b4066383",
      "metadata": {
        "id": "431acb5d-fcd1-4ce4-9eee-6117b4066383"
      },
      "outputs": [],
      "source": [
        "# Solução\n",
        "numero1 = input(\"Digite um número\")\n",
        "numero2 = input(\"Digite outro número\")\n",
        "numero1 = int(numero1)\n",
        "numero2 = int(numero2)\n",
        "soma = numero1 + numero2\n",
        "subtracao = numero1 - numero2\n",
        "multiplicacao = numero1 * numero2\n",
        "divisao = numero1 / numero2\n",
        "print(f\"Soma: {soma}\")\n",
        "print(f\"Subtração: {subtracao}\")\n",
        "print(f\"Multiplicação: {multiplicacao}\")\n",
        "print(f\"Divisão: {divisao}\")"
      ]
    },
    {
      "cell_type": "markdown",
      "id": "3375fbd5-8283-4602-9462-c0c7722e3258",
      "metadata": {
        "id": "3375fbd5-8283-4602-9462-c0c7722e3258"
      },
      "source": [
        "#### Exercício 3\n",
        "\n",
        "Qual é a principal diferença entre uma variável de escopo local e uma de escopo global?"
      ]
    },
    {
      "cell_type": "code",
      "execution_count": null,
      "id": "de7f16bd-c754-456b-a726-28616af68aaa",
      "metadata": {
        "id": "de7f16bd-c754-456b-a726-28616af68aaa"
      },
      "outputs": [],
      "source": [
        "# Solução\n",
        "#Variavel de escopo global é usada no codigo inteiro\n",
        "#Variavel de escopo local é usada em um determinado bloco do codigo"
      ]
    },
    {
      "cell_type": "markdown",
      "id": "7a6f120d-ef3d-4431-a9a1-1f8a99bae626",
      "metadata": {
        "id": "7a6f120d-ef3d-4431-a9a1-1f8a99bae626"
      },
      "source": [
        "#### Exercício 4\n",
        "\n",
        "Crie uma variável chamada saldo com o valor 500.50 (float). Em seguida, crie uma variável saque com o valor 200.25 (float). Subtraia o saque do saldo e imprima o saldo final formatado para duas casas decimais."
      ]
    },
    {
      "cell_type": "code",
      "execution_count": null,
      "id": "d40d066e-42b3-4659-a098-4bb73a3448a2",
      "metadata": {
        "id": "d40d066e-42b3-4659-a098-4bb73a3448a2"
      },
      "outputs": [],
      "source": [
        "# Solução\n",
        "saldo = 500.80\n",
        "saque = 200.25\n",
        "saldo_final = saldo - saque\n",
        "print(f\"Saldo final: {saldo_final:.2f}\")\n"
      ]
    },
    {
      "cell_type": "markdown",
      "id": "a3182326-e5c7-4b8b-aeae-f30bbc3532b2",
      "metadata": {
        "id": "a3182326-e5c7-4b8b-aeae-f30bbc3532b2"
      },
      "source": [
        "#### Exercício 5\n",
        "\n",
        "Declare uma variável booleana chamada **tem_carteira_de_motorista** e atribua a ela o valor True. Imprima uma mensagem que diga \"Pode dirigir\" se a variável for verdadeira e \"Não pode dirigir\" caso contrário."
      ]
    },
    {
      "cell_type": "code",
      "execution_count": null,
      "id": "40007f31-7641-4d98-9521-c23f0741c37f",
      "metadata": {
        "id": "40007f31-7641-4d98-9521-c23f0741c37f"
      },
      "outputs": [],
      "source": [
        "# Solução\n",
        "tem_carteira_de_motorista = True\n",
        "if tem_carteira_de_motorista:\n",
        "    print(\"Pode dirigir\")\n",
        "else:\n",
        "    print(\"Não pode dirigir\")"
      ]
    },
    {
      "cell_type": "markdown",
      "id": "5e3ab56c-3067-415a-b475-ec5dff1ee815",
      "metadata": {
        "id": "5e3ab56c-3067-415a-b475-ec5dff1ee815"
      },
      "source": [
        "#### Exercício 6\n",
        "\n",
        "Crie duas variáveis:\n",
        "\n",
        "- idade_ana = 25\n",
        "- idade_beto = 30\n",
        "\n",
        "Use operadores de comparação para verificar se a idade de Ana é menor que a de Beto e imprima o resultado booleano."
      ]
    },
    {
      "cell_type": "code",
      "execution_count": null,
      "id": "45a0699c-e6f4-4f0d-a55b-e1f2a39ba92e",
      "metadata": {
        "id": "45a0699c-e6f4-4f0d-a55b-e1f2a39ba92e"
      },
      "outputs": [],
      "source": [
        "# Solução\n",
        "idade_ana=25\n",
        "idade_beto=30\n",
        "if idade_ana < idade_beto:\n",
        "    print(\"Verdadeiro\")\n",
        "else:\n",
        "    print(\"Falso\")"
      ]
    },
    {
      "cell_type": "markdown",
      "id": "b87006e7-5436-4dc0-acfc-fe6e83330191",
      "metadata": {
        "id": "b87006e7-5436-4dc0-acfc-fe6e83330191"
      },
      "source": [
        "#### Exercício 7\n",
        "\n",
        "Receba um número inteiro do usuário e use o operador de módulo (%) para verificar se o número é par ou ímpar. Imprima o resultado.\n",
        "\n",
        "Obs: Não estudamos ainda os condicionais, mas pesquise se necessário e tente resolver."
      ]
    },
    {
      "cell_type": "code",
      "execution_count": null,
      "id": "1f0c0503-1346-47f1-8cb9-ddbcd87641ea",
      "metadata": {
        "id": "1f0c0503-1346-47f1-8cb9-ddbcd87641ea"
      },
      "outputs": [],
      "source": [
        "# Solução\n",
        "numero = int(input(\"Digite um número\"))\n",
        "if numero % 2 == 0:\n",
        "    print(\"Par\")\n",
        "else:\n",
        "    print(\"Ímpar\")"
      ]
    },
    {
      "cell_type": "markdown",
      "id": "268f4ea6-5329-457b-8b1f-8b3fc7956603",
      "metadata": {
        "id": "268f4ea6-5329-457b-8b1f-8b3fc7956603"
      },
      "source": [
        "#### Exercício 8\n",
        "\n",
        "Crie duas variáveis booleanas:\n",
        "\n",
        "- chovendo = True\n",
        "- guarda_chuva = False\n",
        "\n",
        "Use operadores lógicos para verificar se uma pessoa vai se molhar (se está chovendo E ela não tem guarda-chuva)."
      ]
    },
    {
      "cell_type": "code",
      "execution_count": null,
      "id": "7366a477-10f5-46ec-ba8c-b0ab6067fed0",
      "metadata": {
        "id": "7366a477-10f5-46ec-ba8c-b0ab6067fed0"
      },
      "outputs": [],
      "source": [
        "# Solução\n",
        "chovendo =True\n",
        "guarda_chuva = False\n",
        "if chovendo and not guarda_chuva:\n",
        "    print(\"Vai se molhar\")\n",
        "else:\n",
        "    print(\"Não vai se molhar\")"
      ]
    },
    {
      "cell_type": "markdown",
      "id": "bc454f20-7ee6-4402-8319-5e4876e2d309",
      "metadata": {
        "id": "bc454f20-7ee6-4402-8319-5e4876e2d309"
      },
      "source": [
        "#### Exercício 9\n",
        "\n",
        "Calcule a potência de 2 elevado a 10 e imprima o resultado."
      ]
    },
    {
      "cell_type": "code",
      "execution_count": null,
      "id": "11bdc9e8-75be-4448-932d-d876207fd1e4",
      "metadata": {
        "id": "11bdc9e8-75be-4448-932d-d876207fd1e4"
      },
      "outputs": [],
      "source": [
        "# Solução\n",
        "resultado = 2**10\n",
        "print(resultado)"
      ]
    },
    {
      "cell_type": "markdown",
      "id": "40f12391-14a5-4b6d-bcb7-419a373eb0e1",
      "metadata": {
        "id": "40f12391-14a5-4b6d-bcb7-419a373eb0e1"
      },
      "source": [
        "#### Exercício 10\n",
        "\n",
        "Converta a string \"2026\" para um tipo inteiro e armazene-a em uma variável chamada ano. Em seguida, some 1 a essa variável e imprima o novo ano."
      ]
    },
    {
      "cell_type": "code",
      "execution_count": null,
      "id": "98f84688-9bfe-4de8-9f2b-97bf184dbd18",
      "metadata": {
        "id": "98f84688-9bfe-4de8-9f2b-97bf184dbd18"
      },
      "outputs": [],
      "source": [
        "# Solução\n",
        "ano = int(\"2026\")\n",
        "ano = ano + 1\n",
        "print(ano)"
      ]
    },
    {
      "cell_type": "markdown",
      "id": "ca6b9f60-681d-4baf-abe0-aa8e258e7407",
      "metadata": {
        "id": "ca6b9f60-681d-4baf-abe0-aa8e258e7407"
      },
      "source": [
        "#### Exercício 11\n",
        "\n",
        "Crie a string:\n",
        "\n",
        "frase = \"   Python é uma linguagem poderosa e estou aprendendo com a DSA   \".\n",
        "\n",
        "Remova os espaços em branco do início e do fim da string e imprima a nova string."
      ]
    },
    {
      "cell_type": "code",
      "execution_count": null,
      "id": "4e2042e8-4925-4d36-acf6-7953917f43d1",
      "metadata": {
        "id": "4e2042e8-4925-4d36-acf6-7953917f43d1"
      },
      "outputs": [],
      "source": [
        "# Solução\n",
        "frase = \" Python é uma linguagem poderosa e estou aprendendo com a DSA \"\n",
        "frase = frase.strip()\n",
        "print(frase)\n"
      ]
    },
    {
      "cell_type": "markdown",
      "id": "757dc590-00ae-447d-8739-d472b92ba5d3",
      "metadata": {
        "id": "757dc590-00ae-447d-8739-d472b92ba5d3"
      },
      "source": [
        "#### Exercício 12\n",
        "\n",
        "Na string do exercício anterior (já sem os espaços), converta toda a frase para letras maiúsculas."
      ]
    },
    {
      "cell_type": "code",
      "execution_count": null,
      "id": "0a474b6c-499e-4d50-9cdb-cec4bbecef59",
      "metadata": {
        "id": "0a474b6c-499e-4d50-9cdb-cec4bbecef59"
      },
      "outputs": [],
      "source": [
        "# Solução\n",
        "frase = frase.upper()\n",
        "print(frase)"
      ]
    },
    {
      "cell_type": "markdown",
      "id": "afed6632-a72f-482b-a9e7-07a507ab54d9",
      "metadata": {
        "id": "afed6632-a72f-482b-a9e7-07a507ab54d9"
      },
      "source": [
        "#### Exercício 13\n",
        "\n",
        "Ainda usando a mesma string, substitua a palavra \"poderosa\" por \"incrível\"."
      ]
    },
    {
      "cell_type": "code",
      "execution_count": null,
      "id": "d57316c4-a357-49e9-820f-b774fe13a310",
      "metadata": {
        "id": "d57316c4-a357-49e9-820f-b774fe13a310"
      },
      "outputs": [],
      "source": [
        "# Solução\n",
        "frase = frase.replace(\"poderosa\",\"incrível\")\n",
        "print(frase)"
      ]
    },
    {
      "cell_type": "markdown",
      "id": "fb47b3bf-825b-4c2b-89a0-78bd31e1c6e5",
      "metadata": {
        "id": "fb47b3bf-825b-4c2b-89a0-78bd31e1c6e5"
      },
      "source": [
        "#### Exercício 14\n",
        "\n",
        "Verifique e imprima o número total de caracteres na string frase (após as modificações dos exercícios anteriores)."
      ]
    },
    {
      "cell_type": "code",
      "execution_count": null,
      "id": "6c44e720-0118-4933-94de-772274740d5f",
      "metadata": {
        "id": "6c44e720-0118-4933-94de-772274740d5f"
      },
      "outputs": [],
      "source": [
        "# Solução\n",
        "frase = len(frase)\n",
        "print(frase)"
      ]
    },
    {
      "cell_type": "markdown",
      "id": "a475df67-a4fe-4a28-82c5-4006b78e6724",
      "metadata": {
        "id": "a475df67-a4fe-4a28-82c5-4006b78e6724"
      },
      "source": [
        "#### Exercício 15\n",
        "\n",
        "Use fatiamento (slicing) para extrair e imprimir apenas a palavra \"Python\" da string frase."
      ]
    },
    {
      "cell_type": "code",
      "execution_count": null,
      "id": "4545e6b6-347d-41e4-9040-64785c0b158f",
      "metadata": {
        "id": "4545e6b6-347d-41e4-9040-64785c0b158f"
      },
      "outputs": [],
      "source": [
        "# Solução\n",
        "frase = \"Python é uma linguagem poderosa e estou aprendendo com a DSA\"\n",
        "palavra = frase[0:6]\n",
        "print(palavra)"
      ]
    },
    {
      "cell_type": "markdown",
      "id": "87d8b962-276a-4eda-bb07-e392be103475",
      "metadata": {
        "id": "87d8b962-276a-4eda-bb07-e392be103475"
      },
      "source": [
        "#### Exercício 16\n",
        "\n",
        "Crie uma lista chamada compras com os seguintes itens: \"arroz\", \"feijão\", \"macarrão\", \"carne\". Imprima a lista."
      ]
    },
    {
      "cell_type": "code",
      "execution_count": 22,
      "id": "519ccb8d-07dd-4706-b949-cd4f3db5b0ea",
      "metadata": {
        "id": "519ccb8d-07dd-4706-b949-cd4f3db5b0ea",
        "colab": {
          "base_uri": "https://localhost:8080/"
        },
        "outputId": "1528e245-f1f0-48b9-cc8d-259095cc28c1"
      },
      "outputs": [
        {
          "output_type": "stream",
          "name": "stdout",
          "text": [
            "['arroz', 'feijão', 'macarrão', 'carne']\n"
          ]
        }
      ],
      "source": [
        "# Solução\n",
        "compra = [\"arroz\", \"feijão\", \"macarrão\", \"carne\"]\n",
        "print(compra)"
      ]
    },
    {
      "cell_type": "markdown",
      "id": "43dda5ea-fc93-4dda-9a88-37f5ee02595b",
      "metadata": {
        "id": "43dda5ea-fc93-4dda-9a88-37f5ee02595b"
      },
      "source": [
        "#### Exercício 17\n",
        "\n",
        "Adicione o item \"leite\" ao final da lista compras e imprima a lista atualizada."
      ]
    },
    {
      "cell_type": "code",
      "execution_count": 11,
      "id": "b287493d-7eaf-4ea3-adee-f04bda37c753",
      "metadata": {
        "id": "b287493d-7eaf-4ea3-adee-f04bda37c753",
        "colab": {
          "base_uri": "https://localhost:8080/"
        },
        "outputId": "eec7e4f8-ae37-4e54-b363-288e4d84ec90"
      },
      "outputs": [
        {
          "output_type": "stream",
          "name": "stdout",
          "text": [
            "['arroz', 'feijão', 'macarrão', 'carne', 'leite']\n"
          ]
        }
      ],
      "source": [
        "# Solução\n",
        "compra = compra + [\"leite\"]\n",
        "print(compra)"
      ]
    },
    {
      "cell_type": "markdown",
      "id": "d0c379ea-a090-486f-ad23-0c1f9f1f57c4",
      "metadata": {
        "id": "d0c379ea-a090-486f-ad23-0c1f9f1f57c4"
      },
      "source": [
        "#### Exercício 18\n",
        "\n",
        "Acesse e imprima o segundo item da lista compras."
      ]
    },
    {
      "cell_type": "code",
      "execution_count": 13,
      "id": "927b9ca7-96fb-4f47-8944-1807f50188d7",
      "metadata": {
        "id": "927b9ca7-96fb-4f47-8944-1807f50188d7",
        "colab": {
          "base_uri": "https://localhost:8080/"
        },
        "outputId": "333bb708-1b10-4a8f-f417-81969cf9f33f"
      },
      "outputs": [
        {
          "output_type": "stream",
          "name": "stdout",
          "text": [
            "feijão\n"
          ]
        }
      ],
      "source": [
        "# Solução\n",
        "segundo_item = compra[1]\n",
        "print(segundo_item)"
      ]
    },
    {
      "cell_type": "markdown",
      "id": "756fb416-ccbd-4490-bd7b-7e5fbbad2202",
      "metadata": {
        "id": "756fb416-ccbd-4490-bd7b-7e5fbbad2202"
      },
      "source": [
        "#### Exercício 19\n",
        "\n",
        "Remova o item \"macarrão\" da lista compras e imprima a lista final."
      ]
    },
    {
      "cell_type": "code",
      "execution_count": 23,
      "id": "f6dae380-9cfc-41ea-87a5-0e7b9fe83412",
      "metadata": {
        "id": "f6dae380-9cfc-41ea-87a5-0e7b9fe83412",
        "colab": {
          "base_uri": "https://localhost:8080/"
        },
        "outputId": "e839c6ce-c448-4e4c-fb01-5837fad5449f"
      },
      "outputs": [
        {
          "output_type": "stream",
          "name": "stdout",
          "text": [
            "['arroz', 'feijão', 'carne']\n"
          ]
        }
      ],
      "source": [
        "# Solução\n",
        "compra.remove(\"macarrão\")\n",
        "print(compra)"
      ]
    },
    {
      "cell_type": "markdown",
      "id": "45768893-27ab-411a-b344-66c1e0c10d3f",
      "metadata": {
        "id": "45768893-27ab-411a-b344-66c1e0c10d3f"
      },
      "source": [
        "#### Exercício 20\n",
        "\n",
        "Crie uma lista de números de 1 a 5. Use uma função para calcular e imprimir o tamanho (número de elementos) dessa lista."
      ]
    },
    {
      "cell_type": "code",
      "execution_count": 24,
      "id": "936f45f6-f9bc-44c2-8c7e-b8f017a569e6",
      "metadata": {
        "id": "936f45f6-f9bc-44c2-8c7e-b8f017a569e6",
        "colab": {
          "base_uri": "https://localhost:8080/"
        },
        "outputId": "808dc0fc-092a-40cb-8d06-9542d48e6bd2"
      },
      "outputs": [
        {
          "output_type": "stream",
          "name": "stdout",
          "text": [
            "5\n"
          ]
        }
      ],
      "source": [
        "# Solução\n",
        "numeros = [1,2,3,4,5]\n",
        "print(len(numeros))"
      ]
    },
    {
      "cell_type": "markdown",
      "id": "48c0e0e5-d033-4ace-9854-b3140c9f52e8",
      "metadata": {
        "id": "48c0e0e5-d033-4ace-9854-b3140c9f52e8"
      },
      "source": [
        "#### Exercício 21\n",
        "\n",
        "Crie uma tupla chamada meses com os três primeiros meses do ano: \"Janeiro\", \"Fevereiro\", \"Março\"."
      ]
    },
    {
      "cell_type": "code",
      "execution_count": 1,
      "id": "7ec4a95a-6566-4063-b03e-9194111d0340",
      "metadata": {
        "id": "7ec4a95a-6566-4063-b03e-9194111d0340",
        "colab": {
          "base_uri": "https://localhost:8080/"
        },
        "outputId": "e71868ce-6645-42e5-f20d-c05f49dca032"
      },
      "outputs": [
        {
          "output_type": "stream",
          "name": "stdout",
          "text": [
            "('Janeiro', 'Fevereiro', 'Março')\n"
          ]
        }
      ],
      "source": [
        "# Solução\n",
        "meses = (\"Janeiro\", \"Fevereiro\", \"Março\")\n",
        "print(meses)"
      ]
    },
    {
      "cell_type": "markdown",
      "id": "593e45f0-fb20-4870-b0db-ff370191c232",
      "metadata": {
        "id": "593e45f0-fb20-4870-b0db-ff370191c232"
      },
      "source": [
        "#### Exercício 22\n",
        "\n",
        "Tente adicionar o mês \"Abril\" à tupla meses. O que acontece? Explique o resultado."
      ]
    },
    {
      "cell_type": "code",
      "execution_count": 35,
      "id": "3d14be0c-9888-40cb-b806-5b33123349ac",
      "metadata": {
        "id": "3d14be0c-9888-40cb-b806-5b33123349ac",
        "colab": {
          "base_uri": "https://localhost:8080/",
          "height": 176
        },
        "outputId": "0dfd1166-b68a-474d-f4eb-6df8ea9cf56a"
      },
      "outputs": [
        {
          "output_type": "error",
          "ename": "TypeError",
          "evalue": "can only concatenate tuple (not \"str\") to tuple",
          "traceback": [
            "\u001b[0;31m---------------------------------------------------------------------------\u001b[0m",
            "\u001b[0;31mTypeError\u001b[0m                                 Traceback (most recent call last)",
            "\u001b[0;32m/tmp/ipython-input-3232353365.py\u001b[0m in \u001b[0;36m<cell line: 0>\u001b[0;34m()\u001b[0m\n\u001b[1;32m      1\u001b[0m \u001b[0;31m# Solução\u001b[0m\u001b[0;34m\u001b[0m\u001b[0;34m\u001b[0m\u001b[0m\n\u001b[0;32m----> 2\u001b[0;31m \u001b[0mmeses\u001b[0m \u001b[0;34m=\u001b[0m \u001b[0mmeses\u001b[0m \u001b[0;34m+\u001b[0m \u001b[0;34m(\u001b[0m\u001b[0;34m\"Abril\"\u001b[0m\u001b[0;34m)\u001b[0m\u001b[0;34m\u001b[0m\u001b[0;34m\u001b[0m\u001b[0m\n\u001b[0m\u001b[1;32m      3\u001b[0m \u001b[0mprint\u001b[0m\u001b[0;34m(\u001b[0m\u001b[0mmeses\u001b[0m\u001b[0;34m)\u001b[0m\u001b[0;34m\u001b[0m\u001b[0;34m\u001b[0m\u001b[0m\n",
            "\u001b[0;31mTypeError\u001b[0m: can only concatenate tuple (not \"str\") to tuple"
          ]
        }
      ],
      "source": [
        "# Solução\n",
        "meses = meses + (\"Abril\")\n",
        "print(meses)\n",
        "# Não é possivel modificar dados de uma tupla"
      ]
    },
    {
      "cell_type": "markdown",
      "id": "4665f2df-6d85-47e9-9b90-48b6b78aa693",
      "metadata": {
        "id": "4665f2df-6d85-47e9-9b90-48b6b78aa693"
      },
      "source": [
        "#### Exercício 23\n",
        "\n",
        "Acesse e imprima o primeiro mês da tupla meses."
      ]
    },
    {
      "cell_type": "code",
      "execution_count": 6,
      "id": "ddf3c436-d8cd-458f-93f2-6a575d8758a3",
      "metadata": {
        "id": "ddf3c436-d8cd-458f-93f2-6a575d8758a3",
        "colab": {
          "base_uri": "https://localhost:8080/"
        },
        "outputId": "8e2fc07d-b4c6-4ea4-c3ff-ea0e3ab7a9be"
      },
      "outputs": [
        {
          "output_type": "stream",
          "name": "stdout",
          "text": [
            "Janeiro\n"
          ]
        }
      ],
      "source": [
        "# Solução\n",
        "\n",
        "print(meses[0])"
      ]
    },
    {
      "cell_type": "markdown",
      "id": "13282da2-0809-4e72-9cd3-a50c18c82ff6",
      "metadata": {
        "id": "13282da2-0809-4e72-9cd3-a50c18c82ff6"
      },
      "source": [
        "#### Exercício 24\n",
        "\n",
        "Crie um dicionário chamado filme com as seguintes chaves e valores:\n",
        "\n",
        "- titulo = \"O Poderoso Chefão\",\n",
        "- ano = 1972\n",
        "- diretor = \"Francis Ford Coppola\""
      ]
    },
    {
      "cell_type": "code",
      "execution_count": 7,
      "id": "162806ad-04aa-4870-8927-dd628a9eb526",
      "metadata": {
        "id": "162806ad-04aa-4870-8927-dd628a9eb526",
        "colab": {
          "base_uri": "https://localhost:8080/"
        },
        "outputId": "a020f9aa-0aa9-4cd4-d256-bea93ddcc6a7"
      },
      "outputs": [
        {
          "output_type": "stream",
          "name": "stdout",
          "text": [
            "{'titulo': 'O Poderoso Chefão', 'ano': 1972, 'diretor': 'Francis Ford Coppola'}\n"
          ]
        }
      ],
      "source": [
        "# Solução\n",
        "filme = {\n",
        "    \"titulo\": \"O Poderoso Chefão\",\n",
        "    \"ano\": 1972,\n",
        "    \"diretor\": \"Francis Ford Coppola\"\n",
        "}\n",
        "print(filme)"
      ]
    },
    {
      "cell_type": "markdown",
      "id": "9e4135b1-2411-4d28-a145-85f476ae2eae",
      "metadata": {
        "id": "9e4135b1-2411-4d28-a145-85f476ae2eae"
      },
      "source": [
        "#### Exercício 25\n",
        "\n",
        "Acesse e imprima o ano de lançamento do filme a partir do dicionário."
      ]
    },
    {
      "cell_type": "code",
      "execution_count": 8,
      "id": "5e7e177e-c3e2-43f8-8cda-9b9fffb6729b",
      "metadata": {
        "id": "5e7e177e-c3e2-43f8-8cda-9b9fffb6729b",
        "colab": {
          "base_uri": "https://localhost:8080/"
        },
        "outputId": "f5eef0b7-ed45-4818-b5cb-fe0d50940c74"
      },
      "outputs": [
        {
          "output_type": "stream",
          "name": "stdout",
          "text": [
            "1972\n"
          ]
        }
      ],
      "source": [
        "# Solução\n",
        "print(filme[\"ano\"])"
      ]
    },
    {
      "cell_type": "markdown",
      "id": "f9eb71eb-57a7-4311-b7fa-cea61b755f7a",
      "metadata": {
        "id": "f9eb71eb-57a7-4311-b7fa-cea61b755f7a"
      },
      "source": [
        "#### Exercício 26\n",
        "\n",
        "Adicione uma nova chave genero com o valor \"Drama\" ao dicionário filme e imprima o dicionário completo."
      ]
    },
    {
      "cell_type": "code",
      "execution_count": 9,
      "id": "dc5441d5-9a10-4cb8-9e7d-ea83173e2833",
      "metadata": {
        "id": "dc5441d5-9a10-4cb8-9e7d-ea83173e2833",
        "colab": {
          "base_uri": "https://localhost:8080/"
        },
        "outputId": "7243dd4e-7f97-4b3a-9bce-5c6e2611c7d6"
      },
      "outputs": [
        {
          "output_type": "execute_result",
          "data": {
            "text/plain": [
              "{'titulo': 'O Poderoso Chefão', 'ano': 1972, 'diretor': 'Francis Ford Coppola'}"
            ]
          },
          "metadata": {},
          "execution_count": 9
        }
      ],
      "source": [
        "# Solução\n",
        "filme"
      ]
    },
    {
      "cell_type": "markdown",
      "id": "c9df05f7-78ce-4fd0-965f-3ae33c4e792e",
      "metadata": {
        "id": "c9df05f7-78ce-4fd0-965f-3ae33c4e792e"
      },
      "source": [
        "#### Exercício 27\n",
        "\n",
        "Modifique o valor da chave ano para 1973 e imprima o dicionário atualizado."
      ]
    },
    {
      "cell_type": "code",
      "execution_count": 11,
      "id": "95d231e5-2604-4d1b-b326-06b136d470c7",
      "metadata": {
        "id": "95d231e5-2604-4d1b-b326-06b136d470c7",
        "colab": {
          "base_uri": "https://localhost:8080/"
        },
        "outputId": "87036572-fec4-44fe-bada-edcd8ed25e34"
      },
      "outputs": [
        {
          "output_type": "stream",
          "name": "stdout",
          "text": [
            "{'titulo': 'O Poderoso Chefão', 'ano': 1973, 'diretor': 'Francis Ford Coppola'}\n"
          ]
        }
      ],
      "source": [
        "# @title Texto de título predefinido\n",
        "# Solução\n",
        "filme[\"ano\"] = 1973\n",
        "print(filme)"
      ]
    },
    {
      "cell_type": "markdown",
      "id": "d9ccfccb-510e-4e20-9db6-ac197c66675c",
      "metadata": {
        "id": "d9ccfccb-510e-4e20-9db6-ac197c66675c"
      },
      "source": [
        "#### Exercício 28\n",
        "\n",
        "Crie uma lista com os seguintes números: [1, 2, 2, 3, 4, 4, 5, 1]. Use um conjunto para remover os números duplicados e imprima o resultado."
      ]
    },
    {
      "cell_type": "code",
      "execution_count": 12,
      "id": "6782e15b-7c5d-4bea-93f3-7b3f0b767d7c",
      "metadata": {
        "id": "6782e15b-7c5d-4bea-93f3-7b3f0b767d7c",
        "colab": {
          "base_uri": "https://localhost:8080/"
        },
        "outputId": "ac4e6a50-363a-4da6-a5e2-4ae675adedd4"
      },
      "outputs": [
        {
          "output_type": "stream",
          "name": "stdout",
          "text": [
            "{1, 2, 3, 4, 5}\n"
          ]
        }
      ],
      "source": [
        "# Solução\n",
        "conjunto = [1, 2, 2, 3, 4, 4, 5, 1]\n",
        "conjunto = set(conjunto)\n",
        "print(conjunto)"
      ]
    },
    {
      "cell_type": "markdown",
      "id": "f64f5c64-7c69-4156-8435-a8234f6e98d1",
      "metadata": {
        "id": "f64f5c64-7c69-4156-8435-a8234f6e98d1"
      },
      "source": [
        "#### Exercício 29\n",
        "\n",
        "Crie dois conjuntos:\n",
        "\n",
        "- set_a = {1, 2, 3, 4}\n",
        "- set_b = {3, 4, 5, 6}\n",
        "\n",
        "Encontre e imprima a interseção entre os dois conjuntos (os elementos que estão em ambos)."
      ]
    },
    {
      "cell_type": "code",
      "execution_count": 13,
      "id": "8e59a4ae-e5a1-4411-b5db-4efbe0e131d4",
      "metadata": {
        "id": "8e59a4ae-e5a1-4411-b5db-4efbe0e131d4",
        "colab": {
          "base_uri": "https://localhost:8080/"
        },
        "outputId": "8a69ddb6-1309-46f4-8693-2bda6f7bfcc4"
      },
      "outputs": [
        {
          "output_type": "stream",
          "name": "stdout",
          "text": [
            "{3, 4}\n"
          ]
        }
      ],
      "source": [
        "# Solução\n",
        "set_a = {1, 2, 3, 4}\n",
        "set_b = {3, 4, 5, 6}\n",
        "intersecao = set_a.intersection(set_b)\n",
        "print(intersecao)"
      ]
    },
    {
      "cell_type": "markdown",
      "id": "e973b983-543d-42f1-893a-b8ff175e79a0",
      "metadata": {
        "id": "e973b983-543d-42f1-893a-b8ff175e79a0"
      },
      "source": [
        "#### Exercício 30\n",
        "\n",
        "Escreva um programa que peça ao usuário para digitar sua altura em metros (ex: 1.75) e seu peso em quilogramas (ex: 68.5). Calcule o Índice de Massa Corporal (IMC) usando a fórmula IMC = peso / (altura * altura) e imprima o resultado formatado com duas casas decimais."
      ]
    },
    {
      "cell_type": "code",
      "execution_count": 16,
      "id": "43318952-de1b-41a5-89e8-2115b726a07b",
      "metadata": {
        "id": "43318952-de1b-41a5-89e8-2115b726a07b",
        "colab": {
          "base_uri": "https://localhost:8080/"
        },
        "outputId": "1730fe1e-cf24-47f1-dcf4-3089f3789c3f"
      },
      "outputs": [
        {
          "output_type": "stream",
          "name": "stdout",
          "text": [
            "Digite a sua altura1.70\n",
            "digite o seu peso116\n",
            "Seu IMC é: (imc)\n"
          ]
        }
      ],
      "source": [
        "# Solução\n",
        "altura = float(input(\"Digite a sua altura\"))\n",
        "peso = float(input(\"digite o seu peso\"))\n",
        "imc = peso / (altura * altura)\n",
        "print(f\"Seu IMC é: ({imc:.2f})\")"
      ]
    },
    {
      "cell_type": "markdown",
      "id": "800eb189-a900-4307-a31c-910e5bb1e6c9",
      "metadata": {
        "id": "800eb189-a900-4307-a31c-910e5bb1e6c9"
      },
      "source": [
        "# Fim"
      ]
    }
  ],
  "metadata": {
    "kernelspec": {
      "display_name": "Python 3 (ipykernel)",
      "language": "python",
      "name": "python3"
    },
    "language_info": {
      "codemirror_mode": {
        "name": "ipython",
        "version": 3
      },
      "file_extension": ".py",
      "mimetype": "text/x-python",
      "name": "python",
      "nbconvert_exporter": "python",
      "pygments_lexer": "ipython3",
      "version": "3.13.5"
    },
    "colab": {
      "provenance": []
    }
  },
  "nbformat": 4,
  "nbformat_minor": 5
}